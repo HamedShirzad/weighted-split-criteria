{
 "cells": [
  {
   "cell_type": "code",
   "execution_count": null,
   "id": "56df20ec-4453-4207-aefb-decf7d827116",
   "metadata": {},
   "outputs": [],
   "source": []
  },
  {
   "cell_type": "code",
   "execution_count": 1,
   "id": "2c1949b4-e94b-4735-bce1-3d826277c994",
   "metadata": {},
   "outputs": [
    {
     "name": "stdout",
     "output_type": "stream",
     "text": [
      "   Age  LastTransaction  Churn  Gender_female  Gender_male  \\\n",
      "0   38              171      1              0            1   \n",
      "1   24              140      1              1            0   \n",
      "2   82               39      0              0            1   \n",
      "3   34              217      1              0            1   \n",
      "4   70              170      0              1            0   \n",
      "\n",
      "   Payment Method_cash  Payment Method_cheque  Payment Method_credit card  \n",
      "0                    0                      1                           0  \n",
      "1                    0                      1                           0  \n",
      "2                    1                      0                           0  \n",
      "3                    1                      0                           0  \n",
      "4                    0                      1                           0  \n",
      "<class 'pandas.core.frame.DataFrame'>\n",
      "RangeIndex: 30 entries, 0 to 29\n",
      "Data columns (total 8 columns):\n",
      " #   Column                      Non-Null Count  Dtype\n",
      "---  ------                      --------------  -----\n",
      " 0   Age                         30 non-null     int64\n",
      " 1   LastTransaction             30 non-null     int64\n",
      " 2   Churn                       30 non-null     int64\n",
      " 3   Gender_female               30 non-null     int64\n",
      " 4   Gender_male                 30 non-null     int64\n",
      " 5   Payment Method_cash         30 non-null     int64\n",
      " 6   Payment Method_cheque       30 non-null     int64\n",
      " 7   Payment Method_credit card  30 non-null     int64\n",
      "dtypes: int64(8)\n",
      "memory usage: 2.0 KB\n",
      "None\n"
     ]
    }
   ],
   "source": [
    "import pandas as pd\n",
    "\n",
    "df = pd.read_csv(\"sample_dataset_30_numeric.csv\")\n",
    "print(df.head())\n",
    "print(df.info())\n"
   ]
  },
  {
   "cell_type": "code",
   "execution_count": 2,
   "id": "25d27939-639c-4292-8e67-1af6ae92f52a",
   "metadata": {
    "scrolled": true
   },
   "outputs": [
    {
     "name": "stdout",
     "output_type": "stream",
     "text": [
      "شکل X: (30, 7)\n",
      "شکل y: (30,)\n"
     ]
    }
   ],
   "source": [
    "# جدا کردن ویژگی‌ها و برچسب‌ها\n",
    "X = df.drop(columns=[\"Churn\"])\n",
    "y = df[\"Churn\"]\n",
    "\n",
    "print(\"شکل X:\", X.shape)\n",
    "print(\"شکل y:\", y.shape)\n",
    "\n",
    "# به صورت آرایه numpy دربیاریم (اگر لازم باشه)\n",
    "X_array = X.values\n",
    "y_array = y.values\n"
   ]
  },
  {
   "cell_type": "code",
   "execution_count": 4,
   "id": "0ae11eb4-dda3-43d4-9179-4272fb5c4433",
   "metadata": {},
   "outputs": [],
   "source": [
    "import sys\n",
    "sys.path.append(r\"C:\\Users\\HsH-HsH\\weighted_split_criteria\\src\")\n"
   ]
  },
  {
   "cell_type": "code",
   "execution_count": 5,
   "id": "e5eac7bf-56b5-4796-9e80-bd848e3a7055",
   "metadata": {},
   "outputs": [
    {
     "name": "stdout",
     "output_type": "stream",
     "text": [
      "Model fit successfully.\n",
      "Module weighted_decision_tree با موفقیت ایمپورت شد.\n"
     ]
    }
   ],
   "source": [
    "import sys\n",
    "sys.path.append(r\"C:\\Users\\HsH-HsH\\weighted_split_criteria\\src\")\n",
    "\n",
    "from model.weighted_decision_tree import WeightedDecisionTreeModel\n",
    "\n",
    "print(\"Module weighted_decision_tree با موفقیت ایمپورت شد.\")\n"
   ]
  },
  {
   "cell_type": "code",
   "execution_count": 6,
   "id": "3eaac68f-cf9c-4938-a64f-2219402ff9b0",
   "metadata": {},
   "outputs": [
    {
     "name": "stdout",
     "output_type": "stream",
     "text": [
      "نمونه مدل ساخته شد.\n"
     ]
    }
   ],
   "source": [
    "model = WeightedDecisionTreeModel(X_data=X_array)\n",
    "print(\"نمونه مدل ساخته شد.\")\n"
   ]
  },
  {
   "cell_type": "code",
   "execution_count": 7,
   "id": "b4da89b5-d3dc-4827-83bc-ecde4db59f3d",
   "metadata": {},
   "outputs": [
    {
     "name": "stdout",
     "output_type": "stream",
     "text": [
      "Model fit successfully.\n"
     ]
    }
   ],
   "source": [
    "model.fit(X_array, y_array)\n",
    "print(\"Model fit successfully.\")\n",
    "\n"
   ]
  },
  {
   "cell_type": "code",
   "execution_count": 10,
   "id": "4e3e346d-62fd-4026-a7d0-a97da09d8bd1",
   "metadata": {},
   "outputs": [
    {
     "ename": "NameError",
     "evalue": "name 'X_test' is not defined",
     "output_type": "error",
     "traceback": [
      "\u001b[1;31m---------------------------------------------------------------------------\u001b[0m",
      "\u001b[1;31mNameError\u001b[0m                                 Traceback (most recent call last)",
      "Cell \u001b[1;32mIn[10], line 5\u001b[0m\n\u001b[0;32m      2\u001b[0m \u001b[38;5;28;01mfrom\u001b[39;00m \u001b[38;5;21;01msklearn\u001b[39;00m\u001b[38;5;21;01m.\u001b[39;00m\u001b[38;5;21;01mmetrics\u001b[39;00m \u001b[38;5;28;01mimport\u001b[39;00m accuracy_score, confusion_matrix, classification_report\n\u001b[0;32m      4\u001b[0m \u001b[38;5;66;03m# دریافت احتمال پیش‌بینی هر کلاس روی داده تست\u001b[39;00m\n\u001b[1;32m----> 5\u001b[0m y_proba \u001b[38;5;241m=\u001b[39m model\u001b[38;5;241m.\u001b[39mmodel\u001b[38;5;241m.\u001b[39mpredict_proba(\u001b[43mX_test\u001b[49m)\n\u001b[0;32m      7\u001b[0m \u001b[38;5;66;03m# تبدیل احتمال‌ها به برچسب با بیشترین احتمال\u001b[39;00m\n\u001b[0;32m      8\u001b[0m y_pred \u001b[38;5;241m=\u001b[39m np\u001b[38;5;241m.\u001b[39margmax(y_proba, axis\u001b[38;5;241m=\u001b[39m\u001b[38;5;241m1\u001b[39m)\n",
      "\u001b[1;31mNameError\u001b[0m: name 'X_test' is not defined"
     ]
    }
   ],
   "source": [
    "import numpy as np\n",
    "from sklearn.metrics import accuracy_score, confusion_matrix, classification_report\n",
    "\n",
    "# دریافت احتمال پیش‌بینی هر کلاس روی داده تست\n",
    "y_proba = model.model.predict_proba(X_test)\n",
    "\n",
    "# تبدیل احتمال‌ها به برچسب با بیشترین احتمال\n",
    "y_pred = np.argmax(y_proba, axis=1)\n",
    "\n",
    "# سپس ارزیابی مدل روی این برچسب‌ها\n",
    "acc = accuracy_score(y_test, y_pred)\n",
    "print(f\"Accuracy: {acc:.4f}\")\n",
    "\n",
    "cm = confusion_matrix(y_test, y_pred)\n",
    "print(\"Confusion Matrix:\")\n",
    "print(cm)\n",
    "\n",
    "report = classification_report(y_test, y_pred)\n",
    "print(\"Classification Report:\")\n",
    "print(report)\n"
   ]
  },
  {
   "cell_type": "code",
   "execution_count": 11,
   "id": "65797d6e-96fa-4378-87dc-87bbe2d30bc7",
   "metadata": {},
   "outputs": [
    {
     "name": "stdout",
     "output_type": "stream",
     "text": [
      "شکل X_train: (24, 7)\n",
      "شکل X_test: (6, 7)\n",
      "شکل y_train: (24,)\n",
      "شکل y_test: (6,)\n"
     ]
    }
   ],
   "source": [
    "from sklearn.model_selection import train_test_split\n",
    "\n",
    "# جدا کردن مجموعه آموزش و تست\n",
    "X_train, X_test, y_train, y_test = train_test_split(X_array, y_array, test_size=0.2, random_state=42)\n",
    "\n",
    "print(\"شکل X_train:\", X_train.shape)\n",
    "print(\"شکل X_test:\", X_test.shape)\n",
    "print(\"شکل y_train:\", y_train.shape)\n",
    "print(\"شکل y_test:\", y_test.shape)\n"
   ]
  },
  {
   "cell_type": "code",
   "execution_count": 12,
   "id": "7ad97538-654a-453a-bea3-6c7b2fb73ebb",
   "metadata": {},
   "outputs": [],
   "source": [
    "# ساخت مدل و آموزش\n",
    "model = WeightedDecisionTreeModel(X_data=X_train)\n",
    "model.fit(X_train, y_train)\n",
    "\n",
    "# پیش‌بینی احتمال کلاس‌ها روی داده تست\n",
    "y_proba = model.model.predict_proba\n"
   ]
  },
  {
   "cell_type": "code",
   "execution_count": 15,
   "id": "fce2951d-a0f3-4998-807d-0fb7dc00082e",
   "metadata": {},
   "outputs": [],
   "source": [
    "import numpy as np\n",
    "y_proba = model.model.predict_proba(X_test)\n",
    "y_pred = np.argmax(y_proba, axis=1)\n",
    "import numpy as np\n",
    "y_proba = model.model.predict_proba(X_test)\n",
    "y_pred = np.argmax(y_proba, axis=1)\n"
   ]
  },
  {
   "cell_type": "code",
   "execution_count": 16,
   "id": "8a4f7852-d302-4cf4-8540-748a4f4fdf49",
   "metadata": {},
   "outputs": [
    {
     "name": "stdout",
     "output_type": "stream",
     "text": [
      "دقت مدل: 0.3333333333333333\n",
      "ماتریس آشفتگی:\n",
      " [[0 2]\n",
      " [2 2]]\n",
      "گزارش طبقه‌بندی:\n",
      "               precision    recall  f1-score   support\n",
      "\n",
      "           0       0.00      0.00      0.00         2\n",
      "           1       0.50      0.50      0.50         4\n",
      "\n",
      "    accuracy                           0.33         6\n",
      "   macro avg       0.25      0.25      0.25         6\n",
      "weighted avg       0.33      0.33      0.33         6\n",
      "\n"
     ]
    }
   ],
   "source": [
    "from sklearn.metrics import accuracy_score, confusion_matrix, classification_report\n",
    "\n",
    "acc = accuracy_score(y_test, y_pred)\n",
    "cm = confusion_matrix(y_test, y_pred)\n",
    "report = classification_report(y_test, y_pred)\n",
    "\n",
    "print(f\"دقت مدل: {acc}\")\n",
    "print(\"ماتریس آشفتگی:\\n\", cm)\n",
    "print(\"گزارش طبقه‌بندی:\\n\", report)\n"
   ]
  },
  {
   "cell_type": "code",
   "execution_count": 17,
   "id": "1a6c55a1-9048-4aa2-8ead-ccf006e80b4d",
   "metadata": {},
   "outputs": [
    {
     "name": "stdout",
     "output_type": "stream",
     "text": [
      "False Negatives (FN): 2\n"
     ]
    }
   ],
   "source": [
    "FN = cm[1, 0]\n",
    "print(\"False Negatives (FN):\", FN)\n"
   ]
  },
  {
   "cell_type": "code",
   "execution_count": null,
   "id": "5dca978e-d56c-4cf4-9b8a-b23bf123a418",
   "metadata": {},
   "outputs": [],
   "source": []
  }
 ],
 "metadata": {
  "kernelspec": {
   "display_name": "Python 3 (ipykernel)",
   "language": "python",
   "name": "python3"
  },
  "language_info": {
   "codemirror_mode": {
    "name": "ipython",
    "version": 3
   },
   "file_extension": ".py",
   "mimetype": "text/x-python",
   "name": "python",
   "nbconvert_exporter": "python",
   "pygments_lexer": "ipython3",
   "version": "3.12.0"
  }
 },
 "nbformat": 4,
 "nbformat_minor": 5
}
