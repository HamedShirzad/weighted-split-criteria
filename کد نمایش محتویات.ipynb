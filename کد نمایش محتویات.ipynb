{
 "cells": [
  {
   "cell_type": "code",
   "execution_count": 1,
   "id": "47a128a2-0a21-41bd-b7ce-c3e8991882cc",
   "metadata": {},
   "outputs": [
    {
     "name": "stdout",
     "output_type": "stream",
     "text": [
      "weighted_split_criteria/\n",
      "    .gitignore\n",
      "    git\n",
      "    README.md\n",
      "    requirements.txt\n",
      "    Untitled.ipynb\n",
      "    __init__.py\n",
      "    .git/\n",
      "        COMMIT_EDITMSG\n",
      "        config\n",
      "        description\n",
      "        HEAD\n",
      "        index\n",
      "        fsmonitor--daemon/\n",
      "        hooks/\n",
      "            applypatch-msg.sample\n",
      "            commit-msg.sample\n",
      "            fsmonitor-watchman.sample\n",
      "            post-update.sample\n",
      "            pre-applypatch.sample\n",
      "            pre-commit.sample\n",
      "            pre-merge-commit.sample\n",
      "            pre-push.sample\n",
      "            pre-rebase.sample\n",
      "            pre-receive.sample\n",
      "            prepare-commit-msg.sample\n",
      "            push-to-checkout.sample\n",
      "            update.sample\n",
      "        info/\n",
      "            exclude\n",
      "        logs/\n",
      "            HEAD\n",
      "        objects/\n",
      "        refs/\n",
      "    .ipynb_checkpoints/\n",
      "        Untitled-checkpoint.ipynb\n",
      "    data/\n",
      "        .gitkeep\n",
      "        dataset.csv\n",
      "        Untitled.ipynb\n",
      "        .ipynb_checkpoints/\n",
      "            Untitled-checkpoint.ipynb\n",
      "        processed/\n",
      "        raw/\n",
      "    notebooks/\n",
      "        Data_Preprocessing.ipynb\n",
      "        .ipynb_checkpoints/\n",
      "            Data_Preprocessing-checkpoint.ipynb\n",
      "        datasets/\n",
      "            customer_churn_data.csv\n",
      "            customer_churn_data_preprocessed.csv\n",
      "        model_training/\n",
      "            2weighted_decision_tree_training.ipynb\n",
      "            3weighted_decision_tree_training.ipynb\n",
      "            weighted_decision_tree_training.ipynb\n",
      "    notes/\n",
      "        BHY_Bhattacharyya.md\n",
      "        CS_Chi_Squared.md\n",
      "        DKM_Dietterich_Kearns_Mansour.md\n",
      "        GI_Gini_Impurity.md\n",
      "        GS_G_Statistic.md\n",
      "        KGV_Kolmogorov.md\n",
      "        MARSH_Marshall_Criterion.md\n",
      "        MCH_Multi_Class_Hellinger.md\n",
      "        NG_Normalized_Gain.md\n",
      "        QG_Quinlan_Gain.md\n",
      "        README.md\n",
      "        TW_Twoing_Criterion.md\n",
      "    outputs/\n",
      "        .gitkeep\n",
      "        figures/\n",
      "        New folder/\n",
      "        results/\n",
      "    src/\n",
      "        .gitkeep\n",
      "        __init__.py\n",
      "        criteria/\n",
      "            base.py\n",
      "            bhy.py\n",
      "            cs.py\n",
      "            dkm.py\n",
      "            gini.py\n",
      "            gs.py\n",
      "            ks.py\n",
      "            marsh.py\n",
      "            mch.py\n",
      "            ng.py\n",
      "            qg.py\n",
      "            twoing.py\n",
      "            __init__.py\n",
      "        examples/\n",
      "        model/\n",
      "            weighted_decision_tree.py\n",
      "            weighted_decision_tree_Copy.py\n",
      "            __init__.py\n",
      "        tree/\n",
      "        utils/\n",
      "            fn_metric.py\n",
      "            voting_split_manager.py\n",
      "            __init__.py\n",
      "        __pycache__/\n",
      "            __init__.cpython-312.pyc\n",
      "    tests/\n"
     ]
    }
   ],
   "source": [
    "import os\n",
    "\n",
    "project_path = r\"C:\\Users\\HsH-HsH\\weighted_split_criteria\"  # مسیر پروژه\n",
    "max_depth = 3  # حداکثر عمق پوشه‌ها که میخوای نشون داده بشه\n",
    "\n",
    "for root, dirs, files in os.walk(project_path):\n",
    "    level = root.replace(project_path, \"\").count(os.sep)\n",
    "    if level < max_depth:\n",
    "        indent = \" \" * 4 * level\n",
    "        print(f\"{indent}{os.path.basename(root)}/\")\n",
    "        subindent = \" \" * 4 * (level + 1)\n",
    "        for f in files:\n",
    "            print(f\"{subindent}{f}\")\n"
   ]
  },
  {
   "cell_type": "code",
   "execution_count": 1,
   "id": "a7822c07-6a97-45ed-b36f-d3f8a2a901bc",
   "metadata": {},
   "outputs": [
    {
     "name": "stdout",
     "output_type": "stream",
     "text": [
      "weighted_split_criteria/\n"
     ]
    },
    {
     "name": "stderr",
     "output_type": "stream",
     "text": [
      "پردازش weighted_split_criteria: 100%|████████████████████| 6/6 [00:00<?, ?it/s]\n"
     ]
    },
    {
     "name": "stdout",
     "output_type": "stream",
     "text": [
      "    .gitignore\n",
      "    git\n",
      "    README.md\n",
      "    requirements.txt\n",
      "    __init__.py\n",
      "    کد نمایش محتویات.ipynb\n",
      "    .git/\n"
     ]
    },
    {
     "name": "stderr",
     "output_type": "stream",
     "text": [
      "پردازش .git: 100%|███████████████████████████████████████| 5/5 [00:00<?, ?it/s]\n"
     ]
    },
    {
     "name": "stdout",
     "output_type": "stream",
     "text": [
      "        COMMIT_EDITMSG\n",
      "        config\n",
      "        description\n",
      "        HEAD\n",
      "        index\n",
      "        fsmonitor--daemon/\n"
     ]
    },
    {
     "name": "stderr",
     "output_type": "stream",
     "text": [
      "پردازش fsmonitor--daemon: 0it [00:00, ?it/s]\n"
     ]
    },
    {
     "name": "stdout",
     "output_type": "stream",
     "text": [
      "        hooks/\n"
     ]
    },
    {
     "name": "stderr",
     "output_type": "stream",
     "text": [
      "پردازش hooks: 100%|████████████████████████████████████| 13/13 [00:00<?, ?it/s]\n"
     ]
    },
    {
     "name": "stdout",
     "output_type": "stream",
     "text": [
      "            applypatch-msg.sample\n",
      "            commit-msg.sample\n",
      "            fsmonitor-watchman.sample\n",
      "            post-update.sample\n",
      "            pre-applypatch.sample\n",
      "            pre-commit.sample\n",
      "            pre-merge-commit.sample\n",
      "            pre-push.sample\n",
      "            pre-rebase.sample\n",
      "            pre-receive.sample\n",
      "            prepare-commit-msg.sample\n",
      "            push-to-checkout.sample\n",
      "            update.sample\n",
      "        info/\n"
     ]
    },
    {
     "name": "stderr",
     "output_type": "stream",
     "text": [
      "پردازش info: 100%|███████████████████████████████████████| 1/1 [00:00<?, ?it/s]\n"
     ]
    },
    {
     "name": "stdout",
     "output_type": "stream",
     "text": [
      "            exclude\n",
      "        logs/\n"
     ]
    },
    {
     "name": "stderr",
     "output_type": "stream",
     "text": [
      "پردازش logs: 100%|███████████████████████████████████████| 1/1 [00:00<?, ?it/s]\n"
     ]
    },
    {
     "name": "stdout",
     "output_type": "stream",
     "text": [
      "            HEAD\n",
      "        objects/\n"
     ]
    },
    {
     "name": "stderr",
     "output_type": "stream",
     "text": [
      "پردازش objects: 0it [00:00, ?it/s]\n"
     ]
    },
    {
     "name": "stdout",
     "output_type": "stream",
     "text": [
      "        refs/\n"
     ]
    },
    {
     "name": "stderr",
     "output_type": "stream",
     "text": [
      "پردازش refs: 0it [00:00, ?it/s]\n"
     ]
    },
    {
     "name": "stdout",
     "output_type": "stream",
     "text": [
      "    .ipynb_checkpoints/\n"
     ]
    },
    {
     "name": "stderr",
     "output_type": "stream",
     "text": [
      "پردازش .ipynb_checkpoints: 100%|█████████████████████████| 1/1 [00:00<?, ?it/s]\n"
     ]
    },
    {
     "name": "stdout",
     "output_type": "stream",
     "text": [
      "        کد نمایش محتویات-checkpoint.ipynb\n",
      "    data/\n"
     ]
    },
    {
     "name": "stderr",
     "output_type": "stream",
     "text": [
      "پردازش data: 100%|███████████████████████████████████████| 3/3 [00:00<?, ?it/s]\n"
     ]
    },
    {
     "name": "stdout",
     "output_type": "stream",
     "text": [
      "        .gitkeep\n",
      "        dataset.csv\n",
      "        Untitled.ipynb\n",
      "        .ipynb_checkpoints/\n"
     ]
    },
    {
     "name": "stderr",
     "output_type": "stream",
     "text": [
      "پردازش .ipynb_checkpoints: 100%|█████████████████████████| 1/1 [00:00<?, ?it/s]\n"
     ]
    },
    {
     "name": "stdout",
     "output_type": "stream",
     "text": [
      "            Untitled-checkpoint.ipynb\n",
      "        processed/\n"
     ]
    },
    {
     "name": "stderr",
     "output_type": "stream",
     "text": [
      "پردازش processed: 0it [00:00, ?it/s]\n"
     ]
    },
    {
     "name": "stdout",
     "output_type": "stream",
     "text": [
      "        raw/\n"
     ]
    },
    {
     "name": "stderr",
     "output_type": "stream",
     "text": [
      "پردازش raw: 0it [00:00, ?it/s]\n"
     ]
    },
    {
     "name": "stdout",
     "output_type": "stream",
     "text": [
      "    notebooks/\n"
     ]
    },
    {
     "name": "stderr",
     "output_type": "stream",
     "text": [
      "پردازش notebooks: 100%|██████████████████████████████████| 1/1 [00:00<?, ?it/s]\n"
     ]
    },
    {
     "name": "stdout",
     "output_type": "stream",
     "text": [
      "        Data_Preprocessing.ipynb\n",
      "        .ipynb_checkpoints/\n"
     ]
    },
    {
     "name": "stderr",
     "output_type": "stream",
     "text": [
      "پردازش .ipynb_checkpoints: 100%|█████████████████████████| 1/1 [00:00<?, ?it/s]\n"
     ]
    },
    {
     "name": "stdout",
     "output_type": "stream",
     "text": [
      "            Data_Preprocessing-checkpoint.ipynb\n",
      "        datasets/\n"
     ]
    },
    {
     "name": "stderr",
     "output_type": "stream",
     "text": [
      "پردازش datasets: 100%|███████████████████████████████████| 2/2 [00:00<?, ?it/s]\n"
     ]
    },
    {
     "name": "stdout",
     "output_type": "stream",
     "text": [
      "            customer_churn_data.csv\n",
      "            customer_churn_data_preprocessed.csv\n",
      "        model_training/\n"
     ]
    },
    {
     "name": "stderr",
     "output_type": "stream",
     "text": [
      "پردازش model_training: 100%|█████████████████████████████| 3/3 [00:00<?, ?it/s]\n"
     ]
    },
    {
     "name": "stdout",
     "output_type": "stream",
     "text": [
      "            2weighted_decision_tree_training.ipynb\n",
      "            3weighted_decision_tree_training.ipynb\n",
      "            weighted_decision_tree_training.ipynb\n",
      "    notes/\n"
     ]
    },
    {
     "name": "stderr",
     "output_type": "stream",
     "text": [
      "پردازش notes: 100%|████████████████████████████████████| 12/12 [00:00<?, ?it/s]\n"
     ]
    },
    {
     "name": "stdout",
     "output_type": "stream",
     "text": [
      "        BHY_Bhattacharyya.md\n",
      "        CS_Chi_Squared.md\n",
      "        DKM_Dietterich_Kearns_Mansour.md\n",
      "        GI_Gini_Impurity.md\n",
      "        GS_G_Statistic.md\n",
      "        KGV_Kolmogorov.md\n",
      "        MARSH_Marshall_Criterion.md\n",
      "        MCH_Multi_Class_Hellinger.md\n",
      "        NG_Normalized_Gain.md\n",
      "        QG_Quinlan_Gain.md\n",
      "        README.md\n",
      "        TW_Twoing_Criterion.md\n",
      "    outputs/\n"
     ]
    },
    {
     "name": "stderr",
     "output_type": "stream",
     "text": [
      "پردازش outputs: 100%|████████████████████████████████████| 1/1 [00:00<?, ?it/s]\n"
     ]
    },
    {
     "name": "stdout",
     "output_type": "stream",
     "text": [
      "        .gitkeep\n",
      "        figures/\n"
     ]
    },
    {
     "name": "stderr",
     "output_type": "stream",
     "text": [
      "پردازش figures: 0it [00:00, ?it/s]\n"
     ]
    },
    {
     "name": "stdout",
     "output_type": "stream",
     "text": [
      "        New folder/\n"
     ]
    },
    {
     "name": "stderr",
     "output_type": "stream",
     "text": [
      "پردازش New folder: 0it [00:00, ?it/s]\n"
     ]
    },
    {
     "name": "stdout",
     "output_type": "stream",
     "text": [
      "        results/\n"
     ]
    },
    {
     "name": "stderr",
     "output_type": "stream",
     "text": [
      "پردازش results: 0it [00:00, ?it/s]\n"
     ]
    },
    {
     "name": "stdout",
     "output_type": "stream",
     "text": [
      "    src/\n"
     ]
    },
    {
     "name": "stderr",
     "output_type": "stream",
     "text": [
      "پردازش src: 100%|████████████████████████████████████████| 2/2 [00:00<?, ?it/s]\n"
     ]
    },
    {
     "name": "stdout",
     "output_type": "stream",
     "text": [
      "        .gitkeep\n",
      "        __init__.py\n",
      "        criteria/\n"
     ]
    },
    {
     "name": "stderr",
     "output_type": "stream",
     "text": [
      "پردازش criteria: 100%|█████████████████████████████████| 13/13 [00:00<?, ?it/s]\n"
     ]
    },
    {
     "name": "stdout",
     "output_type": "stream",
     "text": [
      "            base.py\n",
      "            bhy.py\n",
      "            cs.py\n",
      "            dkm.py\n",
      "            gini.py\n",
      "            gs.py\n",
      "            ks.py\n",
      "            marsh.py\n",
      "            mch.py\n",
      "            ng.py\n",
      "            qg.py\n",
      "            twoing.py\n",
      "            __init__.py\n",
      "        examples/\n"
     ]
    },
    {
     "name": "stderr",
     "output_type": "stream",
     "text": [
      "پردازش examples: 0it [00:00, ?it/s]\n"
     ]
    },
    {
     "name": "stdout",
     "output_type": "stream",
     "text": [
      "        model/\n"
     ]
    },
    {
     "name": "stderr",
     "output_type": "stream",
     "text": [
      "پردازش model: 100%|██████████████████████████████████████| 4/4 [00:00<?, ?it/s]\n"
     ]
    },
    {
     "name": "stdout",
     "output_type": "stream",
     "text": [
      "            weighted_decision_tree.py\n",
      "            weighted_decision_tree.txt\n",
      "            weighted_decision_tree_Copy.py\n",
      "            __init__.py\n",
      "        tree/\n"
     ]
    },
    {
     "name": "stderr",
     "output_type": "stream",
     "text": [
      "پردازش tree: 0it [00:00, ?it/s]\n"
     ]
    },
    {
     "name": "stdout",
     "output_type": "stream",
     "text": [
      "        utils/\n"
     ]
    },
    {
     "name": "stderr",
     "output_type": "stream",
     "text": [
      "پردازش utils: 100%|██████████████████████████████████████| 5/5 [00:00<?, ?it/s]\n"
     ]
    },
    {
     "name": "stdout",
     "output_type": "stream",
     "text": [
      "            fn_metric.py\n",
      "            fn_metric.txt\n",
      "            voting_split_manager.py\n",
      "            voting_split_manager.txt\n",
      "            __init__.py\n",
      "        __pycache__/\n"
     ]
    },
    {
     "name": "stderr",
     "output_type": "stream",
     "text": [
      "پردازش __pycache__: 100%|████████████████████████████████| 1/1 [00:00<?, ?it/s]\n"
     ]
    },
    {
     "name": "stdout",
     "output_type": "stream",
     "text": [
      "            __init__.cpython-312.pyc\n",
      "    tests/\n"
     ]
    },
    {
     "name": "stderr",
     "output_type": "stream",
     "text": [
      "پردازش tests: 0it [00:00, ?it/s]\n"
     ]
    }
   ],
   "source": [
    "import os\n",
    "from tqdm import tqdm\n",
    "\n",
    "project_path = r\"C:\\\\Users\\\\HsH-HsH\\\\weighted_split_criteria\"\n",
    "max_depth = 3\n",
    "\n",
    "for root, dirs, files in os.walk(project_path):\n",
    "    level = root.replace(project_path, \"\").count(os.sep)\n",
    "    if level < max_depth:\n",
    "        indent = \" \" * 4 * level\n",
    "        print(f\"{indent}{os.path.basename(root)}/\")\n",
    "        subindent = \" \" * 4 * (level + 1)\n",
    "        \n",
    "        # استفاده از tqdm برای نشان دادن نوار پیشرفت روی حلقه فایل‌ها\n",
    "        for f in tqdm(files, desc=f\"پردازش {os.path.basename(root)}\"):\n",
    "            print(f\"{subindent}{f}\")\n"
   ]
  },
  {
   "cell_type": "code",
   "execution_count": 2,
   "id": "7d99eb52-bd84-48cb-a481-5360fcee9d00",
   "metadata": {},
   "outputs": [
    {
     "name": "stderr",
     "output_type": "stream",
     "text": [
      "پیشرفت کلی: 100%|████████████████████████████| 76/76 [00:00<00:00, 1622.42it/s]"
     ]
    },
    {
     "name": "stdout",
     "output_type": "stream",
     "text": [
      "weighted_split_criteria/\n",
      "    .gitignore\n",
      "    git\n",
      "    README.md\n",
      "    requirements.txt\n",
      "    __init__.py\n",
      "    کد نمایش محتویات.ipynb\n",
      "    .git/\n",
      "        COMMIT_EDITMSG\n",
      "        config\n",
      "        description\n",
      "        HEAD\n",
      "        index\n",
      "        fsmonitor--daemon/\n",
      "        hooks/\n",
      "            applypatch-msg.sample\n",
      "            commit-msg.sample\n",
      "            fsmonitor-watchman.sample\n",
      "            post-update.sample\n",
      "            pre-applypatch.sample\n",
      "            pre-commit.sample\n",
      "            pre-merge-commit.sample\n",
      "            pre-push.sample\n",
      "            pre-rebase.sample\n",
      "            pre-receive.sample\n",
      "            prepare-commit-msg.sample\n",
      "            push-to-checkout.sample\n",
      "            update.sample\n",
      "        info/\n",
      "            exclude\n",
      "        logs/\n",
      "            HEAD\n",
      "        objects/\n",
      "        refs/\n",
      "    .ipynb_checkpoints/\n",
      "        کد نمایش محتویات-checkpoint.ipynb\n",
      "    data/\n",
      "        .gitkeep\n",
      "        dataset.csv\n",
      "        Untitled.ipynb\n",
      "        .ipynb_checkpoints/\n",
      "            Untitled-checkpoint.ipynb\n",
      "        processed/\n",
      "        raw/\n",
      "    notebooks/\n",
      "        Data_Preprocessing.ipynb\n",
      "        .ipynb_checkpoints/\n",
      "            Data_Preprocessing-checkpoint.ipynb\n",
      "        datasets/\n",
      "            customer_churn_data.csv\n",
      "            customer_churn_data_preprocessed.csv\n",
      "        model_training/\n",
      "            2weighted_decision_tree_training.ipynb\n",
      "            3weighted_decision_tree_training.ipynb\n",
      "            weighted_decision_tree_training.ipynb\n",
      "    notes/\n",
      "        BHY_Bhattacharyya.md\n",
      "        CS_Chi_Squared.md\n",
      "        DKM_Dietterich_Kearns_Mansour.md\n",
      "        GI_Gini_Impurity.md\n",
      "        GS_G_Statistic.md\n",
      "        KGV_Kolmogorov.md\n",
      "        MARSH_Marshall_Criterion.md\n",
      "        MCH_Multi_Class_Hellinger.md\n",
      "        NG_Normalized_Gain.md\n",
      "        QG_Quinlan_Gain.md\n",
      "        README.md\n",
      "        TW_Twoing_Criterion.md\n",
      "    outputs/\n",
      "        .gitkeep\n",
      "        figures/\n",
      "        New folder/\n",
      "        results/\n",
      "    src/\n",
      "        .gitkeep\n",
      "        __init__.py\n",
      "        criteria/\n",
      "            base.py\n",
      "            bhy.py\n",
      "            cs.py\n",
      "            dkm.py\n",
      "            gini.py\n",
      "            gs.py\n",
      "            ks.py\n",
      "            marsh.py\n",
      "            mch.py\n",
      "            ng.py\n",
      "            qg.py\n",
      "            twoing.py\n",
      "            __init__.py\n",
      "        examples/\n",
      "        model/\n",
      "            weighted_decision_tree.py\n",
      "            weighted_decision_tree.txt\n",
      "            weighted_decision_tree_Copy.py\n",
      "            __init__.py\n",
      "        tree/\n",
      "        utils/\n",
      "            fn_metric.py\n",
      "            fn_metric.txt\n",
      "            voting_split_manager.py\n",
      "            voting_split_manager.txt\n",
      "            __init__.py\n",
      "        __pycache__/\n",
      "            __init__.cpython-312.pyc\n",
      "    tests/\n"
     ]
    },
    {
     "name": "stderr",
     "output_type": "stream",
     "text": [
      "\n"
     ]
    }
   ],
   "source": [
    "import os\n",
    "from tqdm import tqdm\n",
    "\n",
    "project_path = r\"C:\\\\Users\\\\HsH-HsH\\\\weighted_split_criteria\"\n",
    "max_depth = 3\n",
    "\n",
    "# مرحله 1: شمارش تعداد کل فایل‌ها\n",
    "total_files = 0\n",
    "for root, dirs, files in os.walk(project_path):\n",
    "    level = root.replace(project_path, \"\").count(os.sep)\n",
    "    if level < max_depth:\n",
    "        total_files += len(files)\n",
    "\n",
    "# مرحله 2: نمایش فایل‌ها با یک نوار پیشرفت کلی\n",
    "with tqdm(total=total_files, desc=\"پیشرفت کلی\") as pbar:\n",
    "    for root, dirs, files in os.walk(project_path):\n",
    "        level = root.replace(project_path, \"\").count(os.sep)\n",
    "        if level < max_depth:\n",
    "            indent = \" \" * 4 * level\n",
    "            print(f\"{indent}{os.path.basename(root)}/\")\n",
    "            subindent = \" \" * 4 * (level + 1)\n",
    "            for f in files:\n",
    "                print(f\"{subindent}{f}\")\n",
    "                pbar.update(1)  # هر فایل، نوار پیشرفت یک واحد جلو می‌رود\n"
   ]
  },
  {
   "cell_type": "code",
   "execution_count": null,
   "id": "9772f37a-e5d8-4c62-90bc-ed00d5f64a65",
   "metadata": {},
   "outputs": [],
   "source": []
  }
 ],
 "metadata": {
  "kernelspec": {
   "display_name": "Python 3 (ipykernel)",
   "language": "python",
   "name": "python3"
  },
  "language_info": {
   "codemirror_mode": {
    "name": "ipython",
    "version": 3
   },
   "file_extension": ".py",
   "mimetype": "text/x-python",
   "name": "python",
   "nbconvert_exporter": "python",
   "pygments_lexer": "ipython3",
   "version": "3.12.0"
  }
 },
 "nbformat": 4,
 "nbformat_minor": 5
}
