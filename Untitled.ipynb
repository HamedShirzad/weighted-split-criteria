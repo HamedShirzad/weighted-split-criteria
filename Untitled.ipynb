{
 "cells": [
  {
   "cell_type": "code",
   "execution_count": 2,
   "id": "add6ac78-b284-4591-b1e4-c480bfd5e338",
   "metadata": {},
   "outputs": [
    {
     "name": "stdout",
     "output_type": "stream",
     "text": [
      "   feature1  feature2  feature3  feature4\n",
      "0  0.374540  0.611853  0.122038  0.388677\n",
      "1  0.950714  0.139494  0.495177  0.271349\n",
      "2  0.731994  0.292145  0.034389  0.828738\n",
      "3  0.598658  0.366362  0.909320  0.356753\n",
      "4  0.156019  0.456070  0.258780  0.280935\n",
      "0    11\n",
      "1     9\n",
      "Name: count, dtype: int64\n"
     ]
    }
   ],
   "source": [
    "import numpy as np\n",
    "import pandas as pd\n",
    "\n",
    "# ساخت دیتاست با 20 نمونه و 4 ویژگی عددی\n",
    "np.random.seed(42)\n",
    "X_small = pd.DataFrame({\n",
    "    'feature1': np.random.rand(20),\n",
    "    'feature2': np.random.rand(20),\n",
    "    'feature3': np.random.rand(20),\n",
    "    'feature4': np.random.rand(20)\n",
    "})\n",
    "\n",
    "# ساخت برچسب هدف دودویی 0 و 1\n",
    "y_small = pd.Series(np.random.choice([0, 1], size=20))\n",
    "\n",
    "# نمایش مختصر داده‌ها\n",
    "print(X_small.head())\n",
    "print(y_small.value_counts())\n"
   ]
  },
  {
   "cell_type": "code",
   "execution_count": 3,
   "id": "379637f6-4c26-4476-a9b2-020854fbabb3",
   "metadata": {},
   "outputs": [
    {
     "name": "stdout",
     "output_type": "stream",
     "text": [
      "Dataset saved to small_dataset.csv\n"
     ]
    }
   ],
   "source": [
    "import pandas as pd\n",
    "\n",
    "# ابتدا برچسب‌ها را به دیتافریم ویژگی‌ها اضافه کن\n",
    "df_small = X_small.copy()\n",
    "df_small['target'] = y_small\n",
    "\n",
    "# ذخیره به فایل CSV\n",
    "df_small.to_csv('small_dataset.csv', index=False)\n",
    "print(\"Dataset saved to small_dataset.csv\")\n"
   ]
  },
  {
   "cell_type": "code",
   "execution_count": 4,
   "id": "d3185750-185f-4e52-a41d-7b7f93c90538",
   "metadata": {},
   "outputs": [
    {
     "ename": "SyntaxError",
     "evalue": "(unicode error) 'unicodeescape' codec can't decode bytes in position 2-3: truncated \\UXXXXXXXX escape (3772156924.py, line 8)",
     "output_type": "error",
     "traceback": [
      "\u001b[1;36m  Cell \u001b[1;32mIn[4], line 8\u001b[1;36m\u001b[0m\n\u001b[1;33m    df_small.to_csv('C:\\Users\\HsH-HsH\\weighted_split_criteria\\notebooks\\datasets\\small_dataset.csv', index=False)\u001b[0m\n\u001b[1;37m                    ^\u001b[0m\n\u001b[1;31mSyntaxError\u001b[0m\u001b[1;31m:\u001b[0m (unicode error) 'unicodeescape' codec can't decode bytes in position 2-3: truncated \\UXXXXXXXX escape\n"
     ]
    }
   ],
   "source": [
    "import pandas as pd\n",
    "\n",
    "# ابتدا برچسب‌ها را به دیتافریم ویژگی‌ها اضافه کن\n",
    "df_small = X_small.copy()\n",
    "df_small['target'] = y_small\n",
    "\n",
    "# ذخیره به فایل CSV\n",
    "df_small.to_csv('C:\\Users\\HsH-HsH\\weighted_split_criteria\\notebooks\\datasets\\small_dataset.csv', index=False)\n",
    "print(\"Dataset saved to small_dataset.csv\")\n"
   ]
  },
  {
   "cell_type": "code",
   "execution_count": 5,
   "id": "a06bfbb3-a097-42bc-8036-a8cac4f0c7cf",
   "metadata": {},
   "outputs": [
    {
     "name": "stdout",
     "output_type": "stream",
     "text": [
      "Dataset saved to small_dataset.csv\n"
     ]
    }
   ],
   "source": [
    "import pandas as pd\n",
    "\n",
    "# ابتدا برچسب‌ها را به دیتافریم ویژگی‌ها اضافه کن\n",
    "df_small = X_small.copy()\n",
    "df_small['target'] = y_small\n",
    "\n",
    "# ذخیره به فایل CSV\n",
    "df_small.to_csv(r'C:\\Users\\HsH-HsH\\weighted_split_criteria\\notebooks\\datasets\\small_dataset.csv', index=False)\n",
    "print(\"Dataset saved to small_dataset.csv\")\n"
   ]
  },
  {
   "cell_type": "code",
   "execution_count": null,
   "id": "2aa73ab1-28a3-480b-a1b7-88bf5a905eb1",
   "metadata": {},
   "outputs": [],
   "source": []
  }
 ],
 "metadata": {
  "kernelspec": {
   "display_name": "Python 3 (ipykernel)",
   "language": "python",
   "name": "python3"
  },
  "language_info": {
   "codemirror_mode": {
    "name": "ipython",
    "version": 3
   },
   "file_extension": ".py",
   "mimetype": "text/x-python",
   "name": "python",
   "nbconvert_exporter": "python",
   "pygments_lexer": "ipython3",
   "version": "3.12.0"
  }
 },
 "nbformat": 4,
 "nbformat_minor": 5
}
