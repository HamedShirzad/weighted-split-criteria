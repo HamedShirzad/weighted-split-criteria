{
 "cells": [
  {
   "cell_type": "code",
   "execution_count": 1,
   "id": "b6312d84-a55c-4340-8555-fcd3758ae224",
   "metadata": {},
   "outputs": [
    {
     "name": "stdout",
     "output_type": "stream",
     "text": [
      "شکل دیتاست: (896, 8)\n",
      "    Age  LastTransaction  Churn  Gender_female  Gender_male  \\\n",
      "0  64.0               98      1          False         True   \n",
      "1  35.0              118      0          False         True   \n",
      "2  25.0              107      1           True        False   \n",
      "3  39.0               90      1          False         True   \n",
      "4  28.0              189      0           True        False   \n",
      "\n",
      "   Payment Method_cash  Payment Method_cheque  Payment Method_credit card  \n",
      "0                False                  False                        True  \n",
      "1                False                   True                       False  \n",
      "2                False                  False                        True  \n",
      "3                False                  False                        True  \n",
      "4                False                   True                       False  \n",
      "نام ستون‌ها: ['Age', 'LastTransaction', 'Churn', 'Gender_female', 'Gender_male', 'Payment Method_cash', 'Payment Method_cheque', 'Payment Method_credit card']\n"
     ]
    }
   ],
   "source": [
    "import pandas as pd\n",
    "\n",
    "# مسیر دقیق دیتاست پیش‌پردازش شده\n",
    "dataset_path = r'C:\\Users\\HsH-HsH\\weighted_split_criteria\\notebooks\\datasets\\customer_churn_data_preprocessed.csv'\n",
    "\n",
    "# بارگذاری دیتاست\n",
    "df = pd.read_csv(dataset_path)\n",
    "\n",
    "# نمایش شکل دیتاست و 5 سطر اول برای اطمینان\n",
    "print(\"شکل دیتاست:\", df.shape)\n",
    "print(df.head())\n",
    "print(\"نام ستون‌ها:\", df.columns.tolist())\n"
   ]
  },
  {
   "cell_type": "code",
   "execution_count": 2,
   "id": "04d92f44-3e8d-4e37-b988-6608b75319ff",
   "metadata": {},
   "outputs": [
    {
     "name": "stdout",
     "output_type": "stream",
     "text": [
      "ابعاد ویژگی‌ها (X): (896, 7)\n",
      "ابعاد برچسب هدف (y): (896,)\n"
     ]
    }
   ],
   "source": [
    "# جدا کردن ویژگی‌ها (تمام ستون‌ها به جز 'Churn')\n",
    "X = df.drop('Churn', axis=1)\n",
    "\n",
    "# جدا کردن برچسب هدف (ستون 'Churn')\n",
    "y = df['Churn']\n",
    "\n",
    "# نمایش ابعاد مجموعه ویژگی‌ها و برچسب هدف\n",
    "print(\"ابعاد ویژگی‌ها (X):\", X.shape)\n",
    "print(\"ابعاد برچسب هدف (y):\", y.shape)\n"
   ]
  },
  {
   "cell_type": "code",
   "execution_count": 3,
   "id": "58e11fa5-c6cb-4011-b9f3-d84ce9a38f05",
   "metadata": {},
   "outputs": [
    {
     "ename": "ModuleNotFoundError",
     "evalue": "No module named 'utils'",
     "output_type": "error",
     "traceback": [
      "\u001b[1;31m---------------------------------------------------------------------------\u001b[0m",
      "\u001b[1;31mModuleNotFoundError\u001b[0m                       Traceback (most recent call last)",
      "Cell \u001b[1;32mIn[3], line 2\u001b[0m\n\u001b[0;32m      1\u001b[0m \u001b[38;5;66;03m# وارد کردن کلاس مدل از مسیر src/model\u001b[39;00m\n\u001b[1;32m----> 2\u001b[0m \u001b[38;5;28;01mfrom\u001b[39;00m \u001b[38;5;21;01msrc\u001b[39;00m\u001b[38;5;21;01m.\u001b[39;00m\u001b[38;5;21;01mmodel\u001b[39;00m\u001b[38;5;21;01m.\u001b[39;00m\u001b[38;5;21;01mweighted_decision_tree\u001b[39;00m \u001b[38;5;28;01mimport\u001b[39;00m WeightedDecisionTree\n\u001b[0;32m      4\u001b[0m \u001b[38;5;66;03m# تعیین لیست معیارهای وزندهی (مطابق پروژه شما، در صورت متفاوت بودن تغییر دهید)\u001b[39;00m\n\u001b[0;32m      5\u001b[0m criteria_list \u001b[38;5;241m=\u001b[39m [\u001b[38;5;124m'\u001b[39m\u001b[38;5;124mgini\u001b[39m\u001b[38;5;124m'\u001b[39m, \u001b[38;5;124m'\u001b[39m\u001b[38;5;124mentropy\u001b[39m\u001b[38;5;124m'\u001b[39m]  \u001b[38;5;66;03m# یا معیارهای دقیق پروژه شما\u001b[39;00m\n",
      "File \u001b[1;32m~\\weighted_split_criteria\\src\\model\\weighted_decision_tree.py:2\u001b[0m\n\u001b[0;32m      1\u001b[0m \u001b[38;5;28;01mimport\u001b[39;00m \u001b[38;5;21;01mnumpy\u001b[39;00m \u001b[38;5;28;01mas\u001b[39;00m \u001b[38;5;21;01mnp\u001b[39;00m\n\u001b[1;32m----> 2\u001b[0m \u001b[38;5;28;01mfrom\u001b[39;00m \u001b[38;5;21;01mutils\u001b[39;00m\u001b[38;5;21;01m.\u001b[39;00m\u001b[38;5;21;01mvoting_split_manager\u001b[39;00m \u001b[38;5;28;01mimport\u001b[39;00m FNWeightedSplitManager\n\u001b[0;32m      4\u001b[0m \u001b[38;5;28;01mclass\u001b[39;00m \u001b[38;5;21;01mTreeNode\u001b[39;00m:\n\u001b[0;32m      5\u001b[0m     \u001b[38;5;28;01mdef\u001b[39;00m \u001b[38;5;21m__init__\u001b[39m(\u001b[38;5;28mself\u001b[39m, is_leaf, prediction\u001b[38;5;241m=\u001b[39m\u001b[38;5;28;01mNone\u001b[39;00m, feature\u001b[38;5;241m=\u001b[39m\u001b[38;5;28;01mNone\u001b[39;00m, threshold\u001b[38;5;241m=\u001b[39m\u001b[38;5;28;01mNone\u001b[39;00m, left\u001b[38;5;241m=\u001b[39m\u001b[38;5;28;01mNone\u001b[39;00m, right\u001b[38;5;241m=\u001b[39m\u001b[38;5;28;01mNone\u001b[39;00m):\n",
      "\u001b[1;31mModuleNotFoundError\u001b[0m: No module named 'utils'"
     ]
    }
   ],
   "source": [
    "# وارد کردن کلاس مدل از مسیر src/model\n",
    "from src.model.weighted_decision_tree import WeightedDecisionTree\n",
    "\n",
    "# تعیین لیست معیارهای وزندهی (مطابق پروژه شما، در صورت متفاوت بودن تغییر دهید)\n",
    "criteria_list = ['gini', 'entropy']  # یا معیارهای دقیق پروژه شما\n",
    "\n",
    "# نمونه‌سازی مدل با پارامترهای مورد نظر\n",
    "model = WeightedDecisionTree(criteria_list=criteria_list, max_depth=3, min_samples_split=5, positive_label=1)\n",
    "\n",
    "print(\"مدل ساخته شد.\")\n",
    "\n",
    "# آموزش مدل با داده‌های numpy شده\n",
    "model.fit(X.to_numpy(), y.to_numpy())\n",
    "\n",
    "print(\"مدل آموزش داده شد.\")\n"
   ]
  },
  {
   "cell_type": "code",
   "execution_count": 4,
   "id": "ceb602db-9dd8-4979-8541-1d71bdd67652",
   "metadata": {},
   "outputs": [],
   "source": [
    "import sys\n",
    "import os\n",
    "\n",
    "project_root = r'C:\\Users\\HsH-HsH\\weighted_split_criteria'\n",
    "src_path = os.path.join(project_root, 'src')\n",
    "if src_path not in sys.path:\n",
    "    sys.path.append(src_path)\n"
   ]
  },
  {
   "cell_type": "code",
   "execution_count": 5,
   "id": "d41229e5-f1ec-41c6-8673-dbeb7b487ae0",
   "metadata": {},
   "outputs": [
    {
     "name": "stdout",
     "output_type": "stream",
     "text": [
      "مدل ساخته شد.\n"
     ]
    },
    {
     "ename": "AttributeError",
     "evalue": "'str' object has no attribute 'calculate_score'",
     "output_type": "error",
     "traceback": [
      "\u001b[1;31m---------------------------------------------------------------------------\u001b[0m",
      "\u001b[1;31mAttributeError\u001b[0m                            Traceback (most recent call last)",
      "Cell \u001b[1;32mIn[5], line 9\u001b[0m\n\u001b[0;32m      5\u001b[0m model \u001b[38;5;241m=\u001b[39m WeightedDecisionTree(criteria_list\u001b[38;5;241m=\u001b[39mcriteria_list, max_depth\u001b[38;5;241m=\u001b[39m\u001b[38;5;241m3\u001b[39m, min_samples_split\u001b[38;5;241m=\u001b[39m\u001b[38;5;241m5\u001b[39m, positive_label\u001b[38;5;241m=\u001b[39m\u001b[38;5;241m1\u001b[39m)\n\u001b[0;32m      7\u001b[0m \u001b[38;5;28mprint\u001b[39m(\u001b[38;5;124m\"\u001b[39m\u001b[38;5;124mمدل ساخته شد.\u001b[39m\u001b[38;5;124m\"\u001b[39m)\n\u001b[1;32m----> 9\u001b[0m \u001b[43mmodel\u001b[49m\u001b[38;5;241;43m.\u001b[39;49m\u001b[43mfit\u001b[49m\u001b[43m(\u001b[49m\u001b[43mX\u001b[49m\u001b[38;5;241;43m.\u001b[39;49m\u001b[43mto_numpy\u001b[49m\u001b[43m(\u001b[49m\u001b[43m)\u001b[49m\u001b[43m,\u001b[49m\u001b[43m \u001b[49m\u001b[43my\u001b[49m\u001b[38;5;241;43m.\u001b[39;49m\u001b[43mto_numpy\u001b[49m\u001b[43m(\u001b[49m\u001b[43m)\u001b[49m\u001b[43m)\u001b[49m\n\u001b[0;32m     11\u001b[0m \u001b[38;5;28mprint\u001b[39m(\u001b[38;5;124m\"\u001b[39m\u001b[38;5;124mمدل آموزش داده شد.\u001b[39m\u001b[38;5;124m\"\u001b[39m)\n",
      "File \u001b[1;32m~\\weighted_split_criteria\\src\\model\\weighted_decision_tree.py:24\u001b[0m, in \u001b[0;36mWeightedDecisionTree.fit\u001b[1;34m(self, X, y)\u001b[0m\n\u001b[0;32m     22\u001b[0m \u001b[38;5;28;01mdef\u001b[39;00m \u001b[38;5;21mfit\u001b[39m(\u001b[38;5;28mself\u001b[39m, X, y):\n\u001b[0;32m     23\u001b[0m     \u001b[38;5;28mself\u001b[39m\u001b[38;5;241m.\u001b[39mn_classes_ \u001b[38;5;241m=\u001b[39m \u001b[38;5;28mlen\u001b[39m(np\u001b[38;5;241m.\u001b[39munique(y))\n\u001b[1;32m---> 24\u001b[0m     \u001b[38;5;28mself\u001b[39m\u001b[38;5;241m.\u001b[39mroot \u001b[38;5;241m=\u001b[39m \u001b[38;5;28;43mself\u001b[39;49m\u001b[38;5;241;43m.\u001b[39;49m\u001b[43m_build_tree\u001b[49m\u001b[43m(\u001b[49m\u001b[43mX\u001b[49m\u001b[43m,\u001b[49m\u001b[43m \u001b[49m\u001b[43my\u001b[49m\u001b[43m,\u001b[49m\u001b[43m \u001b[49m\u001b[43mdepth\u001b[49m\u001b[38;5;241;43m=\u001b[39;49m\u001b[38;5;241;43m0\u001b[39;49m\u001b[43m)\u001b[49m\n",
      "File \u001b[1;32m~\\weighted_split_criteria\\src\\model\\weighted_decision_tree.py:62\u001b[0m, in \u001b[0;36mWeightedDecisionTree._build_tree\u001b[1;34m(self, X, y, depth)\u001b[0m\n\u001b[0;32m     56\u001b[0m \u001b[38;5;66;03m# رأی‌گیری وزنی بین همه معیارها (FNWeightedSplitManager)\u001b[39;00m\n\u001b[0;32m     57\u001b[0m manager \u001b[38;5;241m=\u001b[39m FNWeightedSplitManager(\n\u001b[0;32m     58\u001b[0m     \u001b[38;5;28mself\u001b[39m\u001b[38;5;241m.\u001b[39mcriteria_list,\n\u001b[0;32m     59\u001b[0m     positive_label\u001b[38;5;241m=\u001b[39m\u001b[38;5;28mself\u001b[39m\u001b[38;5;241m.\u001b[39mpositive_label,\n\u001b[0;32m     60\u001b[0m     epsilon\u001b[38;5;241m=\u001b[39m\u001b[38;5;28mself\u001b[39m\u001b[38;5;241m.\u001b[39mepsilon\n\u001b[0;32m     61\u001b[0m )\n\u001b[1;32m---> 62\u001b[0m best_split \u001b[38;5;241m=\u001b[39m \u001b[43mmanager\u001b[49m\u001b[38;5;241;43m.\u001b[39;49m\u001b[43mevaluate_all_splits\u001b[49m\u001b[43m(\u001b[49m\u001b[43msplits\u001b[49m\u001b[43m)\u001b[49m\n\u001b[0;32m     64\u001b[0m \u001b[38;5;28;01mif\u001b[39;00m best_split \u001b[38;5;129;01mis\u001b[39;00m \u001b[38;5;28;01mNone\u001b[39;00m:\n\u001b[0;32m     65\u001b[0m     \u001b[38;5;66;03m# اگر split انتخاب نشد، گره برگ\u001b[39;00m\n\u001b[0;32m     66\u001b[0m     values, counts \u001b[38;5;241m=\u001b[39m np\u001b[38;5;241m.\u001b[39munique(y, return_counts\u001b[38;5;241m=\u001b[39m\u001b[38;5;28;01mTrue\u001b[39;00m)\n",
      "File \u001b[1;32m~\\weighted_split_criteria\\src\\utils\\voting_split_manager.py:33\u001b[0m, in \u001b[0;36mFNWeightedSplitManager.evaluate_all_splits\u001b[1;34m(self, splits)\u001b[0m\n\u001b[0;32m     30\u001b[0m fn_list \u001b[38;5;241m=\u001b[39m []\n\u001b[0;32m     32\u001b[0m \u001b[38;5;28;01mfor\u001b[39;00m crit \u001b[38;5;129;01min\u001b[39;00m \u001b[38;5;28mself\u001b[39m\u001b[38;5;241m.\u001b[39mcriteria_list:\n\u001b[1;32m---> 33\u001b[0m     score \u001b[38;5;241m=\u001b[39m \u001b[43mcrit\u001b[49m\u001b[38;5;241;43m.\u001b[39;49m\u001b[43mcalculate_score\u001b[49m(y_left, y_right)\n\u001b[0;32m     34\u001b[0m     score_list\u001b[38;5;241m.\u001b[39mappend(score)\n\u001b[0;32m     36\u001b[0m     fn_left \u001b[38;5;241m=\u001b[39m false_negative(y_left, y_left, \u001b[38;5;28mself\u001b[39m\u001b[38;5;241m.\u001b[39mpositive_label)\n",
      "\u001b[1;31mAttributeError\u001b[0m: 'str' object has no attribute 'calculate_score'"
     ]
    }
   ],
   "source": [
    "from model.weighted_decision_tree import WeightedDecisionTree\n",
    "\n",
    "criteria_list = ['gini', 'entropy']  # یا معیارهای دقیق پروژه شما\n",
    "\n",
    "model = WeightedDecisionTree(criteria_list=criteria_list, max_depth=3, min_samples_split=5, positive_label=1)\n",
    "\n",
    "print(\"مدل ساخته شد.\")\n",
    "\n",
    "model.fit(X.to_numpy(), y.to_numpy())\n",
    "\n",
    "print(\"مدل آموزش داده شد.\")\n"
   ]
  },
  {
   "cell_type": "code",
   "execution_count": null,
   "id": "0cd5d87c-faff-47f6-b298-7d982d5f8c57",
   "metadata": {},
   "outputs": [],
   "source": []
  }
 ],
 "metadata": {
  "kernelspec": {
   "display_name": "Python 3 (ipykernel)",
   "language": "python",
   "name": "python3"
  },
  "language_info": {
   "codemirror_mode": {
    "name": "ipython",
    "version": 3
   },
   "file_extension": ".py",
   "mimetype": "text/x-python",
   "name": "python",
   "nbconvert_exporter": "python",
   "pygments_lexer": "ipython3",
   "version": "3.12.0"
  }
 },
 "nbformat": 4,
 "nbformat_minor": 5
}
