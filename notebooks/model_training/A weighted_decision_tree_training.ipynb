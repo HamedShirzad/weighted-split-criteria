{
 "cells": [
  {
   "cell_type": "code",
   "execution_count": 1,
   "id": "b0d5cb7d-f289-45c6-90cb-e08cf39ce67a",
   "metadata": {
    "scrolled": true
   },
   "outputs": [
    {
     "name": "stdout",
     "output_type": "stream",
     "text": [
      "کتابخانه‌ها با موفقیت وارد شدند.\n"
     ]
    }
   ],
   "source": [
    "# سلول 1: ایمپورت کتابخانه‌ها و تنظیمات پایه\n",
    "\n",
    "import numpy as np\n",
    "import pandas as pd\n",
    "import matplotlib.pyplot as plt\n",
    "import seaborn as sns\n",
    "\n",
    "# تنظیمات نمایشی برای نمودارها\n",
    "%matplotlib inline\n",
    "sns.set(style=\"whitegrid\")\n",
    "\n",
    "print(\"کتابخانه‌ها با موفقیت وارد شدند.\")\n"
   ]
  },
  {
   "cell_type": "code",
   "execution_count": 2,
   "id": "c2b187e9-328e-4f88-be27-6095edc03ee3",
   "metadata": {},
   "outputs": [
    {
     "name": "stdout",
     "output_type": "stream",
     "text": [
      "X shape: (896, 7)\n",
      "y shape: (896,)\n",
      "X dtype: float64\n",
      "y dtype: int64\n"
     ]
    }
   ],
   "source": [
    "\n",
    "\n",
    "# مسیر فایل CSV\n",
    "file_path = r'C:\\Users\\HsH-HsH\\weighted_split_criteria\\notebooks\\datasets\\customer_churn_data_preprocessed.csv'\n",
    "\n",
    "# بارگذاری دیتاست\n",
    "df = pd.read_csv(file_path)\n",
    "\n",
    "# نام ستون هدف\n",
    "target_column = 'Churn'\n",
    "\n",
    "# جدا کردن ویژگی‌ها و ستون هدف\n",
    "X = df.drop(target_column, axis=1)\n",
    "y = df[target_column]\n",
    "\n",
    "# تبدیل ستون‌های غیر عددی به عددی با one-hot encoding (اگر لازم بود)\n",
    "X = pd.get_dummies(X)\n",
    "\n",
    "# تبدیل ستون‌های بولی به float64\n",
    "X = X.astype('float64')\n",
    "\n",
    "# تبدیل به آرایه numpy\n",
    "X_array = np.array(X)\n",
    "y_array = np.array(y)\n",
    "\n",
    "# نمایش برای اطمینان\n",
    "print('X shape:', X_array.shape)\n",
    "print('y shape:', y_array.shape)\n",
    "print('X dtype:', X_array.dtype)\n",
    "print('y dtype:', y_array.dtype)\n"
   ]
  },
  {
   "cell_type": "code",
   "execution_count": 3,
   "id": "ae4c8d6e-8d7d-4d0e-a15f-d3b7327a1217",
   "metadata": {},
   "outputs": [],
   "source": [
    "# مسیر کامل فایل CSV\n",
    "file_path = r'C:\\Users\\HsH-HsH\\weighted_split_criteria\\notebooks\\datasets\\customer_churn_data_preprocessed.csv'\n",
    "\n",
    "# بارگذاری دیتاست\n",
    "df = pd.read_csv(file_path)"
   ]
  },
  {
   "cell_type": "code",
   "execution_count": 4,
   "id": "899d3a95-603b-4d18-ba9d-f4d40046f642",
   "metadata": {},
   "outputs": [
    {
     "name": "stdout",
     "output_type": "stream",
     "text": [
      "پوشه src به sys.path اضافه شد.\n"
     ]
    }
   ],
   "source": [
    "import sys\n",
    "sys.path.insert(0, r\"C:\\Users\\HsH-HsH\\weighted_split_criteria\\src\")\n",
    "print(\"پوشه src به sys.path اضافه شد.\")"
   ]
  },
  {
   "cell_type": "code",
   "execution_count": 5,
   "id": "3edc4ede-8ce8-40fa-8a84-244f6c8f7614",
   "metadata": {},
   "outputs": [
    {
     "name": "stdout",
     "output_type": "stream",
     "text": [
      "معیارها و وزن‌ها تعریف شدند.\n"
     ]
    }
   ],
   "source": [
    "from criteria.gini import gini_criterion\n",
    "from criteria.qg import gain_ratio_criterion\n",
    "from criteria.twoing import twoing_criterion\n",
    "from criteria.ng import normalized_gain_criterion\n",
    "from criteria.mch import multi_class_hellinger\n",
    "from criteria.marsh import marsh_criterion\n",
    "from criteria.gs import g_statistic_criterion\n",
    "from criteria.dkm import dkm_criterion\n",
    "from criteria.cs import chi_squared_criterion\n",
    "from criteria.bhy import bhattacharyya_criterion\n",
    "from criteria.ks import kolmogorov_smirnov_criterion\n",
    "\n",
    "criteria_with_weights = [\n",
    "    (\"gini\", gini_criterion, 0.15),\n",
    "    (\"gain_ratio\", gain_ratio_criterion, 0.15),\n",
    "    (\"twoing\", twoing_criterion, 0.10),\n",
    "    (\"normalized_gain\", normalized_gain_criterion, 0.10),\n",
    "    (\"multi_class_hellinger\", multi_class_hellinger, 0.10),\n",
    "    (\"marshall\", marsh_criterion, 0.05),\n",
    "    (\"g_statistic\", g_statistic_criterion, 0.05),\n",
    "    (\"dkm\", dkm_criterion, 0.10),\n",
    "    (\"chi_squared\", chi_squared_criterion, 0.05),\n",
    "    (\"bhattacharyya\", bhattacharyya_criterion, 0.10),\n",
    "    (\"kolmogorov_smirnov\", kolmogorov_smirnov_criterion, 0.05),\n",
    "]\n",
    "\n",
    "print(\"معیارها و وزن‌ها تعریف شدند.\")"
   ]
  },
  {
   "cell_type": "code",
   "execution_count": 6,
   "id": "3bcdfa37-01c7-4c9e-82e4-7d7219ab1f95",
   "metadata": {},
   "outputs": [
    {
     "name": "stdout",
     "output_type": "stream",
     "text": [
      "پوشه model به sys.path اضافه شد.\n"
     ]
    }
   ],
   "source": [
    "import sys\n",
    "sys.path.insert(0, r\"C:\\Users\\HsH-HsH\\weighted_split_criteria\\src\\model\")\n",
    "print(\"پوشه model به sys.path اضافه شد.\")"
   ]
  },
  {
   "cell_type": "code",
   "execution_count": 7,
   "id": "d6397a9c-982d-4692-9342-61970667f75d",
   "metadata": {},
   "outputs": [],
   "source": [
    "from weighted_decision_tree import WeightedDecisionTreeModel"
   ]
  },
  {
   "cell_type": "code",
   "execution_count": 49,
   "id": "48178284-7e03-4e3b-a24c-1b0df9040ab1",
   "metadata": {},
   "outputs": [],
   "source": [
    "model = WeightedDecisionTreeModel(criteria_with_weights, positive_label=1, max_depth=15)\n"
   ]
  },
  {
   "cell_type": "code",
   "execution_count": 31,
   "id": "119fd1c8-f2d6-4a8d-af4c-fe3dea6aea6c",
   "metadata": {},
   "outputs": [],
   "source": [
    "model.fit(X_array, y_array)\n"
   ]
  },
  {
   "cell_type": "code",
   "execution_count": 50,
   "id": "f6bbe8fa-325a-4350-a28d-e68dca66db7f",
   "metadata": {},
   "outputs": [
    {
     "name": "stdout",
     "output_type": "stream",
     "text": [
      "کتابخانه‌ها با موفقیت وارد شدند.\n"
     ]
    }
   ],
   "source": [
    "import numpy as np\n",
    "import pandas as pd\n",
    "import matplotlib.pyplot as plt\n",
    "import seaborn as sns\n",
    "%matplotlib inline\n",
    "sns.set(style=\"whitegrid\")\n",
    "print(\"کتابخانه‌ها با موفقیت وارد شدند.\")\n"
   ]
  },
  {
   "cell_type": "code",
   "execution_count": 51,
   "id": "4c44ba25-4708-468a-b55e-4ddfce6f3241",
   "metadata": {},
   "outputs": [
    {
     "name": "stdout",
     "output_type": "stream",
     "text": [
      "Train shape: (716, 7) (716,)\n",
      "Test shape: (180, 7) (180,)\n"
     ]
    }
   ],
   "source": [
    "from sklearn.model_selection import train_test_split\n",
    "X_train, X_test, y_train, y_test = train_test_split(X_array, y_array, test_size=0.2, random_state=42)\n",
    "print('Train shape:', X_train.shape, y_train.shape)\n",
    "print('Test shape:', X_test.shape, y_test.shape)\n"
   ]
  },
  {
   "cell_type": "code",
   "execution_count": 52,
   "id": "32f2aa32-5a90-478c-a08b-8f144e0590e0",
   "metadata": {},
   "outputs": [],
   "source": [
    "model.fit(X_train, y_train)\n"
   ]
  },
  {
   "cell_type": "code",
   "execution_count": 53,
   "id": "062e35cf-4eeb-450c-b90a-498dfb4d225f",
   "metadata": {},
   "outputs": [
    {
     "name": "stdout",
     "output_type": "stream",
     "text": [
      "[[0. 1.]\n",
      " [1. 0.]\n",
      " [1. 0.]\n",
      " [0. 1.]\n",
      " [0. 1.]]\n"
     ]
    }
   ],
   "source": [
    "# پیش‌بینی احتمالات کلاس‌ها روی داده تست\n",
    "probas = model.predict_proba(X_test)\n",
    "\n",
    "# نمایش ۵ نمونه اول احتمالات پیش‌بینی شده\n",
    "print(probas[:5])\n"
   ]
  },
  {
   "cell_type": "code",
   "execution_count": 55,
   "id": "17569b06-d8c4-4cdc-b188-bb1c84a47ee2",
   "metadata": {},
   "outputs": [
    {
     "name": "stdout",
     "output_type": "stream",
     "text": [
      "[1 0 0 1 1]\n"
     ]
    }
   ],
   "source": [
    "import numpy as np\n",
    "\n",
    "# فرض بر این است که proba آرایه ۲ بعدی باشد: (نمونه‌ها، کلاس‌ها)\n",
    "# برای هر نمونه، کلاس با بیشترین احتمال را انتخاب می‌کنیم\n",
    "y_pred = np.argmax(probas, axis=1)\n",
    "\n",
    "# نمایش ۵ نمونه اول پیش‌بینی عددی\n",
    "print(y_pred[:5])\n"
   ]
  },
  {
   "cell_type": "code",
   "execution_count": 56,
   "id": "e5c69612-e621-46b9-bdfb-1997ce6e3f66",
   "metadata": {},
   "outputs": [
    {
     "name": "stdout",
     "output_type": "stream",
     "text": [
      "Accuracy: 0.7333333333333333\n",
      "Confusion Matrix:\n",
      " [[45 23]\n",
      " [25 87]]\n",
      "Classification Report:\n",
      "               precision    recall  f1-score   support\n",
      "\n",
      "           0       0.64      0.66      0.65        68\n",
      "           1       0.79      0.78      0.78       112\n",
      "\n",
      "    accuracy                           0.73       180\n",
      "   macro avg       0.72      0.72      0.72       180\n",
      "weighted avg       0.73      0.73      0.73       180\n",
      "\n"
     ]
    }
   ],
   "source": [
    "from sklearn.metrics import accuracy_score, classification_report, confusion_matrix\n",
    "\n",
    "print('Accuracy:', accuracy_score(y_test, y_pred))\n",
    "print('Confusion Matrix:\\n', confusion_matrix(y_test, y_pred))\n",
    "print('Classification Report:\\n', classification_report(y_test, y_pred))\n"
   ]
  },
  {
   "cell_type": "code",
   "execution_count": 19,
   "id": "4c0a6ef8-3eaa-4846-ac13-acf4cd1be904",
   "metadata": {},
   "outputs": [
    {
     "name": "stdout",
     "output_type": "stream",
     "text": [
      "زمان آموزش مدل (ثانیه): 1.980409860610962\n",
      "زمان پیش‌بینی مدل (ثانیه): 0.003001689910888672\n"
     ]
    }
   ],
   "source": [
    "import time\n",
    "\n",
    "# زمان آموزش مدل\n",
    "start_fit = time.time()\n",
    "model.fit(X_train, y_train)\n",
    "fit_time = time.time() - start_fit\n",
    "print('زمان آموزش مدل (ثانیه):', fit_time)\n",
    "\n",
    "# زمان پیش‌بینی مدل\n",
    "start_pred = time.time()\n",
    "probas = model.predict_proba(X_test)\n",
    "y_pred = np.argmax(probas, axis=1)\n",
    "pred_time = time.time() - start_pred\n",
    "print('زمان پیش‌بینی مدل (ثانیه):', pred_time)\n"
   ]
  },
  {
   "cell_type": "code",
   "execution_count": 42,
   "id": "087d3576-6839-479f-a09e-2eed29cd47ae",
   "metadata": {},
   "outputs": [
    {
     "name": "stdout",
     "output_type": "stream",
     "text": [
      "دقت کل (Accuracy): 0.7833333333333333\n",
      "ماتریس در هم‌ریختگی (Confusion Matrix):\n",
      " [[ 41  27]\n",
      " [ 12 100]]\n",
      "گزارش طبقه‌بندی (Classification Report):\n",
      "               precision    recall  f1-score   support\n",
      "\n",
      "           0     0.7736    0.6029    0.6777        68\n",
      "           1     0.7874    0.8929    0.8368       112\n",
      "\n",
      "    accuracy                         0.7833       180\n",
      "   macro avg     0.7805    0.7479    0.7573       180\n",
      "weighted avg     0.7822    0.7833    0.7767       180\n",
      "\n"
     ]
    }
   ],
   "source": [
    "import numpy as np\n",
    "from sklearn.metrics import accuracy_score, classification_report, confusion_matrix\n",
    "\n",
    "# پیش‌بینی احتمالات کلاس‌ها روی داده تست\n",
    "probas = model.predict_proba(X_test)\n",
    "\n",
    "# تبدیل احتمالات به پیش‌بینی عددی کلاس\n",
    "y_pred = np.argmax(probas, axis=1)\n",
    "\n",
    "# ارزیابی مدل با معیارهای استاندارد\n",
    "print('دقت کل (Accuracy):', accuracy_score(y_test, y_pred))\n",
    "print('ماتریس در هم‌ریختگی (Confusion Matrix):\\n', confusion_matrix(y_test, y_pred))\n",
    "print('گزارش طبقه‌بندی (Classification Report):\\n', classification_report(y_test, y_pred, digits=4))\n"
   ]
  },
  {
   "cell_type": "code",
   "execution_count": 48,
   "id": "fab619c4-ece3-47e5-92f2-7abe799b83f6",
   "metadata": {},
   "outputs": [
    {
     "name": "stdout",
     "output_type": "stream",
     "text": [
      "max_depth=2 | زمان آموزش: 0.649s | دقت: 0.8292\n",
      "max_depth=5 | زمان آموزش: 2.191s | دقت: 0.8605\n",
      "max_depth=10 | زمان آموزش: 4.902s | دقت: 0.9062\n",
      "max_depth=15 | زمان آموزش: 6.390s | دقت: 0.9487\n"
     ]
    }
   ],
   "source": [
    "import time\n",
    "\n",
    "for depth in [2, 5, 10, 15]:\n",
    "    model = WeightedDecisionTreeModel(criteria_with_weights, positive_label=1, max_depth=depth)\n",
    "    start_time = time.time()\n",
    "    model.fit(X_array, y_array)\n",
    "    fit_time = time.time() - start_time\n",
    "\n",
    "    # اگر متد پیش‌بینی مدل مشابه قبلی است:\n",
    "    probas = model.predict_proba(X_array)\n",
    "    y_pred = probas.argmax(axis=1)\n",
    "    \n",
    "    # اگر y_array همان y_test است (یا باید جدا کنی):\n",
    "    from sklearn.metrics import accuracy_score\n",
    "    accuracy = accuracy_score(y_array, y_pred)\n",
    "\n",
    "    print(f\"max_depth={depth} | زمان آموزش: {fit_time:.3f}s | دقت: {accuracy:.4f}\")\n"
   ]
  },
  {
   "cell_type": "code",
   "execution_count": null,
   "id": "3cc931c0-6137-4b8a-9bb6-831c62f9fd86",
   "metadata": {},
   "outputs": [],
   "source": []
  },
  {
   "cell_type": "code",
   "execution_count": null,
   "id": "a0e2dec6-679c-44a5-8899-97ce622d6632",
   "metadata": {},
   "outputs": [],
   "source": []
  },
  {
   "cell_type": "code",
   "execution_count": null,
   "id": "3d7c3758-c608-4163-8758-0c8f18649c68",
   "metadata": {},
   "outputs": [],
   "source": []
  },
  {
   "cell_type": "code",
   "execution_count": null,
   "id": "2eed9b24-abea-4038-a10f-1317c3be84d3",
   "metadata": {},
   "outputs": [],
   "source": []
  },
  {
   "cell_type": "code",
   "execution_count": null,
   "id": "10716d1b-e214-4060-99d9-d39d257240fc",
   "metadata": {},
   "outputs": [],
   "source": []
  },
  {
   "cell_type": "code",
   "execution_count": null,
   "id": "4935bbb5-e7a4-49d4-b9d4-980c3f9e7b6c",
   "metadata": {},
   "outputs": [],
   "source": []
  },
  {
   "cell_type": "code",
   "execution_count": 23,
   "id": "72d6f3e8-5bd4-40c7-8c7d-81b3460ab19a",
   "metadata": {},
   "outputs": [
    {
     "name": "stdout",
     "output_type": "stream",
     "text": [
      "ساختار درخت:\n",
      "[1] -> metric = 0.0 | repartition = [252, 464]\n",
      "|    Δ metric = +29.371265103247396\n",
      "|   [2] feature 3 <= 0.0 -> metric = 0.0 | repartition = [216, 110]\n",
      "|   |    Δ metric = +7.317069551155959\n",
      "|   |   [4] feature 0 <= 30.0 -> metric = 0.0 | repartition = [30, 62]\n",
      "|   |   |    Δ metric = +3.760624649777607\n",
      "|   |   |   [8] feature 6 <= 0.0 -> metric = 0.0 | repartition = [17, 3]\n",
      "|   |   |   |    Δ metric = +0.5816535915564661\n",
      "|   |   |   |   [16] feature 1 <= 148.0 -> metric = 0.0 | repartition = [10, 0]\n",
      "|   |   |   |   [17] feature 1 > 148.0 -> metric = 0.0 | repartition = [7, 3]\n",
      "|   |   |   |   |    Δ metric = +0.6286991436977203\n",
      "|   |   |   |   |   [34] feature 1 <= 149.0 -> metric = 0.0 | repartition = [0, 1]\n",
      "|   |   |   |   |   [35] feature 1 > 149.0 -> metric = 0.0 | repartition = [7, 2]\n",
      "|   |   |   [9] feature 6 > 0.0 -> metric = 0.0 | repartition = [13, 59]\n",
      "|   |   |   |    Δ metric = +0.5645149157809558\n",
      "|   |   |   |   [18] feature 1 <= 122.0 -> metric = 0.0 | repartition = [10, 56]\n",
      "|   |   |   |   |    Δ metric = +0.44688593065251736\n",
      "|   |   |   |   |   [36] feature 0 <= 17.0 -> metric = 0.0 | repartition = [3, 5]\n",
      "|   |   |   |   |   [37] feature 0 > 17.0 -> metric = 0.0 | repartition = [7, 51]\n",
      "|   |   |   |   [19] feature 1 > 122.0 -> metric = 0.0 | repartition = [3, 3]\n",
      "|   |   |   |   |    Δ metric = +2.35279675119376\n",
      "|   |   |   |   |   [38] feature 1 <= 130.0 -> metric = 0.0 | repartition = [3, 0]\n",
      "|   |   |   |   |   [39] feature 1 > 130.0 -> metric = 0.0 | repartition = [0, 3]\n",
      "|   |   [5] feature 0 > 30.0 -> metric = 0.0 | repartition = [186, 48]\n",
      "|   |   |    Δ metric = +1.0822576856330288\n",
      "|   |   |   [10] feature 0 <= 89.0 -> metric = 0.0 | repartition = [186, 46]\n",
      "|   |   |   |    Δ metric = +0.6640325681550006\n",
      "|   |   |   |   [20] feature 0 <= 34.0 -> metric = 0.0 | repartition = [14, 0]\n",
      "|   |   |   |   [21] feature 0 > 34.0 -> metric = 0.0 | repartition = [172, 46]\n",
      "|   |   |   |   |    Δ metric = +0.45732185713216306\n",
      "|   |   |   |   |   [42] feature 1 <= 43.0 -> metric = 0.0 | repartition = [8, 0]\n",
      "|   |   |   |   |   [43] feature 1 > 43.0 -> metric = 0.0 | repartition = [164, 46]\n",
      "|   |   |   [11] feature 0 > 89.0 -> metric = 0.0 | repartition = [0, 2]\n",
      "|   [3] feature 3 > 0.0 -> metric = 0.0 | repartition = [36, 354]\n",
      "|   |    Δ metric = +2.2950693455640008\n",
      "|   |   [6] feature 1 <= 127.0 -> metric = 0.0 | repartition = [14, 269]\n",
      "|   |   |    Δ metric = +1.1525627122473971\n",
      "|   |   |   [12] feature 0 <= 73.0 -> metric = 0.0 | repartition = [11, 262]\n",
      "|   |   |   |    Δ metric = +1.3683446030312243\n",
      "|   |   |   |   [24] feature 1 <= 36.0 -> metric = 0.0 | repartition = [4, 14]\n",
      "|   |   |   |   |    Δ metric = +0.7207907538934374\n",
      "|   |   |   |   |   [48] feature 1 <= 35.0 -> metric = 0.0 | repartition = [3, 14]\n",
      "|   |   |   |   |   [49] feature 1 > 35.0 -> metric = 0.0 | repartition = [1, 0]\n",
      "|   |   |   |   [25] feature 1 > 36.0 -> metric = 0.0 | repartition = [7, 248]\n",
      "|   |   |   |   |    Δ metric = +0.9148943701980715\n",
      "|   |   |   |   |   [50] feature 5 <= 0.0 -> metric = 0.0 | repartition = [5, 240]\n",
      "|   |   |   |   |   [51] feature 5 > 0.0 -> metric = 0.0 | repartition = [2, 8]\n",
      "|   |   |   [13] feature 0 > 73.0 -> metric = 0.0 | repartition = [3, 7]\n",
      "|   |   |   |    Δ metric = +1.0770909489659266\n",
      "|   |   |   |   [26] feature 4 <= 0.0 -> metric = 0.0 | repartition = [1, 7]\n",
      "|   |   |   |   |    Δ metric = +0.5614836198811978\n",
      "|   |   |   |   |   [52] feature 0 <= 76.0 -> metric = 0.0 | repartition = [1, 1]\n",
      "|   |   |   |   |   [53] feature 0 > 76.0 -> metric = 0.0 | repartition = [0, 6]\n",
      "|   |   |   |   [27] feature 4 > 0.0 -> metric = 0.0 | repartition = [2, 0]\n",
      "|   |   [7] feature 1 > 127.0 -> metric = 0.0 | repartition = [22, 85]\n",
      "|   |   |    Δ metric = +0.4952485379611525\n",
      "|   |   |   [14] feature 6 <= 0.0 -> metric = 0.0 | repartition = [17, 47]\n",
      "|   |   |   |    Δ metric = +0.7270750631659825\n",
      "|   |   |   |   [28] feature 1 <= 130.0 -> metric = 0.0 | repartition = [4, 2]\n",
      "|   |   |   |   |    Δ metric = +0.4404167061651456\n",
      "|   |   |   |   |   [56] feature 0 <= 45.0 -> metric = 0.0 | repartition = [2, 0]\n",
      "|   |   |   |   |   [57] feature 0 > 45.0 -> metric = 0.0 | repartition = [2, 2]\n",
      "|   |   |   |   [29] feature 1 > 130.0 -> metric = 0.0 | repartition = [13, 45]\n",
      "|   |   |   |   |    Δ metric = +0.4112560635330716\n",
      "|   |   |   |   |   [58] feature 1 <= 163.0 -> metric = 0.0 | repartition = [6, 32]\n",
      "|   |   |   |   |   [59] feature 1 > 163.0 -> metric = 0.0 | repartition = [7, 13]\n",
      "|   |   |   [15] feature 6 > 0.0 -> metric = 0.0 | repartition = [5, 38]\n",
      "|   |   |   |    Δ metric = +0.24721426134007365\n",
      "|   |   |   |   [30] feature 0 <= 32.0 -> metric = 0.0 | repartition = [0, 7]\n",
      "|   |   |   |   [31] feature 0 > 32.0 -> metric = 0.0 | repartition = [5, 31]\n",
      "|   |   |   |   |    Δ metric = +0.3369947384567622\n",
      "|   |   |   |   |   [62] feature 1 <= 133.0 -> metric = 0.0 | repartition = [3, 8]\n",
      "|   |   |   |   |   [63] feature 1 > 133.0 -> metric = 0.0 | repartition = [2, 23]\n"
     ]
    }
   ],
   "source": [
    "# اگر مدل متد print_tree دارد، می‌توانی درخت را چاپ کنی و ببینی چقدر بزرگ است\n",
    "if hasattr(model.model, 'print_tree'):\n",
    "    print(\"ساختار درخت:\")\n",
    "    model.model.print_tree()\n",
    "else:\n",
    "    print(\"متد print_tree وجود ندارد.\")\n"
   ]
  },
  {
   "cell_type": "code",
   "execution_count": null,
   "id": "99cb65ab-19c7-4440-8389-fa4b8c8ea027",
   "metadata": {},
   "outputs": [],
   "source": []
  }
 ],
 "metadata": {
  "kernelspec": {
   "display_name": "Python 3 (ipykernel)",
   "language": "python",
   "name": "python3"
  },
  "language_info": {
   "codemirror_mode": {
    "name": "ipython",
    "version": 3
   },
   "file_extension": ".py",
   "mimetype": "text/x-python",
   "name": "python",
   "nbconvert_exporter": "python",
   "pygments_lexer": "ipython3",
   "version": "3.12.0"
  }
 },
 "nbformat": 4,
 "nbformat_minor": 5
}
