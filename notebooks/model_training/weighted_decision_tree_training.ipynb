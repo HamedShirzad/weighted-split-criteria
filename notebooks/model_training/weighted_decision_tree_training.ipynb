{
 "cells": [
  {
   "cell_type": "code",
   "execution_count": 1,
   "id": "b6312d84-a55c-4340-8555-fcd3758ae224",
   "metadata": {},
   "outputs": [
    {
     "name": "stdout",
     "output_type": "stream",
     "text": [
      "شکل دیتاست: (896, 8)\n",
      "    Age  LastTransaction  Churn  Gender_female  Gender_male  \\\n",
      "0  64.0               98      1          False         True   \n",
      "1  35.0              118      0          False         True   \n",
      "2  25.0              107      1           True        False   \n",
      "3  39.0               90      1          False         True   \n",
      "4  28.0              189      0           True        False   \n",
      "\n",
      "   Payment Method_cash  Payment Method_cheque  Payment Method_credit card  \n",
      "0                False                  False                        True  \n",
      "1                False                   True                       False  \n",
      "2                False                  False                        True  \n",
      "3                False                  False                        True  \n",
      "4                False                   True                       False  \n",
      "نام ستون‌ها: ['Age', 'LastTransaction', 'Churn', 'Gender_female', 'Gender_male', 'Payment Method_cash', 'Payment Method_cheque', 'Payment Method_credit card']\n"
     ]
    }
   ],
   "source": [
    "import pandas as pd\n",
    "\n",
    "# مسیر دقیق دیتاست پیش‌پردازش شده\n",
    "dataset_path = r'C:\\Users\\HsH-HsH\\weighted_split_criteria\\notebooks\\datasets\\customer_churn_data_preprocessed.csv'\n",
    "\n",
    "# بارگذاری دیتاست\n",
    "df = pd.read_csv(dataset_path)\n",
    "\n",
    "# نمایش شکل دیتاست و 5 سطر اول برای اطمینان\n",
    "print(\"شکل دیتاست:\", df.shape)\n",
    "print(df.head())\n",
    "print(\"نام ستون‌ها:\", df.columns.tolist())\n"
   ]
  },
  {
   "cell_type": "code",
   "execution_count": 2,
   "id": "04d92f44-3e8d-4e37-b988-6608b75319ff",
   "metadata": {},
   "outputs": [
    {
     "name": "stdout",
     "output_type": "stream",
     "text": [
      "ابعاد ویژگی‌ها (X): (896, 7)\n",
      "ابعاد برچسب هدف (y): (896,)\n"
     ]
    }
   ],
   "source": [
    "# جدا کردن ویژگی‌ها (تمام ستون‌ها به جز 'Churn')\n",
    "X = df.drop('Churn', axis=1)\n",
    "\n",
    "# جدا کردن برچسب هدف (ستون 'Churn')\n",
    "y = df['Churn']\n",
    "\n",
    "# نمایش ابعاد مجموعه ویژگی‌ها و برچسب هدف\n",
    "print(\"ابعاد ویژگی‌ها (X):\", X.shape)\n",
    "print(\"ابعاد برچسب هدف (y):\", y.shape)\n"
   ]
  },
  {
   "cell_type": "code",
   "execution_count": 3,
   "id": "58e11fa5-c6cb-4011-b9f3-d84ce9a38f05",
   "metadata": {},
   "outputs": [
    {
     "ename": "ModuleNotFoundError",
     "evalue": "No module named 'utils'",
     "output_type": "error",
     "traceback": [
      "\u001b[1;31m---------------------------------------------------------------------------\u001b[0m",
      "\u001b[1;31mModuleNotFoundError\u001b[0m                       Traceback (most recent call last)",
      "Cell \u001b[1;32mIn[3], line 2\u001b[0m\n\u001b[0;32m      1\u001b[0m \u001b[38;5;66;03m# وارد کردن کلاس مدل از مسیر src/model\u001b[39;00m\n\u001b[1;32m----> 2\u001b[0m \u001b[38;5;28;01mfrom\u001b[39;00m \u001b[38;5;21;01msrc\u001b[39;00m\u001b[38;5;21;01m.\u001b[39;00m\u001b[38;5;21;01mmodel\u001b[39;00m\u001b[38;5;21;01m.\u001b[39;00m\u001b[38;5;21;01mweighted_decision_tree\u001b[39;00m \u001b[38;5;28;01mimport\u001b[39;00m WeightedDecisionTree\n\u001b[0;32m      4\u001b[0m \u001b[38;5;66;03m# تعیین لیست معیارهای وزندهی (مطابق پروژه شما، در صورت متفاوت بودن تغییر دهید)\u001b[39;00m\n\u001b[0;32m      5\u001b[0m criteria_list \u001b[38;5;241m=\u001b[39m [\u001b[38;5;124m'\u001b[39m\u001b[38;5;124mgini\u001b[39m\u001b[38;5;124m'\u001b[39m, \u001b[38;5;124m'\u001b[39m\u001b[38;5;124mentropy\u001b[39m\u001b[38;5;124m'\u001b[39m]  \u001b[38;5;66;03m# یا معیارهای دقیق پروژه شما\u001b[39;00m\n",
      "File \u001b[1;32m~\\weighted_split_criteria\\src\\model\\weighted_decision_tree.py:2\u001b[0m\n\u001b[0;32m      1\u001b[0m \u001b[38;5;28;01mimport\u001b[39;00m \u001b[38;5;21;01mnumpy\u001b[39;00m \u001b[38;5;28;01mas\u001b[39;00m \u001b[38;5;21;01mnp\u001b[39;00m\n\u001b[1;32m----> 2\u001b[0m \u001b[38;5;28;01mfrom\u001b[39;00m \u001b[38;5;21;01mutils\u001b[39;00m\u001b[38;5;21;01m.\u001b[39;00m\u001b[38;5;21;01mvoting_split_manager\u001b[39;00m \u001b[38;5;28;01mimport\u001b[39;00m FNWeightedSplitManager\n\u001b[0;32m      4\u001b[0m \u001b[38;5;28;01mclass\u001b[39;00m \u001b[38;5;21;01mTreeNode\u001b[39;00m:\n\u001b[0;32m      5\u001b[0m     \u001b[38;5;28;01mdef\u001b[39;00m \u001b[38;5;21m__init__\u001b[39m(\u001b[38;5;28mself\u001b[39m, is_leaf, prediction\u001b[38;5;241m=\u001b[39m\u001b[38;5;28;01mNone\u001b[39;00m, feature\u001b[38;5;241m=\u001b[39m\u001b[38;5;28;01mNone\u001b[39;00m, threshold\u001b[38;5;241m=\u001b[39m\u001b[38;5;28;01mNone\u001b[39;00m, left\u001b[38;5;241m=\u001b[39m\u001b[38;5;28;01mNone\u001b[39;00m, right\u001b[38;5;241m=\u001b[39m\u001b[38;5;28;01mNone\u001b[39;00m):\n",
      "\u001b[1;31mModuleNotFoundError\u001b[0m: No module named 'utils'"
     ]
    }
   ],
   "source": [
    "# وارد کردن کلاس مدل از مسیر src/model\n",
    "from src.model.weighted_decision_tree import WeightedDecisionTree\n",
    "\n",
    "# تعیین لیست معیارهای وزندهی (مطابق پروژه شما، در صورت متفاوت بودن تغییر دهید)\n",
    "criteria_list = ['gini', 'entropy']  # یا معیارهای دقیق پروژه شما\n",
    "\n",
    "# نمونه‌سازی مدل با پارامترهای مورد نظر\n",
    "model = WeightedDecisionTree(criteria_list=criteria_list, max_depth=3, min_samples_split=5, positive_label=1)\n",
    "\n",
    "print(\"مدل ساخته شد.\")\n",
    "\n",
    "# آموزش مدل با داده‌های numpy شده\n",
    "model.fit(X.to_numpy(), y.to_numpy())\n",
    "\n",
    "print(\"مدل آموزش داده شد.\")\n"
   ]
  },
  {
   "cell_type": "code",
   "execution_count": 4,
   "id": "ceb602db-9dd8-4979-8541-1d71bdd67652",
   "metadata": {},
   "outputs": [],
   "source": [
    "import sys\n",
    "import os\n",
    "\n",
    "project_root = r'C:\\Users\\HsH-HsH\\weighted_split_criteria'\n",
    "src_path = os.path.join(project_root, 'src')\n",
    "if src_path not in sys.path:\n",
    "    sys.path.append(src_path)\n"
   ]
  },
  {
   "cell_type": "code",
   "execution_count": 5,
   "id": "d41229e5-f1ec-41c6-8673-dbeb7b487ae0",
   "metadata": {},
   "outputs": [
    {
     "name": "stdout",
     "output_type": "stream",
     "text": [
      "مدل ساخته شد.\n"
     ]
    },
    {
     "ename": "AttributeError",
     "evalue": "'str' object has no attribute 'calculate_score'",
     "output_type": "error",
     "traceback": [
      "\u001b[1;31m---------------------------------------------------------------------------\u001b[0m",
      "\u001b[1;31mAttributeError\u001b[0m                            Traceback (most recent call last)",
      "Cell \u001b[1;32mIn[5], line 9\u001b[0m\n\u001b[0;32m      5\u001b[0m model \u001b[38;5;241m=\u001b[39m WeightedDecisionTree(criteria_list\u001b[38;5;241m=\u001b[39mcriteria_list, max_depth\u001b[38;5;241m=\u001b[39m\u001b[38;5;241m3\u001b[39m, min_samples_split\u001b[38;5;241m=\u001b[39m\u001b[38;5;241m5\u001b[39m, positive_label\u001b[38;5;241m=\u001b[39m\u001b[38;5;241m1\u001b[39m)\n\u001b[0;32m      7\u001b[0m \u001b[38;5;28mprint\u001b[39m(\u001b[38;5;124m\"\u001b[39m\u001b[38;5;124mمدل ساخته شد.\u001b[39m\u001b[38;5;124m\"\u001b[39m)\n\u001b[1;32m----> 9\u001b[0m \u001b[43mmodel\u001b[49m\u001b[38;5;241;43m.\u001b[39;49m\u001b[43mfit\u001b[49m\u001b[43m(\u001b[49m\u001b[43mX\u001b[49m\u001b[38;5;241;43m.\u001b[39;49m\u001b[43mto_numpy\u001b[49m\u001b[43m(\u001b[49m\u001b[43m)\u001b[49m\u001b[43m,\u001b[49m\u001b[43m \u001b[49m\u001b[43my\u001b[49m\u001b[38;5;241;43m.\u001b[39;49m\u001b[43mto_numpy\u001b[49m\u001b[43m(\u001b[49m\u001b[43m)\u001b[49m\u001b[43m)\u001b[49m\n\u001b[0;32m     11\u001b[0m \u001b[38;5;28mprint\u001b[39m(\u001b[38;5;124m\"\u001b[39m\u001b[38;5;124mمدل آموزش داده شد.\u001b[39m\u001b[38;5;124m\"\u001b[39m)\n",
      "File \u001b[1;32m~\\weighted_split_criteria\\src\\model\\weighted_decision_tree.py:24\u001b[0m, in \u001b[0;36mWeightedDecisionTree.fit\u001b[1;34m(self, X, y)\u001b[0m\n\u001b[0;32m     22\u001b[0m \u001b[38;5;28;01mdef\u001b[39;00m \u001b[38;5;21mfit\u001b[39m(\u001b[38;5;28mself\u001b[39m, X, y):\n\u001b[0;32m     23\u001b[0m     \u001b[38;5;28mself\u001b[39m\u001b[38;5;241m.\u001b[39mn_classes_ \u001b[38;5;241m=\u001b[39m \u001b[38;5;28mlen\u001b[39m(np\u001b[38;5;241m.\u001b[39munique(y))\n\u001b[1;32m---> 24\u001b[0m     \u001b[38;5;28mself\u001b[39m\u001b[38;5;241m.\u001b[39mroot \u001b[38;5;241m=\u001b[39m \u001b[38;5;28;43mself\u001b[39;49m\u001b[38;5;241;43m.\u001b[39;49m\u001b[43m_build_tree\u001b[49m\u001b[43m(\u001b[49m\u001b[43mX\u001b[49m\u001b[43m,\u001b[49m\u001b[43m \u001b[49m\u001b[43my\u001b[49m\u001b[43m,\u001b[49m\u001b[43m \u001b[49m\u001b[43mdepth\u001b[49m\u001b[38;5;241;43m=\u001b[39;49m\u001b[38;5;241;43m0\u001b[39;49m\u001b[43m)\u001b[49m\n",
      "File \u001b[1;32m~\\weighted_split_criteria\\src\\model\\weighted_decision_tree.py:62\u001b[0m, in \u001b[0;36mWeightedDecisionTree._build_tree\u001b[1;34m(self, X, y, depth)\u001b[0m\n\u001b[0;32m     56\u001b[0m \u001b[38;5;66;03m# رأی‌گیری وزنی بین همه معیارها (FNWeightedSplitManager)\u001b[39;00m\n\u001b[0;32m     57\u001b[0m manager \u001b[38;5;241m=\u001b[39m FNWeightedSplitManager(\n\u001b[0;32m     58\u001b[0m     \u001b[38;5;28mself\u001b[39m\u001b[38;5;241m.\u001b[39mcriteria_list,\n\u001b[0;32m     59\u001b[0m     positive_label\u001b[38;5;241m=\u001b[39m\u001b[38;5;28mself\u001b[39m\u001b[38;5;241m.\u001b[39mpositive_label,\n\u001b[0;32m     60\u001b[0m     epsilon\u001b[38;5;241m=\u001b[39m\u001b[38;5;28mself\u001b[39m\u001b[38;5;241m.\u001b[39mepsilon\n\u001b[0;32m     61\u001b[0m )\n\u001b[1;32m---> 62\u001b[0m best_split \u001b[38;5;241m=\u001b[39m \u001b[43mmanager\u001b[49m\u001b[38;5;241;43m.\u001b[39;49m\u001b[43mevaluate_all_splits\u001b[49m\u001b[43m(\u001b[49m\u001b[43msplits\u001b[49m\u001b[43m)\u001b[49m\n\u001b[0;32m     64\u001b[0m \u001b[38;5;28;01mif\u001b[39;00m best_split \u001b[38;5;129;01mis\u001b[39;00m \u001b[38;5;28;01mNone\u001b[39;00m:\n\u001b[0;32m     65\u001b[0m     \u001b[38;5;66;03m# اگر split انتخاب نشد، گره برگ\u001b[39;00m\n\u001b[0;32m     66\u001b[0m     values, counts \u001b[38;5;241m=\u001b[39m np\u001b[38;5;241m.\u001b[39munique(y, return_counts\u001b[38;5;241m=\u001b[39m\u001b[38;5;28;01mTrue\u001b[39;00m)\n",
      "File \u001b[1;32m~\\weighted_split_criteria\\src\\utils\\voting_split_manager.py:33\u001b[0m, in \u001b[0;36mFNWeightedSplitManager.evaluate_all_splits\u001b[1;34m(self, splits)\u001b[0m\n\u001b[0;32m     30\u001b[0m fn_list \u001b[38;5;241m=\u001b[39m []\n\u001b[0;32m     32\u001b[0m \u001b[38;5;28;01mfor\u001b[39;00m crit \u001b[38;5;129;01min\u001b[39;00m \u001b[38;5;28mself\u001b[39m\u001b[38;5;241m.\u001b[39mcriteria_list:\n\u001b[1;32m---> 33\u001b[0m     score \u001b[38;5;241m=\u001b[39m \u001b[43mcrit\u001b[49m\u001b[38;5;241;43m.\u001b[39;49m\u001b[43mcalculate_score\u001b[49m(y_left, y_right)\n\u001b[0;32m     34\u001b[0m     score_list\u001b[38;5;241m.\u001b[39mappend(score)\n\u001b[0;32m     36\u001b[0m     fn_left \u001b[38;5;241m=\u001b[39m false_negative(y_left, y_left, \u001b[38;5;28mself\u001b[39m\u001b[38;5;241m.\u001b[39mpositive_label)\n",
      "\u001b[1;31mAttributeError\u001b[0m: 'str' object has no attribute 'calculate_score'"
     ]
    }
   ],
   "source": [
    "from model.weighted_decision_tree import WeightedDecisionTree\n",
    "\n",
    "criteria_list = ['gini', 'entropy']  # یا معیارهای دقیق پروژه شما\n",
    "\n",
    "model = WeightedDecisionTree(criteria_list=criteria_list, max_depth=3, min_samples_split=5, positive_label=1)\n",
    "\n",
    "print(\"مدل ساخته شد.\")\n",
    "\n",
    "model.fit(X.to_numpy(), y.to_numpy())\n",
    "\n",
    "print(\"مدل آموزش داده شد.\")\n"
   ]
  },
  {
   "cell_type": "code",
   "execution_count": 6,
   "id": "0cd5d87c-faff-47f6-b298-7d982d5f8c57",
   "metadata": {},
   "outputs": [
    {
     "name": "stdout",
     "output_type": "stream",
     "text": [
      "مسیر src به sys.path اضافه شد.\n"
     ]
    }
   ],
   "source": [
    "import sys\n",
    "import os\n",
    "\n",
    "# مسیر پوشه اصلی پروژه خود را وارد کنید (مسیر خود را جایگزین کنید)\n",
    "project_root = r'C:\\Users\\HsH-HsH\\weighted_split_criteria'\n",
    "\n",
    "# مسیر پوشه src\n",
    "src_path = os.path.join(project_root, 'src')\n",
    "\n",
    "# افزودن به مسیرهای پایتون اگر هنوز اضافه نشده\n",
    "if src_path not in sys.path:\n",
    "    sys.path.append(src_path)\n",
    "\n",
    "print(\"مسیر src به sys.path اضافه شد.\")\n"
   ]
  },
  {
   "cell_type": "code",
   "execution_count": 7,
   "id": "daf78cb4-3672-4175-985a-24a44fd8d0c5",
   "metadata": {},
   "outputs": [
    {
     "name": "stdout",
     "output_type": "stream",
     "text": [
      "ابعاد ویژگی‌ها (X): (896, 7)\n",
      "ابعاد برچسب هدف (y): (896,)\n"
     ]
    }
   ],
   "source": [
    "import pandas as pd\n",
    "\n",
    "# مسیر دقیق دیتاست پیش‌پردازش شده خود را جایگزین کنید\n",
    "dataset_path = r'C:\\Users\\HsH-HsH\\weighted_split_criteria\\notebooks\\datasets\\customer_churn_data_preprocessed.csv'\n",
    "\n",
    "# بارگذاری دیتاست\n",
    "df = pd.read_csv(dataset_path)\n",
    "\n",
    "# جدا کردن ویژگی‌ها (تمام ستون‌ها به جز 'Churn')\n",
    "X = df.drop('Churn', axis=1)\n",
    "\n",
    "# جدا کردن برچسب هدف (ستون 'Churn')\n",
    "y = df['Churn']\n",
    "\n",
    "# نمایش ابعاد برای اطمینان\n",
    "print(\"ابعاد ویژگی‌ها (X):\", X.shape)\n",
    "print(\"ابعاد برچسب هدف (y):\", y.shape)\n"
   ]
  },
  {
   "cell_type": "code",
   "execution_count": 8,
   "id": "faeef90b-a669-4fa1-b9fe-659bfd826720",
   "metadata": {},
   "outputs": [
    {
     "ename": "ImportError",
     "evalue": "cannot import name 'KolmogorovCriterion' from 'criteria.ks' (C:\\Users\\HsH-HsH\\weighted_split_criteria\\src\\criteria\\ks.py)",
     "output_type": "error",
     "traceback": [
      "\u001b[1;31m---------------------------------------------------------------------------\u001b[0m",
      "\u001b[1;31mImportError\u001b[0m                               Traceback (most recent call last)",
      "Cell \u001b[1;32mIn[8], line 6\u001b[0m\n\u001b[0;32m      4\u001b[0m \u001b[38;5;28;01mfrom\u001b[39;00m \u001b[38;5;21;01mcriteria\u001b[39;00m\u001b[38;5;21;01m.\u001b[39;00m\u001b[38;5;21;01mdkm\u001b[39;00m \u001b[38;5;28;01mimport\u001b[39;00m DKMCriterion\n\u001b[0;32m      5\u001b[0m \u001b[38;5;28;01mfrom\u001b[39;00m \u001b[38;5;21;01mcriteria\u001b[39;00m\u001b[38;5;21;01m.\u001b[39;00m\u001b[38;5;21;01mgs\u001b[39;00m \u001b[38;5;28;01mimport\u001b[39;00m GStatisticCriterion\n\u001b[1;32m----> 6\u001b[0m \u001b[38;5;28;01mfrom\u001b[39;00m \u001b[38;5;21;01mcriteria\u001b[39;00m\u001b[38;5;21;01m.\u001b[39;00m\u001b[38;5;21;01mks\u001b[39;00m \u001b[38;5;28;01mimport\u001b[39;00m KolmogorovCriterion\n\u001b[0;32m      7\u001b[0m \u001b[38;5;28;01mfrom\u001b[39;00m \u001b[38;5;21;01mcriteria\u001b[39;00m\u001b[38;5;21;01m.\u001b[39;00m\u001b[38;5;21;01mmarsh\u001b[39;00m \u001b[38;5;28;01mimport\u001b[39;00m MarshallCriterion\n\u001b[0;32m      8\u001b[0m \u001b[38;5;28;01mfrom\u001b[39;00m \u001b[38;5;21;01mcriteria\u001b[39;00m\u001b[38;5;21;01m.\u001b[39;00m\u001b[38;5;21;01mmch\u001b[39;00m \u001b[38;5;28;01mimport\u001b[39;00m MultiClassHellingerCriterion\n",
      "\u001b[1;31mImportError\u001b[0m: cannot import name 'KolmogorovCriterion' from 'criteria.ks' (C:\\Users\\HsH-HsH\\weighted_split_criteria\\src\\criteria\\ks.py)"
     ]
    }
   ],
   "source": [
    "from criteria.gini import GiniCriterion\n",
    "from criteria.bhy import BhattacharyyaCriterion\n",
    "from criteria.cs import ChiSquaredCriterion\n",
    "from criteria.dkm import DKMCriterion\n",
    "from criteria.gs import GStatisticCriterion\n",
    "from criteria.ks import KolmogorovCriterion\n",
    "from criteria.marsh import MarshallCriterion\n",
    "from criteria.mch import MultiClassHellingerCriterion\n",
    "from criteria.ng import NormalizedGainCriterion\n",
    "from criteria.qg import QuinlanGainCriterion\n",
    "from criteria.twoing import TwoingCriterion\n",
    "\n",
    "criteria_list = [\n",
    "    GiniCriterion(),\n",
    "    BhattacharyyaCriterion(),\n",
    "    ChiSquaredCriterion(),\n",
    "    DKMCriterion(),\n",
    "    GStatisticCriterion(),\n",
    "    KolmogorovCriterion(),\n",
    "    MarshallCriterion(),\n",
    "    MultiClassHellingerCriterion(),\n",
    "    NormalizedGainCriterion(),\n",
    "    QuinlanGainCriterion(),\n",
    "    TwoingCriterion()\n",
    "]\n",
    "\n",
    "from model.weighted_decision_tree import WeightedDecisionTree\n",
    "\n",
    "model = WeightedDecisionTree(criteria_list=criteria_list, max_depth=3, min_samples_split=5, positive_label=1)\n",
    "\n",
    "print(\"مدل با 11 معیار ساخته شد.\")\n"
   ]
  },
  {
   "cell_type": "code",
   "execution_count": 9,
   "id": "0d65937d-1629-4ccb-b9a4-4ebe5a5a6f7f",
   "metadata": {},
   "outputs": [
    {
     "name": "stdout",
     "output_type": "stream",
     "text": [
      "مسیر src به sys.path اضافه شد.\n"
     ]
    },
    {
     "ename": "ImportError",
     "evalue": "cannot import name 'QuinlanGainCriterion' from 'criteria.qg' (C:\\Users\\HsH-HsH\\weighted_split_criteria\\src\\criteria\\qg.py)",
     "output_type": "error",
     "traceback": [
      "\u001b[1;31m---------------------------------------------------------------------------\u001b[0m",
      "\u001b[1;31mImportError\u001b[0m                               Traceback (most recent call last)",
      "Cell \u001b[1;32mIn[9], line 22\u001b[0m\n\u001b[0;32m     20\u001b[0m \u001b[38;5;28;01mfrom\u001b[39;00m \u001b[38;5;21;01mcriteria\u001b[39;00m\u001b[38;5;21;01m.\u001b[39;00m\u001b[38;5;21;01mmch\u001b[39;00m \u001b[38;5;28;01mimport\u001b[39;00m MultiClassHellingerCriterion\n\u001b[0;32m     21\u001b[0m \u001b[38;5;28;01mfrom\u001b[39;00m \u001b[38;5;21;01mcriteria\u001b[39;00m\u001b[38;5;21;01m.\u001b[39;00m\u001b[38;5;21;01mng\u001b[39;00m \u001b[38;5;28;01mimport\u001b[39;00m NormalizedGainCriterion\n\u001b[1;32m---> 22\u001b[0m \u001b[38;5;28;01mfrom\u001b[39;00m \u001b[38;5;21;01mcriteria\u001b[39;00m\u001b[38;5;21;01m.\u001b[39;00m\u001b[38;5;21;01mqg\u001b[39;00m \u001b[38;5;28;01mimport\u001b[39;00m QuinlanGainCriterion\n\u001b[0;32m     23\u001b[0m \u001b[38;5;28;01mfrom\u001b[39;00m \u001b[38;5;21;01mcriteria\u001b[39;00m\u001b[38;5;21;01m.\u001b[39;00m\u001b[38;5;21;01mtwoing\u001b[39;00m \u001b[38;5;28;01mimport\u001b[39;00m TwoingCriterion\n\u001b[0;32m     25\u001b[0m \u001b[38;5;66;03m# تعریف لیست 11 معیار به صورت نمونه‌های کلاس‌ها\u001b[39;00m\n",
      "\u001b[1;31mImportError\u001b[0m: cannot import name 'QuinlanGainCriterion' from 'criteria.qg' (C:\\Users\\HsH-HsH\\weighted_split_criteria\\src\\criteria\\qg.py)"
     ]
    }
   ],
   "source": [
    "# ابتدا مطمئن شوید مسیر src به sys.path اضافه شده است\n",
    "import sys\n",
    "import os\n",
    "\n",
    "project_root = r'C:\\Users\\HsH-HsH\\weighted_split_criteria'\n",
    "src_path = os.path.join(project_root, 'src')\n",
    "if src_path not in sys.path:\n",
    "    sys.path.append(src_path)\n",
    "\n",
    "print(\"مسیر src به sys.path اضافه شد.\")\n",
    "\n",
    "# ایمپورت کلاس‌های 11 معیار تقسیم وزندهی\n",
    "from criteria.gini import GiniCriterion\n",
    "from criteria.bhy import BhattacharyyaCriterion\n",
    "from criteria.cs import ChiSquaredCriterion\n",
    "from criteria.dkm import DKMCriterion\n",
    "from criteria.gs import GStatisticCriterion\n",
    "from criteria.ks import KolmogorovSmirnovCriterion  # نام اصلاح شده\n",
    "from criteria.marsh import MarshallCriterion\n",
    "from criteria.mch import MultiClassHellingerCriterion\n",
    "from criteria.ng import NormalizedGainCriterion\n",
    "from criteria.qg import QuinlanGainCriterion\n",
    "from criteria.twoing import TwoingCriterion\n",
    "\n",
    "# تعریف لیست 11 معیار به صورت نمونه‌های کلاس‌ها\n",
    "criteria_list = [\n",
    "    GiniCriterion(),\n",
    "    BhattacharyyaCriterion(),\n",
    "    ChiSquaredCriterion(),\n",
    "    DKMCriterion(),\n",
    "    GStatisticCriterion(),\n",
    "    KolmogorovSmirnovCriterion(),\n",
    "    MarshallCriterion(),\n",
    "    MultiClassHellingerCriterion(),\n",
    "    NormalizedGainCriterion(),\n",
    "    QuinlanGainCriterion(),\n",
    "    TwoingCriterion()\n",
    "]\n",
    "\n",
    "# ایمپورت مدل WeightedDecisionTree\n",
    "from model.weighted_decision_tree import WeightedDecisionTree\n",
    "\n",
    "# نمونه‌سازی مدل با لیست معیارها\n",
    "model = WeightedDecisionTree(criteria_list=criteria_list, max_depth=3, min_samples_split=5, positive_label=1)\n",
    "\n",
    "print(\"مدل با 11 معیار ساخته شد.\")\n"
   ]
  },
  {
   "cell_type": "code",
   "execution_count": 10,
   "id": "796b31cf-39ce-4148-92e7-54cb3b9707e7",
   "metadata": {},
   "outputs": [
    {
     "name": "stdout",
     "output_type": "stream",
     "text": [
      "مسیر src به sys.path اضافه شد.\n"
     ]
    },
    {
     "name": "stdin",
     "output_type": "stream",
     "text": [
      "Press Enter to exit \n"
     ]
    },
    {
     "name": "stdout",
     "output_type": "stream",
     "text": [
      "مدل با 11 معیار ساخته شد.\n"
     ]
    }
   ],
   "source": [
    "# افزودن مسیر src به sys.path (با توجه به مسیر پروژه خودتان آن را اصلاح کنید)\n",
    "import sys\n",
    "import os\n",
    "\n",
    "project_root = r'C:\\Users\\HsH-HsH\\weighted_split_criteria'\n",
    "src_path = os.path.join(project_root, 'src')\n",
    "if src_path not in sys.path:\n",
    "    sys.path.append(src_path)\n",
    "\n",
    "print(\"مسیر src به sys.path اضافه شد.\")\n",
    "\n",
    "# وارد کردن تمامی کلاس‌های معیار 11 گانه با نام‌های صحیح کلاس‌ها\n",
    "from criteria.gini import GiniCriterion\n",
    "from criteria.bhy import BhattacharyyaCriterion\n",
    "from criteria.cs import ChiSquaredCriterion\n",
    "from criteria.dkm import DKMCriterion\n",
    "from criteria.gs import GStatisticCriterion\n",
    "from criteria.ks import KolmogorovSmirnovCriterion\n",
    "from criteria.marsh import MarshallCriterion\n",
    "from criteria.mch import MultiClassHellingerCriterion\n",
    "from criteria.ng import NormalizedGainCriterion\n",
    "from criteria.qg import GainRatioCriterion  # نام اصلاح شده به جای QuinlanGainCriterion\n",
    "from criteria.twoing import TwoingCriterion\n",
    "\n",
    "# تعریف لیست معیارها به صورت نمونه کلاس‌ها\n",
    "criteria_list = [\n",
    "    GiniCriterion(),\n",
    "    BhattacharyyaCriterion(),\n",
    "    ChiSquaredCriterion(),\n",
    "    DKMCriterion(),\n",
    "    GStatisticCriterion(),\n",
    "    KolmogorovSmirnovCriterion(),\n",
    "    MarshallCriterion(),\n",
    "    MultiClassHellingerCriterion(),\n",
    "    NormalizedGainCriterion(),\n",
    "    GainRatioCriterion(),  # اصلاح شده\n",
    "    TwoingCriterion()\n",
    "]\n",
    "\n",
    "# وارد کردن مدل WeightedDecisionTree\n",
    "from model.weighted_decision_tree import WeightedDecisionTree\n",
    "\n",
    "# نمونه‌سازی مدل با 11 معیار\n",
    "model = WeightedDecisionTree(criteria_list=criteria_list, max_depth=3, min_samples_split=5, positive_label=1)\n",
    "\n",
    "print(\"مدل با 11 معیار ساخته شد.\")\n"
   ]
  },
  {
   "cell_type": "code",
   "execution_count": 11,
   "id": "e4a4ca7e-7303-43fb-b8c3-5aaafbff7941",
   "metadata": {},
   "outputs": [],
   "source": [
    "model.fit(X.to_numpy(), y.to_numpy())\n"
   ]
  },
  {
   "cell_type": "code",
   "execution_count": 12,
   "id": "305d9114-3e21-4464-88d3-2078b08baff9",
   "metadata": {},
   "outputs": [
    {
     "name": "stdout",
     "output_type": "stream",
     "text": [
      "آموزش مدل با موفقیت انجام شد.\n"
     ]
    }
   ],
   "source": [
    "# آموزش مدل با داده‌ها\n",
    "model.fit(X.to_numpy(), y.to_numpy())\n",
    "\n",
    "print(\"آموزش مدل با موفقیت انجام شد.\")\n"
   ]
  },
  {
   "cell_type": "code",
   "execution_count": 13,
   "id": "c2d20d7a-cc8e-4528-a441-c1c50623e5b3",
   "metadata": {},
   "outputs": [
    {
     "name": "stdout",
     "output_type": "stream",
     "text": [
      "10 پیش‌بینی اول مدل:\n",
      "[1 1 1 1 0 1 1 0 1 1]\n"
     ]
    }
   ],
   "source": [
    "predictions = model.predict(X.to_numpy())\n",
    "print(\"10 پیش‌بینی اول مدل:\")\n",
    "print(predictions[:10])\n"
   ]
  },
  {
   "cell_type": "code",
   "execution_count": 14,
   "id": "680b99ea-1766-4d9b-8721-fff0fd2ba2e7",
   "metadata": {},
   "outputs": [
    {
     "name": "stdout",
     "output_type": "stream",
     "text": [
      "10 پیش‌بینی اول مدل:\n",
      "[1 1 1 1 0 1 1 0 1 1]\n",
      "دقت مدل: 0.8504464285714286\n",
      "\n",
      "گزارش طبقه‌بندی:\n",
      "               precision    recall  f1-score   support\n",
      "\n",
      "           0       0.80      0.78      0.79       320\n",
      "           1       0.88      0.89      0.88       576\n",
      "\n",
      "    accuracy                           0.85       896\n",
      "   macro avg       0.84      0.84      0.84       896\n",
      "weighted avg       0.85      0.85      0.85       896\n",
      "\n",
      "\n",
      "ماتریس درهم‌ریختگی:\n",
      " [[250  70]\n",
      " [ 64 512]]\n"
     ]
    }
   ],
   "source": [
    "# پیش‌بینی با مدل روی داده‌های X\n",
    "predictions = model.predict(X.to_numpy())\n",
    "print(\"10 پیش‌بینی اول مدل:\")\n",
    "print(predictions[:10])\n",
    "\n",
    "# ارزیابی مدل با استفاده از معیارهای استاندارد از sklearn\n",
    "from sklearn.metrics import accuracy_score, classification_report, confusion_matrix\n",
    "\n",
    "print(\"دقت مدل:\", accuracy_score(y, predictions))\n",
    "print(\"\\nگزارش طبقه‌بندی:\\n\", classification_report(y, predictions))\n",
    "print(\"\\nماتریس درهم‌ریختگی:\\n\", confusion_matrix(y, predictions))\n"
   ]
  },
  {
   "cell_type": "code",
   "execution_count": null,
   "id": "ef185b41-be1a-4c55-ac14-4e6508899bf1",
   "metadata": {},
   "outputs": [],
   "source": []
  }
 ],
 "metadata": {
  "kernelspec": {
   "display_name": "Python 3 (ipykernel)",
   "language": "python",
   "name": "python3"
  },
  "language_info": {
   "codemirror_mode": {
    "name": "ipython",
    "version": 3
   },
   "file_extension": ".py",
   "mimetype": "text/x-python",
   "name": "python",
   "nbconvert_exporter": "python",
   "pygments_lexer": "ipython3",
   "version": "3.12.0"
  }
 },
 "nbformat": 4,
 "nbformat_minor": 5
}
