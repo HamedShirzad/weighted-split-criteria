{
 "cells": [
  {
   "cell_type": "code",
   "execution_count": 1,
   "id": "95191a45-4136-46ee-86ef-30e971b67530",
   "metadata": {},
   "outputs": [
    {
     "name": "stdout",
     "output_type": "stream",
     "text": [
      "شکل دیتاست: (896, 8)\n",
      "    Age  LastTransaction  Churn  Gender_female  Gender_male  \\\n",
      "0  64.0               98      1          False         True   \n",
      "1  35.0              118      0          False         True   \n",
      "2  25.0              107      1           True        False   \n",
      "3  39.0               90      1          False         True   \n",
      "4  28.0              189      0           True        False   \n",
      "\n",
      "   Payment Method_cash  Payment Method_cheque  Payment Method_credit card  \n",
      "0                False                  False                        True  \n",
      "1                False                   True                       False  \n",
      "2                False                  False                        True  \n",
      "3                False                  False                        True  \n",
      "4                False                   True                       False  \n",
      "نام ستون‌ها: ['Age', 'LastTransaction', 'Churn', 'Gender_female', 'Gender_male', 'Payment Method_cash', 'Payment Method_cheque', 'Payment Method_credit card']\n"
     ]
    }
   ],
   "source": [
    "import pandas as pd\n",
    "\n",
    "# مسیر دقیق دیتاست پیش‌پردازش شده\n",
    "dataset_path = r'C:\\Users\\HsH-HsH\\weighted_split_criteria\\notebooks\\datasets\\customer_churn_data_preprocessed.csv'\n",
    "\n",
    "# بارگذاری دیتاست\n",
    "df = pd.read_csv(dataset_path)\n",
    "\n",
    "# نمایش شکل دیتاست و 5 سطر اول برای اطمینان\n",
    "print(\"شکل دیتاست:\", df.shape)\n",
    "print(df.head())\n",
    "print(\"نام ستون‌ها:\", df.columns.tolist())"
   ]
  },
  {
   "cell_type": "code",
   "execution_count": 2,
   "id": "10a19939-8a5d-4b0b-8187-40a7ef754e76",
   "metadata": {},
   "outputs": [
    {
     "name": "stdout",
     "output_type": "stream",
     "text": [
      "ابعاد ویژگی‌ها (X): (896, 7)\n",
      "ابعاد برچسب هدف (y): (896,)\n"
     ]
    }
   ],
   "source": [
    "# جدا کردن ویژگی‌ها (تمام ستون‌ها به جز 'Churn')\n",
    "X = df.drop('Churn', axis=1)\n",
    "\n",
    "# جدا کردن برچسب هدف (ستون 'Churn')\n",
    "y = df['Churn']\n",
    "\n",
    "# نمایش ابعاد مجموعه ویژگی‌ها و برچسب هدف\n",
    "print(\"ابعاد ویژگی‌ها (X):\", X.shape)\n",
    "print(\"ابعاد برچسب هدف (y):\", y.shape)"
   ]
  },
  {
   "cell_type": "code",
   "execution_count": 3,
   "id": "6e02861e-06a0-47a2-a2a5-a8da7a135323",
   "metadata": {},
   "outputs": [
    {
     "ename": "ModuleNotFoundError",
     "evalue": "No module named 'src'",
     "output_type": "error",
     "traceback": [
      "\u001b[1;31m---------------------------------------------------------------------------\u001b[0m",
      "\u001b[1;31mModuleNotFoundError\u001b[0m                       Traceback (most recent call last)",
      "Cell \u001b[1;32mIn[3], line 2\u001b[0m\n\u001b[0;32m      1\u001b[0m \u001b[38;5;66;03m# وارد کردن کلاس مدل از مسیر src/model\u001b[39;00m\n\u001b[1;32m----> 2\u001b[0m \u001b[38;5;28;01mfrom\u001b[39;00m \u001b[38;5;21;01msrc\u001b[39;00m\u001b[38;5;21;01m.\u001b[39;00m\u001b[38;5;21;01mmodel\u001b[39;00m\u001b[38;5;21;01m.\u001b[39;00m\u001b[38;5;21;01mweighted_decision_tree\u001b[39;00m \u001b[38;5;28;01mimport\u001b[39;00m WeightedDecisionTree\n\u001b[0;32m      4\u001b[0m \u001b[38;5;66;03m# تعیین لیست معیارهای وزندهی (مطابق پروژه شما، در صورت متفاوت بودن تغییر دهید)\u001b[39;00m\n\u001b[0;32m      5\u001b[0m criteria_list \u001b[38;5;241m=\u001b[39m [\u001b[38;5;124m'\u001b[39m\u001b[38;5;124mgini\u001b[39m\u001b[38;5;124m'\u001b[39m, \u001b[38;5;124m'\u001b[39m\u001b[38;5;124mentropy\u001b[39m\u001b[38;5;124m'\u001b[39m]  \u001b[38;5;66;03m# یا معیارهای دقیق پروژه شما\u001b[39;00m\n",
      "\u001b[1;31mModuleNotFoundError\u001b[0m: No module named 'src'"
     ]
    }
   ],
   "source": [
    "# وارد کردن کلاس مدل از مسیر src/model\n",
    "from src.model.weighted_decision_tree import WeightedDecisionTree\n",
    "\n",
    "# تعیین لیست معیارهای وزندهی (مطابق پروژه شما، در صورت متفاوت بودن تغییر دهید)\n",
    "criteria_list = ['gini', 'entropy']  # یا معیارهای دقیق پروژه شما\n",
    "\n",
    "# نمونه‌سازی مدل با پارامترهای مورد نظر\n",
    "model = WeightedDecisionTree(criteria_list=criteria_list, max_depth=3, min_samples_split=5, positive_label=1)\n",
    "\n",
    "print(\"مدل ساخته شد.\")\n",
    "\n",
    "# آموزش مدل با داده‌های numpy شده\n",
    "model.fit(X.to_numpy(), y.to_numpy())\n",
    "\n",
    "print(\"مدل آموزش داده شد.\")"
   ]
  },
  {
   "cell_type": "code",
   "execution_count": 4,
   "id": "8cd3c892-ca43-4045-959e-8b619b5057df",
   "metadata": {},
   "outputs": [],
   "source": [
    "import sys\n",
    "import os\n",
    "\n",
    "project_root = r'C:\\Users\\HsH-HsH\\weighted_split_criteria'\n",
    "src_path = os.path.join(project_root, 'src')\n",
    "if src_path not in sys.path:\n",
    "    sys.path.append(src_path)"
   ]
  },
  {
   "cell_type": "code",
   "execution_count": 5,
   "id": "23ba9388-107a-46a3-b31c-9f7875a48992",
   "metadata": {},
   "outputs": [
    {
     "ename": "ModuleNotFoundError",
     "evalue": "No module named 'utils.votingsplitmanager'",
     "output_type": "error",
     "traceback": [
      "\u001b[1;31m---------------------------------------------------------------------------\u001b[0m",
      "\u001b[1;31mModuleNotFoundError\u001b[0m                       Traceback (most recent call last)",
      "Cell \u001b[1;32mIn[5], line 1\u001b[0m\n\u001b[1;32m----> 1\u001b[0m \u001b[38;5;28;01mfrom\u001b[39;00m \u001b[38;5;21;01mmodel\u001b[39;00m\u001b[38;5;21;01m.\u001b[39;00m\u001b[38;5;21;01mweighted_decision_tree\u001b[39;00m \u001b[38;5;28;01mimport\u001b[39;00m WeightedDecisionTree\n\u001b[0;32m      3\u001b[0m criteria_list \u001b[38;5;241m=\u001b[39m [\u001b[38;5;124m'\u001b[39m\u001b[38;5;124mgini\u001b[39m\u001b[38;5;124m'\u001b[39m, \u001b[38;5;124m'\u001b[39m\u001b[38;5;124mentropy\u001b[39m\u001b[38;5;124m'\u001b[39m]  \u001b[38;5;66;03m# یا معیارهای دقیق پروژه شما\u001b[39;00m\n\u001b[0;32m      5\u001b[0m model \u001b[38;5;241m=\u001b[39m WeightedDecisionTree(criteria_list\u001b[38;5;241m=\u001b[39mcriteria_list, max_depth\u001b[38;5;241m=\u001b[39m\u001b[38;5;241m3\u001b[39m, min_samples_split\u001b[38;5;241m=\u001b[39m\u001b[38;5;241m5\u001b[39m, positive_label\u001b[38;5;241m=\u001b[39m\u001b[38;5;241m1\u001b[39m)\n",
      "File \u001b[1;32m~\\weighted_split_criteria\\src\\model\\weighted_decision_tree.py:2\u001b[0m\n\u001b[0;32m      1\u001b[0m \u001b[38;5;28;01mimport\u001b[39;00m \u001b[38;5;21;01mnumpy\u001b[39;00m \u001b[38;5;28;01mas\u001b[39;00m \u001b[38;5;21;01mnp\u001b[39;00m\n\u001b[1;32m----> 2\u001b[0m \u001b[38;5;28;01mfrom\u001b[39;00m \u001b[38;5;21;01mutils\u001b[39;00m\u001b[38;5;21;01m.\u001b[39;00m\u001b[38;5;21;01mvotingsplitmanager\u001b[39;00m \u001b[38;5;28;01mimport\u001b[39;00m FNWeightedSplitManager  \u001b[38;5;66;03m# بدون پیشوند src.\u001b[39;00m\n\u001b[0;32m      4\u001b[0m \u001b[38;5;28;01mclass\u001b[39;00m \u001b[38;5;21;01mTreeNode\u001b[39;00m:\n\u001b[0;32m      5\u001b[0m     \u001b[38;5;28;01mdef\u001b[39;00m \u001b[38;5;21m__init__\u001b[39m(\u001b[38;5;28mself\u001b[39m, is_leaf, prediction\u001b[38;5;241m=\u001b[39m\u001b[38;5;28;01mNone\u001b[39;00m, feature\u001b[38;5;241m=\u001b[39m\u001b[38;5;28;01mNone\u001b[39;00m, threshold\u001b[38;5;241m=\u001b[39m\u001b[38;5;28;01mNone\u001b[39;00m, left\u001b[38;5;241m=\u001b[39m\u001b[38;5;28;01mNone\u001b[39;00m, right\u001b[38;5;241m=\u001b[39m\u001b[38;5;28;01mNone\u001b[39;00m):\n",
      "\u001b[1;31mModuleNotFoundError\u001b[0m: No module named 'utils.votingsplitmanager'"
     ]
    }
   ],
   "source": [
    "from model.weighted_decision_tree import WeightedDecisionTree\n",
    "\n",
    "criteria_list = ['gini', 'entropy']  # یا معیارهای دقیق پروژه شما\n",
    "\n",
    "model = WeightedDecisionTree(criteria_list=criteria_list, max_depth=3, min_samples_split=5, positive_label=1)\n",
    "\n",
    "print(\"مدل ساخته شد.\")\n",
    "\n",
    "model.fit(X.to_numpy(), y.to_numpy())\n",
    "\n",
    "print(\"مدل آموزش داده شد.\")"
   ]
  },
  {
   "cell_type": "code",
   "execution_count": 6,
   "id": "8aab692a-1442-499c-97b4-4648fb008a15",
   "metadata": {},
   "outputs": [
    {
     "name": "stdout",
     "output_type": "stream",
     "text": [
      "مسیر src به sys.path اضافه شد.\n"
     ]
    }
   ],
   "source": [
    "import sys\n",
    "import os\n",
    "\n",
    "# مسیر پوشه اصلی پروژه خود را وارد کنید (مسیر خود را جایگزین کنید)\n",
    "project_root = r'C:\\Users\\HsH-HsH\\weighted_split_criteria'\n",
    "\n",
    "# مسیر پوشه src\n",
    "src_path = os.path.join(project_root, 'src')\n",
    "\n",
    "# افزودن به مسیرهای پایتون اگر هنوز اضافه نشده\n",
    "if src_path not in sys.path:\n",
    "    sys.path.append(src_path)\n",
    "\n",
    "print(\"مسیر src به sys.path اضافه شد.\")"
   ]
  },
  {
   "cell_type": "code",
   "execution_count": 7,
   "id": "0df9c1b9-c6cc-4d8e-9217-b0a79f83758f",
   "metadata": {},
   "outputs": [
    {
     "name": "stdout",
     "output_type": "stream",
     "text": [
      "مسیر src به sys.path اضافه شد.\n"
     ]
    }
   ],
   "source": [
    "import sys\n",
    "import os\n",
    "\n",
    "# مسیر پوشه اصلی پروژه خود را وارد کنید (مسیر خود را جایگزین کنید)\n",
    "project_root = r'C:\\Users\\HsH-HsH\\weighted_split_criteria'\n",
    "\n",
    "# مسیر پوشه src\n",
    "src_path = os.path.join(project_root, 'src')\n",
    "\n",
    "# افزودن به مسیرهای پایتون اگر هنوز اضافه نشده\n",
    "if src_path not in sys.path:\n",
    "    sys.path.append(src_path)\n",
    "\n",
    "print(\"مسیر src به sys.path اضافه شد.\")"
   ]
  },
  {
   "cell_type": "code",
   "execution_count": 8,
   "id": "3c36bc2b-8c73-47ee-b74b-59013f73ee92",
   "metadata": {},
   "outputs": [
    {
     "ename": "ImportError",
     "evalue": "cannot import name 'KolmogorovCriterion' from 'criteria.ks' (C:\\Users\\HsH-HsH\\weighted_split_criteria\\src\\criteria\\ks.py)",
     "output_type": "error",
     "traceback": [
      "\u001b[1;31m---------------------------------------------------------------------------\u001b[0m",
      "\u001b[1;31mImportError\u001b[0m                               Traceback (most recent call last)",
      "Cell \u001b[1;32mIn[8], line 6\u001b[0m\n\u001b[0;32m      4\u001b[0m \u001b[38;5;28;01mfrom\u001b[39;00m \u001b[38;5;21;01mcriteria\u001b[39;00m\u001b[38;5;21;01m.\u001b[39;00m\u001b[38;5;21;01mdkm\u001b[39;00m \u001b[38;5;28;01mimport\u001b[39;00m DKMCriterion\n\u001b[0;32m      5\u001b[0m \u001b[38;5;28;01mfrom\u001b[39;00m \u001b[38;5;21;01mcriteria\u001b[39;00m\u001b[38;5;21;01m.\u001b[39;00m\u001b[38;5;21;01mgs\u001b[39;00m \u001b[38;5;28;01mimport\u001b[39;00m GStatisticCriterion\n\u001b[1;32m----> 6\u001b[0m \u001b[38;5;28;01mfrom\u001b[39;00m \u001b[38;5;21;01mcriteria\u001b[39;00m\u001b[38;5;21;01m.\u001b[39;00m\u001b[38;5;21;01mks\u001b[39;00m \u001b[38;5;28;01mimport\u001b[39;00m KolmogorovCriterion\n\u001b[0;32m      7\u001b[0m \u001b[38;5;28;01mfrom\u001b[39;00m \u001b[38;5;21;01mcriteria\u001b[39;00m\u001b[38;5;21;01m.\u001b[39;00m\u001b[38;5;21;01mmarsh\u001b[39;00m \u001b[38;5;28;01mimport\u001b[39;00m MarshallCriterion\n\u001b[0;32m      8\u001b[0m \u001b[38;5;28;01mfrom\u001b[39;00m \u001b[38;5;21;01mcriteria\u001b[39;00m\u001b[38;5;21;01m.\u001b[39;00m\u001b[38;5;21;01mmch\u001b[39;00m \u001b[38;5;28;01mimport\u001b[39;00m MultiClassHellingerCriterion\n",
      "\u001b[1;31mImportError\u001b[0m: cannot import name 'KolmogorovCriterion' from 'criteria.ks' (C:\\Users\\HsH-HsH\\weighted_split_criteria\\src\\criteria\\ks.py)"
     ]
    }
   ],
   "source": [
    "from criteria.gini import GiniCriterion\n",
    "from criteria.bhy import BhattacharyyaCriterion\n",
    "from criteria.cs import ChiSquaredCriterion\n",
    "from criteria.dkm import DKMCriterion\n",
    "from criteria.gs import GStatisticCriterion\n",
    "from criteria.ks import KolmogorovCriterion\n",
    "from criteria.marsh import MarshallCriterion\n",
    "from criteria.mch import MultiClassHellingerCriterion\n",
    "from criteria.ng import NormalizedGainCriterion\n",
    "from criteria.qg import QuinlanGainCriterion\n",
    "from criteria.twoing import TwoingCriterion\n",
    "\n",
    "criteria_list = [\n",
    "    GiniCriterion(),\n",
    "    BhattacharyyaCriterion(),\n",
    "    ChiSquaredCriterion(),\n",
    "    DKMCriterion(),\n",
    "    GStatisticCriterion(),\n",
    "    KolmogorovCriterion(),\n",
    "    MarshallCriterion(),\n",
    "    MultiClassHellingerCriterion(),\n",
    "    NormalizedGainCriterion(),\n",
    "    QuinlanGainCriterion(),\n",
    "    TwoingCriterion()\n",
    "]\n",
    "\n",
    "from model.weighted_decision_tree import WeightedDecisionTree\n",
    "\n",
    "model = WeightedDecisionTree(criteria_list=criteria_list, max_depth=3, min_samples_split=5, positive_label=1)\n",
    "\n",
    "print(\"مدل با 11 معیار ساخته شد.\")"
   ]
  },
  {
   "cell_type": "code",
   "execution_count": 9,
   "id": "1e7781a1-bbf4-4c2f-bcb7-ece76fa32b64",
   "metadata": {},
   "outputs": [
    {
     "ename": "ImportError",
     "evalue": "cannot import name 'KolmogorovCriterion' from 'criteria.ks' (C:\\Users\\HsH-HsH\\weighted_split_criteria\\src\\criteria\\ks.py)",
     "output_type": "error",
     "traceback": [
      "\u001b[1;31m---------------------------------------------------------------------------\u001b[0m",
      "\u001b[1;31mImportError\u001b[0m                               Traceback (most recent call last)",
      "Cell \u001b[1;32mIn[9], line 6\u001b[0m\n\u001b[0;32m      4\u001b[0m \u001b[38;5;28;01mfrom\u001b[39;00m \u001b[38;5;21;01mcriteria\u001b[39;00m\u001b[38;5;21;01m.\u001b[39;00m\u001b[38;5;21;01mdkm\u001b[39;00m \u001b[38;5;28;01mimport\u001b[39;00m DKMCriterion\n\u001b[0;32m      5\u001b[0m \u001b[38;5;28;01mfrom\u001b[39;00m \u001b[38;5;21;01mcriteria\u001b[39;00m\u001b[38;5;21;01m.\u001b[39;00m\u001b[38;5;21;01mgs\u001b[39;00m \u001b[38;5;28;01mimport\u001b[39;00m GStatisticCriterion\n\u001b[1;32m----> 6\u001b[0m \u001b[38;5;28;01mfrom\u001b[39;00m \u001b[38;5;21;01mcriteria\u001b[39;00m\u001b[38;5;21;01m.\u001b[39;00m\u001b[38;5;21;01mks\u001b[39;00m \u001b[38;5;28;01mimport\u001b[39;00m KolmogorovCriterion\n\u001b[0;32m      7\u001b[0m \u001b[38;5;28;01mfrom\u001b[39;00m \u001b[38;5;21;01mcriteria\u001b[39;00m\u001b[38;5;21;01m.\u001b[39;00m\u001b[38;5;21;01mmarsh\u001b[39;00m \u001b[38;5;28;01mimport\u001b[39;00m MarshallCriterion\n\u001b[0;32m      8\u001b[0m \u001b[38;5;28;01mfrom\u001b[39;00m \u001b[38;5;21;01mcriteria\u001b[39;00m\u001b[38;5;21;01m.\u001b[39;00m\u001b[38;5;21;01mmch\u001b[39;00m \u001b[38;5;28;01mimport\u001b[39;00m MultiClassHellingerCriterion\n",
      "\u001b[1;31mImportError\u001b[0m: cannot import name 'KolmogorovCriterion' from 'criteria.ks' (C:\\Users\\HsH-HsH\\weighted_split_criteria\\src\\criteria\\ks.py)"
     ]
    }
   ],
   "source": [
    "from criteria.gini import GiniCriterion\n",
    "from criteria.bhy import BhattacharyyaCriterion\n",
    "from criteria.cs import ChiSquaredCriterion\n",
    "from criteria.dkm import DKMCriterion\n",
    "from criteria.gs import GStatisticCriterion\n",
    "from criteria.ks import KolmogorovCriterion\n",
    "from criteria.marsh import MarshallCriterion\n",
    "from criteria.mch import MultiClassHellingerCriterion\n",
    "from criteria.ng import NormalizedGainCriterion\n",
    "from criteria.qg import QuinlanGainCriterion\n",
    "from criteria.twoing import TwoingCriterion\n",
    "\n",
    "criteria_list = [\n",
    "    GiniCriterion(),\n",
    "    BhattacharyyaCriterion(),\n",
    "    ChiSquaredCriterion(),\n",
    "    DKMCriterion(),\n",
    "    GStatisticCriterion(),\n",
    "    KolmogorovCriterion(),\n",
    "    MarshallCriterion(),\n",
    "    MultiClassHellingerCriterion(),\n",
    "    NormalizedGainCriterion(),\n",
    "    QuinlanGainCriterion(),\n",
    "    TwoingCriterion()\n",
    "]\n",
    "\n",
    "from model.weighted_decision_tree import WeightedDecisionTree\n",
    "\n",
    "model = WeightedDecisionTree(criteria_list=criteria_list, max_depth=3, min_samples_split=5, positive_label=1)\n",
    "\n",
    "print(\"مدل با 11 معیار ساخته شد.\")"
   ]
  },
  {
   "cell_type": "code",
   "execution_count": 14,
   "id": "7e43a097-3ea3-41e9-bbba-546e3abce3f3",
   "metadata": {},
   "outputs": [
    {
     "name": "stdout",
     "output_type": "stream",
     "text": [
      "مسیر src به sys.path اضافه شد.\n",
      "مدل با 11 معیار ساخته شد.\n"
     ]
    }
   ],
   "source": [
    "# افزودن مسیر src به sys.path (با توجه به مسیر پروژه خودتان آن را اصلاح کنید)\n",
    "import sys\n",
    "import os\n",
    "\n",
    "project_root = r'C:\\Users\\HsH-HsH\\weighted_split_criteria'\n",
    "src_path = os.path.join(project_root, 'src')\n",
    "if src_path not in sys.path:\n",
    "    sys.path.append(src_path)\n",
    "\n",
    "print(\"مسیر src به sys.path اضافه شد.\")\n",
    "\n",
    "# وارد کردن تمامی کلاس‌های معیار 11 گانه با نام‌های صحیح کلاس‌ها\n",
    "from criteria.gini import GiniCriterion\n",
    "from criteria.bhy import BhattacharyyaCriterion\n",
    "from criteria.cs import ChiSquaredCriterion\n",
    "from criteria.dkm import DKMCriterion\n",
    "from criteria.gs import GStatisticCriterion\n",
    "from criteria.ks import KolmogorovSmirnovCriterion\n",
    "from criteria.marsh import MarshallCriterion\n",
    "from criteria.mch import MultiClassHellingerCriterion\n",
    "from criteria.ng import NormalizedGainCriterion\n",
    "from criteria.qg import GainRatioCriterion  # نام اصلاح شده به جای QuinlanGainCriterion\n",
    "from criteria.twoing import TwoingCriterion\n",
    "\n",
    "# تعریف لیست معیارها به صورت نمونه کلاس‌ها\n",
    "criteria_list = [\n",
    "    GiniCriterion(),\n",
    "    BhattacharyyaCriterion(),\n",
    "    ChiSquaredCriterion(),\n",
    "    DKMCriterion(),\n",
    "    GStatisticCriterion(),\n",
    "    KolmogorovSmirnovCriterion(),\n",
    "    MarshallCriterion(),\n",
    "    MultiClassHellingerCriterion(),\n",
    "    NormalizedGainCriterion(),\n",
    "    GainRatioCriterion(),  # اصلاح شده\n",
    "    TwoingCriterion()\n",
    "]\n",
    "\n",
    "# وارد کردن مدل WeightedDecisionTree\n",
    "from model.weighted_decision_tree_Copy import WeightedDecisionTree\n",
    "\n",
    "# نمونه‌سازی مدل با 11 معیار\n",
    "model = WeightedDecisionTree(criteria_list=criteria_list, max_depth=3, min_samples_split=5, positive_label=1)\n",
    "\n",
    "print(\"مدل با 11 معیار ساخته شد.\")\n"
   ]
  },
  {
   "cell_type": "code",
   "execution_count": 16,
   "id": "8d62b989-220f-4066-9d4b-fc4ebdd20d81",
   "metadata": {},
   "outputs": [],
   "source": [
    "model.fit(X.to_numpy(), y.to_numpy())"
   ]
  },
  {
   "cell_type": "code",
   "execution_count": 17,
   "id": "7fab1194-e2f7-4234-9256-d66b28952467",
   "metadata": {},
   "outputs": [
    {
     "name": "stdout",
     "output_type": "stream",
     "text": [
      "آموزش مدل با موفقیت انجام شد.\n"
     ]
    }
   ],
   "source": [
    "# آموزش مدل با داده‌ها\n",
    "model.fit(X.to_numpy(), y.to_numpy())\n",
    "\n",
    "print(\"آموزش مدل با موفقیت انجام شد.\")"
   ]
  },
  {
   "cell_type": "code",
   "execution_count": 18,
   "id": "aa94d94e-1c18-4b07-b2a0-7e51018cfb12",
   "metadata": {},
   "outputs": [
    {
     "name": "stdout",
     "output_type": "stream",
     "text": [
      "10 پیش‌بینی اول مدل:\n",
      "[1 1 1 1 0 1 1 0 1 1]\n"
     ]
    }
   ],
   "source": [
    "predictions = model.predict(X.to_numpy())\n",
    "print(\"10 پیش‌بینی اول مدل:\")\n",
    "print(predictions[:10])"
   ]
  },
  {
   "cell_type": "code",
   "execution_count": 19,
   "id": "792a7014-7e08-4498-89be-c684b81a8c22",
   "metadata": {},
   "outputs": [
    {
     "name": "stdout",
     "output_type": "stream",
     "text": [
      "10 پیش‌بینی اول مدل:\n",
      "[1 1 1 1 0 1 1 0 1 1]\n",
      "دقت مدل: 0.8504464285714286\n",
      "\n",
      "گزارش طبقه‌بندی:\n",
      "               precision    recall  f1-score   support\n",
      "\n",
      "           0       0.80      0.78      0.79       320\n",
      "           1       0.88      0.89      0.88       576\n",
      "\n",
      "    accuracy                           0.85       896\n",
      "   macro avg       0.84      0.84      0.84       896\n",
      "weighted avg       0.85      0.85      0.85       896\n",
      "\n",
      "\n",
      "ماتریس درهم‌ریختگی:\n",
      " [[250  70]\n",
      " [ 64 512]]\n"
     ]
    }
   ],
   "source": [
    "# پیش‌بینی با مدل روی داده‌های X\n",
    "predictions = model.predict(X.to_numpy())\n",
    "print(\"10 پیش‌بینی اول مدل:\")\n",
    "print(predictions[:10])\n",
    "\n",
    "# ارزیابی مدل با استفاده از معیارهای استاندارد از sklearn\n",
    "from sklearn.metrics import accuracy_score, classification_report, confusion_matrix\n",
    "\n",
    "print(\"دقت مدل:\", accuracy_score(y, predictions))\n",
    "print(\"\\nگزارش طبقه‌بندی:\\n\", classification_report(y, predictions))\n",
    "print(\"\\nماتریس درهم‌ریختگی:\\n\", confusion_matrix(y, predictions))"
   ]
  },
  {
   "cell_type": "code",
   "execution_count": null,
   "id": "463db303-1fe4-4d18-b273-1d87d525bd9c",
   "metadata": {},
   "outputs": [],
   "source": []
  }
 ],
 "metadata": {
  "kernelspec": {
   "display_name": "Python 3 (ipykernel)",
   "language": "python",
   "name": "python3"
  },
  "language_info": {
   "codemirror_mode": {
    "name": "ipython",
    "version": 3
   },
   "file_extension": ".py",
   "mimetype": "text/x-python",
   "name": "python",
   "nbconvert_exporter": "python",
   "pygments_lexer": "ipython3",
   "version": "3.12.0"
  }
 },
 "nbformat": 4,
 "nbformat_minor": 5
}
