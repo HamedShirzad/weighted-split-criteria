{
 "cells": [
  {
   "cell_type": "code",
   "execution_count": 1,
   "id": "cd07d28c-5bc0-4f6b-a3c2-3da2bf752644",
   "metadata": {},
   "outputs": [
    {
     "name": "stdout",
     "output_type": "stream",
     "text": [
      "کتابخانه‌های لازم با موفقیت بارگذاری شدند.\n"
     ]
    }
   ],
   "source": [
    "# سلول 0: وارد کردن کتابخانه‌های پایه ضروری\n",
    "# توضیح: در این سلول، کتابخانه‌های مورد نیاز برای پردازش داده، تقسیم داده‌ها، و ارزیابی مدل را بارگذاری می‌کنیم.\n",
    "import sys\n",
    "import pandas as pd           # برای کار با داده‌های جدولی\n",
    "import numpy as np            # برای محاسبات عددی\n",
    "from sklearn.model_selection import train_test_split    # برای تقسیم داده به آموزش و تست\n",
    "from sklearn.metrics import classification_report, confusion_matrix, accuracy_score  # متریک‌های ارزیابی مدل\n",
    "\n",
    "print(\"کتابخانه‌های لازم با موفقیت بارگذاری شدند.\")\n"
   ]
  },
  {
   "cell_type": "code",
   "execution_count": 4,
   "id": "3f2269ce-38ea-4f73-87d2-28732a7d6786",
   "metadata": {},
   "outputs": [
    {
     "name": "stdout",
     "output_type": "stream",
     "text": [
      "پوشه model به sys.path اضافه شد.\n"
     ]
    }
   ],
   "source": [
    "# سلول 1: اضافه کردن مسیر مدل به sys.path برای ایمپورت کدهای سفارشی\n",
    "# توضیح: این سلول مسیر فولدر مدل WeightedDecisionTreeModel را به sys.path اضافه می‌کند تا بتوانیم کلاس‌ها و توابع نوشته شده در فولدر مدل راوارد کنیم.\n",
    "\n",
    "import sys\n",
    "sys.path.insert(0, r\"C:\\Users\\HsH-HsH\\weighted_split_criteria\\src\\model\")\n",
    "print(\"پوشه model به sys.path اضافه شد.\")\n"
   ]
  },
  {
   "cell_type": "code",
   "execution_count": 5,
   "id": "2484af94-0d68-451d-8e2a-67b23f77b9c6",
   "metadata": {},
   "outputs": [
    {
     "name": "stdout",
     "output_type": "stream",
     "text": [
      "داده مشتری با موفقیت بارگذاری شد. نمونه‌ای از داده:\n"
     ]
    },
    {
     "data": {
      "text/html": [
       "<div>\n",
       "<style scoped>\n",
       "    .dataframe tbody tr th:only-of-type {\n",
       "        vertical-align: middle;\n",
       "    }\n",
       "\n",
       "    .dataframe tbody tr th {\n",
       "        vertical-align: top;\n",
       "    }\n",
       "\n",
       "    .dataframe thead th {\n",
       "        text-align: right;\n",
       "    }\n",
       "</style>\n",
       "<table border=\"1\" class=\"dataframe\">\n",
       "  <thead>\n",
       "    <tr style=\"text-align: right;\">\n",
       "      <th></th>\n",
       "      <th>Age</th>\n",
       "      <th>LastTransaction</th>\n",
       "      <th>Churn</th>\n",
       "      <th>Gender_female</th>\n",
       "      <th>Gender_male</th>\n",
       "      <th>Payment Method_cash</th>\n",
       "      <th>Payment Method_cheque</th>\n",
       "      <th>Payment Method_credit card</th>\n",
       "    </tr>\n",
       "  </thead>\n",
       "  <tbody>\n",
       "    <tr>\n",
       "      <th>0</th>\n",
       "      <td>64.0</td>\n",
       "      <td>98</td>\n",
       "      <td>1</td>\n",
       "      <td>False</td>\n",
       "      <td>True</td>\n",
       "      <td>False</td>\n",
       "      <td>False</td>\n",
       "      <td>True</td>\n",
       "    </tr>\n",
       "    <tr>\n",
       "      <th>1</th>\n",
       "      <td>35.0</td>\n",
       "      <td>118</td>\n",
       "      <td>0</td>\n",
       "      <td>False</td>\n",
       "      <td>True</td>\n",
       "      <td>False</td>\n",
       "      <td>True</td>\n",
       "      <td>False</td>\n",
       "    </tr>\n",
       "    <tr>\n",
       "      <th>2</th>\n",
       "      <td>25.0</td>\n",
       "      <td>107</td>\n",
       "      <td>1</td>\n",
       "      <td>True</td>\n",
       "      <td>False</td>\n",
       "      <td>False</td>\n",
       "      <td>False</td>\n",
       "      <td>True</td>\n",
       "    </tr>\n",
       "    <tr>\n",
       "      <th>3</th>\n",
       "      <td>39.0</td>\n",
       "      <td>90</td>\n",
       "      <td>1</td>\n",
       "      <td>False</td>\n",
       "      <td>True</td>\n",
       "      <td>False</td>\n",
       "      <td>False</td>\n",
       "      <td>True</td>\n",
       "    </tr>\n",
       "    <tr>\n",
       "      <th>4</th>\n",
       "      <td>28.0</td>\n",
       "      <td>189</td>\n",
       "      <td>0</td>\n",
       "      <td>True</td>\n",
       "      <td>False</td>\n",
       "      <td>False</td>\n",
       "      <td>True</td>\n",
       "      <td>False</td>\n",
       "    </tr>\n",
       "  </tbody>\n",
       "</table>\n",
       "</div>"
      ],
      "text/plain": [
       "    Age  LastTransaction  Churn  Gender_female  Gender_male  \\\n",
       "0  64.0               98      1          False         True   \n",
       "1  35.0              118      0          False         True   \n",
       "2  25.0              107      1           True        False   \n",
       "3  39.0               90      1          False         True   \n",
       "4  28.0              189      0           True        False   \n",
       "\n",
       "   Payment Method_cash  Payment Method_cheque  Payment Method_credit card  \n",
       "0                False                  False                        True  \n",
       "1                False                   True                       False  \n",
       "2                False                  False                        True  \n",
       "3                False                  False                        True  \n",
       "4                False                   True                       False  "
      ]
     },
     "metadata": {},
     "output_type": "display_data"
    }
   ],
   "source": [
    "# سلول 2: بارگذاری داده و نمایش نمونه‌ها\n",
    "# توضیح: این سلول برای بارگذاری دیتافریم آماده شده از مسیر مشخص شده است و چند سطر اول داده را نشان می‌دهد.\n",
    "\n",
    "data_path = r\"C:\\Users\\HsH-HsH\\weighted_split_criteria\\notebooks\\datasets\\customer_churn_data_preprocessed.csv\"\n",
    "\n",
    "# بارگذاری فایل CSV به دیتافریم pandas\n",
    "df = pd.read_csv(data_path)\n",
    "\n",
    "print(\"داده مشتری با موفقیت بارگذاری شد. نمونه‌ای از داده:\")\n",
    "display(df.head())  # نمایش 5 نمونه اول به صورت جدول\n"
   ]
  },
  {
   "cell_type": "code",
   "execution_count": 6,
   "id": "f7244748-65f3-428c-9bc9-f051830e429f",
   "metadata": {},
   "outputs": [
    {
     "name": "stdout",
     "output_type": "stream",
     "text": [
      "اندازه داده آموزش: (716, 7)\n",
      "اندازه داده تست: (180, 7)\n"
     ]
    }
   ],
   "source": [
    "# سلول 3: آماده‌سازی داده برای مدل - انتخاب ویژگی‌ها و ستون هدف و تقسیم داده\n",
    "# توضیح: در این سلول ستون هدف (y) مشخص شده و بقیه ستون‌ها به عنوان ویژگی انتخاب می‌شوند.\n",
    "# سپس داده به دو بخش آموزش (train) و تست (test) تقسیم می‌شود.\n",
    "\n",
    "# ستون هدف (فرض می‌کنیم نام ستون 'Churn' است، اگر نامش فرق دارد بگو)\n",
    "target_col = 'Churn'  \n",
    "\n",
    "# ویژگی‌ها: حذف ستون هدف از کل ستون‌ها\n",
    "X = df.drop(columns=[target_col])\n",
    "\n",
    "# برچسب هدف\n",
    "y = df[target_col]\n",
    "\n",
    "# تقسیم داده به آموزش و تست، 80 درصد آموزش و 20 درصد تست\n",
    "X_train, X_test, y_train, y_test = train_test_split(X, y, test_size=0.2, random_state=42)\n",
    "\n",
    "print(f\"اندازه داده آموزش: {X_train.shape}\")\n",
    "print(f\"اندازه داده تست: {X_test.shape}\")\n"
   ]
  },
  {
   "cell_type": "code",
   "execution_count": 9,
   "id": "c5cedf24-9f1b-4d52-8bb9-11dd21dbd7bb",
   "metadata": {},
   "outputs": [
    {
     "name": "stdout",
     "output_type": "stream",
     "text": [
      "انواع داده ستون‌ها پیش از تبدیل:\n",
      "Age                           float64\n",
      "LastTransaction                 int64\n",
      "Gender_female                    bool\n",
      "Gender_male                      bool\n",
      "Payment Method_cash              bool\n",
      "Payment Method_cheque            bool\n",
      "Payment Method_credit card       bool\n",
      "dtype: object\n",
      "\n",
      "انواع داده ستون‌ها پس از تبدیل:\n",
      "Age                           float64\n",
      "LastTransaction                 int64\n",
      "Gender_female                    bool\n",
      "Gender_male                      bool\n",
      "Payment Method_cash              bool\n",
      "Payment Method_cheque            bool\n",
      "Payment Method_credit card       bool\n",
      "dtype: object\n",
      "\n",
      "ابعاد داده آموزش پس از تبدیل: (716, 7)\n",
      "ابعاد داده تست پس از تبدیل: (180, 7)\n"
     ]
    }
   ],
   "source": [
    "# سلول 4: تبدیل ستون‌های غیرعددی به عددی با one-hot encoding و همسان سازی ستون‌ها بین آموزش و تست\n",
    "print(\"انواع داده ستون‌ها پیش از تبدیل:\")\n",
    "print(X_train.dtypes)\n",
    "\n",
    "X_train_encoded = pd.get_dummies(X_train, drop_first=True)\n",
    "X_test_encoded = pd.get_dummies(X_test, drop_first=True)\n",
    "\n",
    "X_test_encoded = X_test_encoded.reindex(columns=X_train_encoded.columns, fill_value=0)\n",
    "\n",
    "print(\"\\nانواع داده ستون‌ها پس از تبدیل:\")\n",
    "print(X_train_encoded.dtypes)\n",
    "\n",
    "print(f\"\\nابعاد داده آموزش پس از تبدیل: {X_train_encoded.shape}\")\n",
    "print(f\"ابعاد داده تست پس از تبدیل: {X_test_encoded.shape}\")\n"
   ]
  },
  {
   "cell_type": "code",
   "execution_count": 10,
   "id": "f53e011c-dd81-402a-93e2-a5ecf34bf14c",
   "metadata": {},
   "outputs": [
    {
     "name": "stdout",
     "output_type": "stream",
     "text": [
      "نوع داده X_train: <class 'numpy.ndarray'>, شکل: (716, 7)\n",
      "نوع داده y_train: <class 'numpy.ndarray'>, شکل: (716,)\n"
     ]
    }
   ],
   "source": [
    "# سلول 5: تبدیل داده‌های آماده شده به numpy ndarray\n",
    "X_train_array = X_train_encoded.values\n",
    "X_test_array = X_test_encoded.values\n",
    "y_train_array = y_train.values\n",
    "y_test_array = y_test.values\n",
    "\n",
    "print(f\"نوع داده X_train: {type(X_train_array)}, شکل: {X_train_array.shape}\")\n",
    "print(f\"نوع داده y_train: {type(y_train_array)}, شکل: {y_train_array.shape}\")\n"
   ]
  },
  {
   "cell_type": "code",
   "execution_count": 12,
   "id": "3ee61f85-4e58-4701-95ab-cc10f1595c0e",
   "metadata": {},
   "outputs": [
    {
     "name": "stdout",
     "output_type": "stream",
     "text": [
      "مسیرهای src و model به sys.path اضافه شدند.\n"
     ]
    }
   ],
   "source": [
    "# سلول جدید: اضافه کردن مسیرهای لازم به sys.path برای رفع ارور ماژول‌های پروژه\n",
    "import sys\n",
    "sys.path.insert(0, r\"C:\\Users\\HsH-HsH\\weighted_split_criteria\\src\")\n",
    "sys.path.insert(0, r\"C:\\Users\\HsH-HsH\\weighted_split_criteria\\src\\model\")\n",
    "print(\"مسیرهای src و model به sys.path اضافه شدند.\")\n"
   ]
  },
  {
   "cell_type": "code",
   "execution_count": 13,
   "id": "b88fbc20-be0a-458f-a2da-55354d5f6be0",
   "metadata": {},
   "outputs": [
    {
     "name": "stdout",
     "output_type": "stream",
     "text": [
      "کلاس WeightedDecisionTreeModel با موفقیت ایمپورت شد.\n"
     ]
    }
   ],
   "source": [
    "# سلول 6: ایمپورت کلاس مدل WeightedDecisionTreeModel از پوشه مدل\n",
    "# توضیح: این سلول کلاس مدل را از ماژول مدل سفارشی که به sys.path اضافه کردیم وارد می‌کند.\n",
    "\n",
    "from weighted_decision_tree import WeightedDecisionTreeModel  # نام فایل و کلاس را با نام واقعی جایگزین کن\n",
    "print(\"کلاس WeightedDecisionTreeModel با موفقیت ایمپورت شد.\")\n"
   ]
  },
  {
   "cell_type": "code",
   "execution_count": 14,
   "id": "5d96972d-725a-4a73-9d59-57ef2aeed9f0",
   "metadata": {},
   "outputs": [],
   "source": [
    "import sys\n",
    "sys.path.insert(0, r\"C:\\Users\\HsH-HsH\\weighted_split_criteria\\src\")\n"
   ]
  },
  {
   "cell_type": "code",
   "execution_count": 2,
   "id": "c2416da8-6415-438c-be66-99706359e64e",
   "metadata": {},
   "outputs": [
    {
     "name": "stdout",
     "output_type": "stream",
     "text": [
      "اندازه داده آموزش: (716, 7), نوع داده: float64\n",
      "اندازه داده تست: (180, 7), نوع داده: float64\n"
     ]
    },
    {
     "ename": "ModuleNotFoundError",
     "evalue": "No module named 'weighted_decision_tree'",
     "output_type": "error",
     "traceback": [
      "\u001b[1;31m---------------------------------------------------------------------------\u001b[0m",
      "\u001b[1;31mModuleNotFoundError\u001b[0m                       Traceback (most recent call last)",
      "Cell \u001b[1;32mIn[2], line 42\u001b[0m\n\u001b[0;32m     39\u001b[0m \u001b[38;5;28mprint\u001b[39m(\u001b[38;5;124mf\u001b[39m\u001b[38;5;124m\"\u001b[39m\u001b[38;5;124mاندازه داده تست: \u001b[39m\u001b[38;5;132;01m{\u001b[39;00mX_test_array\u001b[38;5;241m.\u001b[39mshape\u001b[38;5;132;01m}\u001b[39;00m\u001b[38;5;124m, نوع داده: \u001b[39m\u001b[38;5;132;01m{\u001b[39;00mX_test_array\u001b[38;5;241m.\u001b[39mdtype\u001b[38;5;132;01m}\u001b[39;00m\u001b[38;5;124m\"\u001b[39m)\n\u001b[0;32m     41\u001b[0m \u001b[38;5;66;03m# ایمپورت کلاس مدل\u001b[39;00m\n\u001b[1;32m---> 42\u001b[0m \u001b[38;5;28;01mfrom\u001b[39;00m \u001b[38;5;21;01mweighted_decision_tree\u001b[39;00m \u001b[38;5;28;01mimport\u001b[39;00m WeightedDecisionTreeModel\n\u001b[0;32m     44\u001b[0m \u001b[38;5;66;03m# ساخت مدل با داده ویژگی‌های کامل و عمق ماکزیمم ۵\u001b[39;00m\n\u001b[0;32m     45\u001b[0m model \u001b[38;5;241m=\u001b[39m WeightedDecisionTreeModel(\n\u001b[0;32m     46\u001b[0m     X_data\u001b[38;5;241m=\u001b[39mX_train_array,\n\u001b[0;32m     47\u001b[0m     max_depth\u001b[38;5;241m=\u001b[39m\u001b[38;5;241m5\u001b[39m\n\u001b[0;32m     48\u001b[0m )\n",
      "\u001b[1;31mModuleNotFoundError\u001b[0m: No module named 'weighted_decision_tree'"
     ]
    }
   ],
   "source": [
    "# سلول جامع: آماده‌سازی داده‌ها، تبدیل نوع، ساخت و آموزش مدل WeightedDecisionTreeModel\n",
    "\n",
    "import sys\n",
    "import pandas as pd\n",
    "import numpy as np\n",
    "\n",
    "# اضافه کردن مسیر src به sys.path برای دسترسی به ماژول‌ها\n",
    "sys.path.insert(0, r\"C:\\Users\\HsH-HsH\\weighted_split_criteria\\src\")\n",
    "\n",
    "# بارگذاری داده\n",
    "data_path = r\"C:\\Users\\HsH-HsH\\weighted_split_criteria\\notebooks\\datasets\\customer_churn_data_preprocessed.csv\"\n",
    "df = pd.read_csv(data_path)\n",
    "\n",
    "# تعریف ستون هدف\n",
    "target_col = 'Churn'\n",
    "\n",
    "# جداسازی ویژگی‌ها و هدف\n",
    "X = df.drop(columns=[target_col])\n",
    "y = df[target_col]\n",
    "\n",
    "# تقسیم داده به آموزش و تست\n",
    "from sklearn.model_selection import train_test_split\n",
    "X_train, X_test, y_train, y_test = train_test_split(X, y, test_size=0.2, random_state=42)\n",
    "\n",
    "# تبدیل داده‌های غیرعددی به عددی با one-hot encoding\n",
    "X_train_encoded = pd.get_dummies(X_train, drop_first=True)\n",
    "X_test_encoded = pd.get_dummies(X_test, drop_first=True)\n",
    "\n",
    "# اطمینان از همسانی ستون‌ها بین آموزش و تست\n",
    "X_test_encoded = X_test_encoded.reindex(columns=X_train_encoded.columns, fill_value=0)\n",
    "\n",
    "# تبدیل به numpy array با نوع float برای جلوگیری از ارور np.isnan\n",
    "X_train_array = X_train_encoded.values.astype(float)\n",
    "X_test_array = X_test_encoded.values.astype(float)\n",
    "y_train_array = y_train.values\n",
    "y_test_array = y_test.values\n",
    "\n",
    "print(f\"اندازه داده آموزش: {X_train_array.shape}, نوع داده: {X_train_array.dtype}\")\n",
    "print(f\"اندازه داده تست: {X_test_array.shape}, نوع داده: {X_test_array.dtype}\")\n",
    "\n",
    "# ایمپورت کلاس مدل\n",
    "from weighted_decision_tree import WeightedDecisionTreeModel\n",
    "\n",
    "# ساخت مدل با داده ویژگی‌های کامل و عمق ماکزیمم ۵\n",
    "model = WeightedDecisionTreeModel(\n",
    "    X_data=X_train_array,\n",
    "    max_depth=5\n",
    ")\n",
    "\n",
    "# آموزش مدل\n",
    "model.fit(X_train_array, y_train_array)\n",
    "\n",
    "print(\"مدل WeightedDecisionTree با موفقیت ساخته و آموزش داده شد.\")\n"
   ]
  }
 ],
 "metadata": {
  "kernelspec": {
   "display_name": "Python 3 (ipykernel)",
   "language": "python",
   "name": "python3"
  },
  "language_info": {
   "codemirror_mode": {
    "name": "ipython",
    "version": 3
   },
   "file_extension": ".py",
   "mimetype": "text/x-python",
   "name": "python",
   "nbconvert_exporter": "python",
   "pygments_lexer": "ipython3",
   "version": "3.12.0"
  }
 },
 "nbformat": 4,
 "nbformat_minor": 5
}
