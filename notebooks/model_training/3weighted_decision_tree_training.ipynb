{
 "cells": [
  {
   "cell_type": "code",
   "execution_count": 27,
   "id": "4a367f32-9b8f-408b-a8e1-fe3f65a4098a",
   "metadata": {},
   "outputs": [],
   "source": [
    "import sys\n",
    "import os\n",
    "import pandas as pd\n"
   ]
  },
  {
   "cell_type": "code",
   "execution_count": 28,
   "id": "735bf8a3-fafb-4058-a71c-8a6ab0a97836",
   "metadata": {},
   "outputs": [
    {
     "name": "stdout",
     "output_type": "stream",
     "text": [
      "Dataset loaded successfully.\n",
      "Shape of Features (X): (896, 7)\n",
      "Shape of Target (y): (896,)\n"
     ]
    }
   ],
   "source": [
    "import pandas as pd\n",
    "\n",
    "# مسیر مستقیم کامل دیتاست نسبت به ریشه پروژه\n",
    "dataset_path = r\"C:\\Users\\HsH-HsH\\weighted_split_criteria\\notebooks\\datasets\\customer_churn_data_preprocessed.csv\"\n",
    "\n",
    "# بارگذاری دیتاست با مسیر کامل\n",
    "df = pd.read_csv(dataset_path)\n",
    "\n",
    "# جداکردن ویژگی‌ها و برچسب هدف (فرضاً ستون هدف 'Churn' است)\n",
    "X = df.drop(columns=['Churn'])\n",
    "y = df['Churn']\n",
    "\n",
    "print(\"Dataset loaded successfully.\")\n",
    "print(f\"Shape of Features (X): {X.shape}\")\n",
    "print(f\"Shape of Target (y): {y.shape}\")\n"
   ]
  },
  {
   "cell_type": "code",
   "execution_count": 29,
   "id": "b1e69158-9b1c-475c-afe9-27c87c06ad73",
   "metadata": {},
   "outputs": [
    {
     "name": "stdout",
     "output_type": "stream",
     "text": [
      "Project root added to sys.path\n"
     ]
    }
   ],
   "source": [
    "import sys\n",
    "sys.path.insert(0, r\"C:\\Users\\HsH-HsH\\weighted_split_criteria\")\n",
    "print(\"Project root added to sys.path\")\n"
   ]
  },
  {
   "cell_type": "code",
   "execution_count": 31,
   "id": "7037e449-e803-4e33-9d18-22020738c49a",
   "metadata": {},
   "outputs": [
    {
     "name": "stdout",
     "output_type": "stream",
     "text": [
      "All criteria imported & criteria_list built successfully.\n"
     ]
    }
   ],
   "source": [
    "# ایمپورت تمام معیارها\n",
    "from src.criteria.bhy import BhattacharyyaCriterion\n",
    "from src.criteria.cs import ChiSquaredCriterion\n",
    "from src.criteria.dkm import DKMCriterion\n",
    "from src.criteria.gini import GiniCriterion\n",
    "from src.criteria.gs import GStatisticCriterion\n",
    "from src.criteria.ks import KolmogorovSmirnovCriterion\n",
    "from src.criteria.marsh import MarshallCriterion\n",
    "from src.criteria.mch import MultiClassHellingerCriterion\n",
    "from src.criteria.ng import NormalizedGainCriterion\n",
    "from src.criteria.qg import GainRatioCriterion\n",
    "from src.criteria.twoing import TwoingCriterion\n",
    "\n",
    "# ساخت لیست معیارها\n",
    "criteria_list = [\n",
    "    BhattacharyyaCriterion(),\n",
    "    ChiSquaredCriterion(),\n",
    "    DKMCriterion(),\n",
    "    GiniCriterion(),\n",
    "    GStatisticCriterion(),\n",
    "    KolmogorovSmirnovCriterion(),\n",
    "    MarshallCriterion(),\n",
    "    MultiClassHellingerCriterion(),\n",
    "    NormalizedGainCriterion(),\n",
    "    GainRatioCriterion(),\n",
    "    TwoingCriterion()\n",
    "]\n",
    "\n",
    "print(\"All criteria imported & criteria_list built successfully.\")\n"
   ]
  },
  {
   "cell_type": "code",
   "execution_count": 32,
   "id": "4d26f468-ed05-428d-b5a5-da08c0eb90b6",
   "metadata": {},
   "outputs": [],
   "source": [
    "import sys\n",
    "sys.path.insert(0, r\"C:\\Users\\HsH-HsH\\weighted_split_criteria\")\n"
   ]
  },
  {
   "cell_type": "code",
   "execution_count": 33,
   "id": "26afdcd1-7313-45a5-81c4-75ef7c46cd9c",
   "metadata": {},
   "outputs": [],
   "source": [
    "from src.model.weighted_decision_tree import WeightedDecisionTree\n"
   ]
  },
  {
   "cell_type": "code",
   "execution_count": 34,
   "id": "be88c688-f273-4fe3-8486-193b889fc8e0",
   "metadata": {},
   "outputs": [
    {
     "name": "stdout",
     "output_type": "stream",
     "text": [
      "Model created successfully.\n"
     ]
    }
   ],
   "source": [
    "from src.model.weighted_decision_tree import WeightedDecisionTree\n",
    "\n",
    "model = WeightedDecisionTree(criteria_list)\n",
    "print(\"Model created successfully.\")\n"
   ]
  },
  {
   "cell_type": "code",
   "execution_count": 35,
   "id": "845b63ca-9bf4-45e4-a86d-665ab52b8ec5",
   "metadata": {},
   "outputs": [
    {
     "name": "stdout",
     "output_type": "stream",
     "text": [
      "True\n"
     ]
    }
   ],
   "source": [
    "print(hasattr(model, \"_false_negative\"))\n"
   ]
  },
  {
   "cell_type": "code",
   "execution_count": 36,
   "id": "98e2f9a8-62fc-42c5-94d9-a4150a0954a3",
   "metadata": {},
   "outputs": [
    {
     "name": "stdout",
     "output_type": "stream",
     "text": [
      "Model training completed on loaded dataset.\n"
     ]
    }
   ],
   "source": [
    "model.fit(X_loaded.values, y_loaded.values)\n",
    "print(\"Model training completed on loaded dataset.\")\n"
   ]
  },
  {
   "cell_type": "code",
   "execution_count": 37,
   "id": "c09420a2-725d-4461-aac2-283fe2317b47",
   "metadata": {},
   "outputs": [
    {
     "name": "stdout",
     "output_type": "stream",
     "text": [
      "[0 0 1 0 1 1 1 0 0 1 1 0 0 1 1 1 0 0 0 0]\n"
     ]
    }
   ],
   "source": [
    "predictions = model.predict(X_loaded.values)\n",
    "print(predictions)\n"
   ]
  },
  {
   "cell_type": "code",
   "execution_count": 38,
   "id": "e492e26a-d2e1-4be3-98bd-5ba779dbe165",
   "metadata": {},
   "outputs": [
    {
     "name": "stdout",
     "output_type": "stream",
     "text": [
      "Accuracy: 0.9000\n"
     ]
    }
   ],
   "source": [
    "from sklearn.metrics import accuracy_score\n",
    "\n",
    "accuracy = accuracy_score(y_loaded.values, predictions)\n",
    "print(f\"Accuracy: {accuracy:.4f}\")\n"
   ]
  },
  {
   "cell_type": "code",
   "execution_count": null,
   "id": "b2087849-0872-4ea1-82d0-ba2a990e63ef",
   "metadata": {},
   "outputs": [],
   "source": []
  }
 ],
 "metadata": {
  "kernelspec": {
   "display_name": "Python 3 (ipykernel)",
   "language": "python",
   "name": "python3"
  },
  "language_info": {
   "codemirror_mode": {
    "name": "ipython",
    "version": 3
   },
   "file_extension": ".py",
   "mimetype": "text/x-python",
   "name": "python",
   "nbconvert_exporter": "python",
   "pygments_lexer": "ipython3",
   "version": "3.12.0"
  }
 },
 "nbformat": 4,
 "nbformat_minor": 5
}
