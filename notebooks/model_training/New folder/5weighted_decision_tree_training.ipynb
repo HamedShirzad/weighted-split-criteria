{
 "cells": [
  {
   "cell_type": "code",
   "execution_count": 3,
   "id": "c0579bdb-3e2a-4005-8a33-65e9844de269",
   "metadata": {},
   "outputs": [
    {
     "name": "stdout",
     "output_type": "stream",
     "text": [
      "کتابخانه‌ها با موفقیت وارد شدند.\n"
     ]
    }
   ],
   "source": [
    "# سلول 1: ایمپورت کتابخانه‌ها و تنظیمات پایه\n",
    "\n",
    "import numpy as np\n",
    "import pandas as pd\n",
    "import matplotlib.pyplot as plt\n",
    "import seaborn as sns\n",
    "\n",
    "# تنظیمات نمایشی برای نمودارها\n",
    "%matplotlib inline\n",
    "sns.set(style=\"whitegrid\")\n",
    "\n",
    "print(\"کتابخانه‌ها با موفقیت وارد شدند.\")\n"
   ]
  },
  {
   "cell_type": "code",
   "execution_count": 4,
   "id": "cb1101c8-49cf-4b42-91e1-aabff691e6f0",
   "metadata": {},
   "outputs": [
    {
     "name": "stdout",
     "output_type": "stream",
     "text": [
      "نمونه‌ای از داده‌ها:\n"
     ]
    },
    {
     "data": {
      "text/html": [
       "<div>\n",
       "<style scoped>\n",
       "    .dataframe tbody tr th:only-of-type {\n",
       "        vertical-align: middle;\n",
       "    }\n",
       "\n",
       "    .dataframe tbody tr th {\n",
       "        vertical-align: top;\n",
       "    }\n",
       "\n",
       "    .dataframe thead th {\n",
       "        text-align: right;\n",
       "    }\n",
       "</style>\n",
       "<table border=\"1\" class=\"dataframe\">\n",
       "  <thead>\n",
       "    <tr style=\"text-align: right;\">\n",
       "      <th></th>\n",
       "      <th>feature1</th>\n",
       "      <th>feature2</th>\n",
       "      <th>feature3</th>\n",
       "      <th>feature4</th>\n",
       "      <th>target</th>\n",
       "    </tr>\n",
       "  </thead>\n",
       "  <tbody>\n",
       "    <tr>\n",
       "      <th>0</th>\n",
       "      <td>0.374540</td>\n",
       "      <td>0.611853</td>\n",
       "      <td>0.122038</td>\n",
       "      <td>0.388677</td>\n",
       "      <td>0</td>\n",
       "    </tr>\n",
       "    <tr>\n",
       "      <th>1</th>\n",
       "      <td>0.950714</td>\n",
       "      <td>0.139494</td>\n",
       "      <td>0.495177</td>\n",
       "      <td>0.271349</td>\n",
       "      <td>0</td>\n",
       "    </tr>\n",
       "    <tr>\n",
       "      <th>2</th>\n",
       "      <td>0.731994</td>\n",
       "      <td>0.292145</td>\n",
       "      <td>0.034389</td>\n",
       "      <td>0.828738</td>\n",
       "      <td>1</td>\n",
       "    </tr>\n",
       "    <tr>\n",
       "      <th>3</th>\n",
       "      <td>0.598658</td>\n",
       "      <td>0.366362</td>\n",
       "      <td>0.909320</td>\n",
       "      <td>0.356753</td>\n",
       "      <td>1</td>\n",
       "    </tr>\n",
       "    <tr>\n",
       "      <th>4</th>\n",
       "      <td>0.156019</td>\n",
       "      <td>0.456070</td>\n",
       "      <td>0.258780</td>\n",
       "      <td>0.280935</td>\n",
       "      <td>1</td>\n",
       "    </tr>\n",
       "  </tbody>\n",
       "</table>\n",
       "</div>"
      ],
      "text/plain": [
       "   feature1  feature2  feature3  feature4  target\n",
       "0  0.374540  0.611853  0.122038  0.388677       0\n",
       "1  0.950714  0.139494  0.495177  0.271349       0\n",
       "2  0.731994  0.292145  0.034389  0.828738       1\n",
       "3  0.598658  0.366362  0.909320  0.356753       1\n",
       "4  0.156019  0.456070  0.258780  0.280935       1"
      ]
     },
     "metadata": {},
     "output_type": "display_data"
    },
    {
     "name": "stdout",
     "output_type": "stream",
     "text": [
      "\n",
      "اطلاعات کلی دیتاست:\n",
      "<class 'pandas.core.frame.DataFrame'>\n",
      "RangeIndex: 20 entries, 0 to 19\n",
      "Data columns (total 5 columns):\n",
      " #   Column    Non-Null Count  Dtype  \n",
      "---  ------    --------------  -----  \n",
      " 0   feature1  20 non-null     float64\n",
      " 1   feature2  20 non-null     float64\n",
      " 2   feature3  20 non-null     float64\n",
      " 3   feature4  20 non-null     float64\n",
      " 4   target    20 non-null     int64  \n",
      "dtypes: float64(4), int64(1)\n",
      "memory usage: 932.0 bytes\n",
      "\n",
      "آمار توصیفی دیتاست:\n"
     ]
    },
    {
     "data": {
      "text/html": [
       "<div>\n",
       "<style scoped>\n",
       "    .dataframe tbody tr th:only-of-type {\n",
       "        vertical-align: middle;\n",
       "    }\n",
       "\n",
       "    .dataframe tbody tr th {\n",
       "        vertical-align: top;\n",
       "    }\n",
       "\n",
       "    .dataframe thead th {\n",
       "        text-align: right;\n",
       "    }\n",
       "</style>\n",
       "<table border=\"1\" class=\"dataframe\">\n",
       "  <thead>\n",
       "    <tr style=\"text-align: right;\">\n",
       "      <th></th>\n",
       "      <th>feature1</th>\n",
       "      <th>feature2</th>\n",
       "      <th>feature3</th>\n",
       "      <th>feature4</th>\n",
       "      <th>target</th>\n",
       "    </tr>\n",
       "  </thead>\n",
       "  <tbody>\n",
       "    <tr>\n",
       "      <th>count</th>\n",
       "      <td>20.000000</td>\n",
       "      <td>20.000000</td>\n",
       "      <td>20.000000</td>\n",
       "      <td>20.000000</td>\n",
       "      <td>20.000000</td>\n",
       "    </tr>\n",
       "    <tr>\n",
       "      <th>mean</th>\n",
       "      <td>0.457702</td>\n",
       "      <td>0.454829</td>\n",
       "      <td>0.489971</td>\n",
       "      <td>0.461058</td>\n",
       "      <td>0.450000</td>\n",
       "    </tr>\n",
       "    <tr>\n",
       "      <th>std</th>\n",
       "      <td>0.307687</td>\n",
       "      <td>0.291179</td>\n",
       "      <td>0.330794</td>\n",
       "      <td>0.314378</td>\n",
       "      <td>0.510418</td>\n",
       "    </tr>\n",
       "    <tr>\n",
       "      <th>min</th>\n",
       "      <td>0.020584</td>\n",
       "      <td>0.046450</td>\n",
       "      <td>0.034389</td>\n",
       "      <td>0.005522</td>\n",
       "      <td>0.000000</td>\n",
       "    </tr>\n",
       "    <tr>\n",
       "      <th>25%</th>\n",
       "      <td>0.183010</td>\n",
       "      <td>0.192386</td>\n",
       "      <td>0.193201</td>\n",
       "      <td>0.184268</td>\n",
       "      <td>0.000000</td>\n",
       "    </tr>\n",
       "    <tr>\n",
       "      <th>50%</th>\n",
       "      <td>0.403243</td>\n",
       "      <td>0.448111</td>\n",
       "      <td>0.507622</td>\n",
       "      <td>0.373572</td>\n",
       "      <td>0.000000</td>\n",
       "    </tr>\n",
       "    <tr>\n",
       "      <th>75%</th>\n",
       "      <td>0.714053</td>\n",
       "      <td>0.629948</td>\n",
       "      <td>0.805056</td>\n",
       "      <td>0.771514</td>\n",
       "      <td>1.000000</td>\n",
       "    </tr>\n",
       "    <tr>\n",
       "      <th>max</th>\n",
       "      <td>0.969910</td>\n",
       "      <td>0.965632</td>\n",
       "      <td>0.969585</td>\n",
       "      <td>0.986887</td>\n",
       "      <td>1.000000</td>\n",
       "    </tr>\n",
       "  </tbody>\n",
       "</table>\n",
       "</div>"
      ],
      "text/plain": [
       "        feature1   feature2   feature3   feature4     target\n",
       "count  20.000000  20.000000  20.000000  20.000000  20.000000\n",
       "mean    0.457702   0.454829   0.489971   0.461058   0.450000\n",
       "std     0.307687   0.291179   0.330794   0.314378   0.510418\n",
       "min     0.020584   0.046450   0.034389   0.005522   0.000000\n",
       "25%     0.183010   0.192386   0.193201   0.184268   0.000000\n",
       "50%     0.403243   0.448111   0.507622   0.373572   0.000000\n",
       "75%     0.714053   0.629948   0.805056   0.771514   1.000000\n",
       "max     0.969910   0.965632   0.969585   0.986887   1.000000"
      ]
     },
     "metadata": {},
     "output_type": "display_data"
    }
   ],
   "source": [
    "# سلول 2 (اصلاح شده): بارگذاری دیتاست و نمایش اطلاعات اولیه\n",
    "\n",
    "# مسیر کامل فایل دیتاست کوچک\n",
    "dataset_path = \"C:/Users/HsH-HsH/weighted_split_criteria/notebooks/datasets/small_dataset.csv\"\n",
    "\n",
    "# بارگذاری دیتاست با pandas\n",
    "df = pd.read_csv(dataset_path)\n",
    "\n",
    "# نمایش پنج سطر اول دیتاست\n",
    "print(\"نمونه‌ای از داده‌ها:\")\n",
    "display(df.head())\n",
    "\n",
    "# نمایش خلاصه‌ای از اطلاعات دیتاست\n",
    "print(\"\\nاطلاعات کلی دیتاست:\")\n",
    "df.info()\n",
    "\n",
    "# نمایش آمار توصیفی خلاصه (میانگین، انحراف معیار و...)\n",
    "print(\"\\nآمار توصیفی دیتاست:\")\n",
    "display(df.describe())\n"
   ]
  },
  {
   "cell_type": "code",
   "execution_count": 5,
   "id": "920aac5a-83d4-438e-a532-39744e72f48b",
   "metadata": {},
   "outputs": [
    {
     "name": "stdout",
     "output_type": "stream",
     "text": [
      "شکل داده ورودی مدل (X): (20, 4)\n",
      "شکل برچسب‌ها (y): (20,)\n"
     ]
    },
    {
     "data": {
      "text/html": [
       "<div>\n",
       "<style scoped>\n",
       "    .dataframe tbody tr th:only-of-type {\n",
       "        vertical-align: middle;\n",
       "    }\n",
       "\n",
       "    .dataframe tbody tr th {\n",
       "        vertical-align: top;\n",
       "    }\n",
       "\n",
       "    .dataframe thead th {\n",
       "        text-align: right;\n",
       "    }\n",
       "</style>\n",
       "<table border=\"1\" class=\"dataframe\">\n",
       "  <thead>\n",
       "    <tr style=\"text-align: right;\">\n",
       "      <th></th>\n",
       "      <th>feature1</th>\n",
       "      <th>feature2</th>\n",
       "      <th>feature3</th>\n",
       "      <th>feature4</th>\n",
       "    </tr>\n",
       "  </thead>\n",
       "  <tbody>\n",
       "    <tr>\n",
       "      <th>0</th>\n",
       "      <td>0.374540</td>\n",
       "      <td>0.611853</td>\n",
       "      <td>0.122038</td>\n",
       "      <td>0.388677</td>\n",
       "    </tr>\n",
       "    <tr>\n",
       "      <th>1</th>\n",
       "      <td>0.950714</td>\n",
       "      <td>0.139494</td>\n",
       "      <td>0.495177</td>\n",
       "      <td>0.271349</td>\n",
       "    </tr>\n",
       "    <tr>\n",
       "      <th>2</th>\n",
       "      <td>0.731994</td>\n",
       "      <td>0.292145</td>\n",
       "      <td>0.034389</td>\n",
       "      <td>0.828738</td>\n",
       "    </tr>\n",
       "    <tr>\n",
       "      <th>3</th>\n",
       "      <td>0.598658</td>\n",
       "      <td>0.366362</td>\n",
       "      <td>0.909320</td>\n",
       "      <td>0.356753</td>\n",
       "    </tr>\n",
       "    <tr>\n",
       "      <th>4</th>\n",
       "      <td>0.156019</td>\n",
       "      <td>0.456070</td>\n",
       "      <td>0.258780</td>\n",
       "      <td>0.280935</td>\n",
       "    </tr>\n",
       "  </tbody>\n",
       "</table>\n",
       "</div>"
      ],
      "text/plain": [
       "   feature1  feature2  feature3  feature4\n",
       "0  0.374540  0.611853  0.122038  0.388677\n",
       "1  0.950714  0.139494  0.495177  0.271349\n",
       "2  0.731994  0.292145  0.034389  0.828738\n",
       "3  0.598658  0.366362  0.909320  0.356753\n",
       "4  0.156019  0.456070  0.258780  0.280935"
      ]
     },
     "metadata": {},
     "output_type": "display_data"
    },
    {
     "data": {
      "text/plain": [
       "0    0\n",
       "1    0\n",
       "2    1\n",
       "3    1\n",
       "4    1\n",
       "Name: target, dtype: int64"
      ]
     },
     "metadata": {},
     "output_type": "display_data"
    }
   ],
   "source": [
    "# سلول 3: جدا کردن ویژگی‌ها و متغیر هدف برای آموزش مدل\n",
    "\n",
    "# فرض می‌کنیم ستون target، متغیر هدف (برچسب) است\n",
    "X = df.drop(\"target\", axis=1)  # ویژگی‌ها (عواملی که با آن پیش‌بینی می‌کنیم)\n",
    "y = df[\"target\"]               # متغیر هدف (0 یا 1)\n",
    "\n",
    "print(\"شکل داده ورودی مدل (X):\", X.shape)\n",
    "print(\"شکل برچسب‌ها (y):\", y.shape)\n",
    "display(X.head())  # نمایش نمونه‌ای از داده‌های ویژگی\n",
    "display(y.head())  # نمایش نمونه‌ای از برچسب‌ها\n"
   ]
  },
  {
   "cell_type": "code",
   "execution_count": 6,
   "id": "f6a395a3-071c-4954-937b-5668ae38b1e3",
   "metadata": {},
   "outputs": [
    {
     "name": "stdout",
     "output_type": "stream",
     "text": [
      "پوشه src به sys.path اضافه شد.\n"
     ]
    }
   ],
   "source": [
    "import sys\n",
    "sys.path.insert(0, r\"C:\\Users\\HsH-HsH\\weighted_split_criteria\\src\")\n",
    "print(\"پوشه src به sys.path اضافه شد.\")\n"
   ]
  },
  {
   "cell_type": "code",
   "execution_count": 7,
   "id": "582795f1-54e2-4e0e-a4ef-ec5d8a2fcb59",
   "metadata": {},
   "outputs": [
    {
     "name": "stdout",
     "output_type": "stream",
     "text": [
      "دیتاست با موفقیت بارگذاری و آماده‌سازی شد.\n",
      "تعداد نمونه‌ها: 20, تعداد ویژگی‌ها: 4\n"
     ]
    }
   ],
   "source": [
    "import pandas as pd\n",
    "\n",
    "# مسیر فایل دیتاست\n",
    "dataset_path = r\"C:\\Users\\HsH-HsH\\weighted_split_criteria\\notebooks\\datasets\\small_dataset.csv\"\n",
    "\n",
    "# بارگذاری دیتاست\n",
    "df = pd.read_csv(dataset_path)\n",
    "\n",
    "# جدا کردن ویژگی‌ها و برچسب‌ها (فرض ستون 'target' برچسب است)\n",
    "X = df.drop(columns=['target']).values\n",
    "y = df['target'].values\n",
    "\n",
    "print(\"دیتاست با موفقیت بارگذاری و آماده‌سازی شد.\")\n",
    "print(f\"تعداد نمونه‌ها: {X.shape[0]}, تعداد ویژگی‌ها: {X.shape[1]}\")\n"
   ]
  },
  {
   "cell_type": "code",
   "execution_count": 8,
   "id": "9d319e41-0926-45a5-ba1a-87799fb78bb8",
   "metadata": {},
   "outputs": [
    {
     "name": "stdout",
     "output_type": "stream",
     "text": [
      "معیارها و وزن‌ها تعریف شدند.\n"
     ]
    }
   ],
   "source": [
    "from criteria.gini import gini_criterion\n",
    "from criteria.qg import gain_ratio_criterion\n",
    "from criteria.twoing import twoing_criterion\n",
    "from criteria.ng import normalized_gain_criterion\n",
    "from criteria.mch import multi_class_hellinger\n",
    "from criteria.marsh import marsh_criterion\n",
    "from criteria.gs import g_statistic_criterion\n",
    "from criteria.dkm import dkm_criterion\n",
    "from criteria.cs import chi_squared_criterion\n",
    "from criteria.bhy import bhattacharyya_criterion\n",
    "from criteria.ks import kolmogorov_smirnov_criterion\n",
    "\n",
    "criteria_with_weights = [\n",
    "    (\"gini\", gini_criterion, 0.15),\n",
    "    (\"gain_ratio\", gain_ratio_criterion, 0.15),\n",
    "    (\"twoing\", twoing_criterion, 0.10),\n",
    "    (\"normalized_gain\", normalized_gain_criterion, 0.10),\n",
    "    (\"multi_class_hellinger\", multi_class_hellinger, 0.10),\n",
    "    (\"marshall\", marsh_criterion, 0.05),\n",
    "    (\"g_statistic\", g_statistic_criterion, 0.05),\n",
    "    (\"dkm\", dkm_criterion, 0.10),\n",
    "    (\"chi_squared\", chi_squared_criterion, 0.05),\n",
    "    (\"bhattacharyya\", bhattacharyya_criterion, 0.10),\n",
    "    (\"kolmogorov_smirnov\", kolmogorov_smirnov_criterion, 0.05),\n",
    "]\n",
    "\n",
    "print(\"معیارها و وزن‌ها تعریف شدند.\")\n"
   ]
  },
  {
   "cell_type": "code",
   "execution_count": 9,
   "id": "cccd3b78-93f3-46ca-94ed-9635259a94ec",
   "metadata": {},
   "outputs": [
    {
     "name": "stdout",
     "output_type": "stream",
     "text": [
      "پوشه model به sys.path اضافه شد.\n"
     ]
    }
   ],
   "source": [
    "import sys\n",
    "sys.path.insert(0, r\"C:\\Users\\HsH-HsH\\weighted_split_criteria\\src\\model\")\n",
    "print(\"پوشه model به sys.path اضافه شد.\")\n"
   ]
  },
  {
   "cell_type": "code",
   "execution_count": 13,
   "id": "957e4366-c52c-424a-a157-0b6dc124dd99",
   "metadata": {},
   "outputs": [],
   "source": [
    "from weighted_decision_tree import WeightedDecisionTreeModel\n"
   ]
  },
  {
   "cell_type": "code",
   "execution_count": 9,
   "id": "54e10df7-18a1-471d-9292-97e1e418c149",
   "metadata": {},
   "outputs": [],
   "source": [
    "model = WeightedDecisionTreeModel(criteria_with_weights, positive_label=1, max_depth=5)\n"
   ]
  },
  {
   "cell_type": "code",
   "execution_count": 15,
   "id": "df5c7cdf-5748-4f36-b69e-e8b9d7155968",
   "metadata": {},
   "outputs": [
    {
     "ename": "NameError",
     "evalue": "name 'model' is not defined",
     "output_type": "error",
     "traceback": [
      "\u001b[1;31m---------------------------------------------------------------------------\u001b[0m",
      "\u001b[1;31mNameError\u001b[0m                                 Traceback (most recent call last)",
      "Cell \u001b[1;32mIn[15], line 1\u001b[0m\n\u001b[1;32m----> 1\u001b[0m \u001b[43mmodel\u001b[49m\u001b[38;5;241m.\u001b[39mfit(X, y)\n",
      "\u001b[1;31mNameError\u001b[0m: name 'model' is not defined"
     ]
    }
   ],
   "source": [
    "model.fit(X, y)"
   ]
  },
  {
   "cell_type": "code",
   "execution_count": 13,
   "id": "2b5940a6-ff5a-441d-bbef-315f9767eae9",
   "metadata": {},
   "outputs": [
    {
     "name": "stdout",
     "output_type": "stream",
     "text": [
      "احتمالات کلاس‌ها:\n",
      "[[0.55 0.45]\n",
      " [0.55 0.45]\n",
      " [0.55 0.45]\n",
      " [0.55 0.45]\n",
      " [0.55 0.45]\n",
      " [0.55 0.45]\n",
      " [0.55 0.45]\n",
      " [0.55 0.45]\n",
      " [0.55 0.45]\n",
      " [0.55 0.45]\n",
      " [0.55 0.45]\n",
      " [0.55 0.45]\n",
      " [0.55 0.45]\n",
      " [0.55 0.45]\n",
      " [0.55 0.45]\n",
      " [0.55 0.45]\n",
      " [0.55 0.45]\n",
      " [0.55 0.45]\n",
      " [0.55 0.45]\n",
      " [0.55 0.45]]\n"
     ]
    }
   ],
   "source": [
    "probabilities = model.predict_proba(X)\n",
    "print(\"احتمالات کلاس‌ها:\")\n",
    "print(probabilities)\n"
   ]
  },
  {
   "cell_type": "code",
   "execution_count": 14,
   "id": "0007e03e-535a-46d3-b112-c27ce8397772",
   "metadata": {},
   "outputs": [
    {
     "name": "stdout",
     "output_type": "stream",
     "text": [
      "برچسب‌های پیش‌بینی شده:\n",
      "[0 0 0 0 0 0 0 0 0 0 0 0 0 0 0 0 0 0 0 0]\n"
     ]
    }
   ],
   "source": [
    "predictions = probabilities.argmax(axis=1)\n",
    "print(\"برچسب‌های پیش‌بینی شده:\")\n",
    "print(predictions)\n"
   ]
  },
  {
   "cell_type": "code",
   "execution_count": 15,
   "id": "48118ef0-0e5a-444b-8346-e8b23bb4f713",
   "metadata": {},
   "outputs": [
    {
     "name": "stdout",
     "output_type": "stream",
     "text": [
      "دقت مدل: 0.5500\n"
     ]
    }
   ],
   "source": [
    "from sklearn.metrics import accuracy_score\n",
    "\n",
    "accuracy = accuracy_score(y, predictions)\n",
    "print(f\"دقت مدل: {accuracy:.4f}\")\n"
   ]
  }
 ],
 "metadata": {
  "kernelspec": {
   "display_name": "Python 3 (ipykernel)",
   "language": "python",
   "name": "python3"
  },
  "language_info": {
   "codemirror_mode": {
    "name": "ipython",
    "version": 3
   },
   "file_extension": ".py",
   "mimetype": "text/x-python",
   "name": "python",
   "nbconvert_exporter": "python",
   "pygments_lexer": "ipython3",
   "version": "3.12.0"
  }
 },
 "nbformat": 4,
 "nbformat_minor": 5
}
