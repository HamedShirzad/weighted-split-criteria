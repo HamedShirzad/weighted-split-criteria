{
 "cells": [
  {
   "cell_type": "code",
   "execution_count": 1,
   "id": "03a21ca4-6793-4c0c-b5bf-b02a63919af2",
   "metadata": {},
   "outputs": [
    {
     "name": "stdout",
     "output_type": "stream",
     "text": [
      "مسیر C:\\Users\\HsH-HsH\\weighted_split_criteria\\notebooks\\model_training\\src به sys.path اضافه شد\n"
     ]
    }
   ],
   "source": [
    "import sys\n",
    "import os\n",
    "\n",
    "src_path = os.path.abspath(\"src\")\n",
    "if src_path not in sys.path:\n",
    "    sys.path.insert(0, src_path)\n",
    "print(f\"مسیر {src_path} به sys.path اضافه شد\")\n"
   ]
  },
  {
   "cell_type": "code",
   "execution_count": 2,
   "id": "7903ae8e-c3f5-4d70-a477-d47be4009d40",
   "metadata": {},
   "outputs": [
    {
     "name": "stdout",
     "output_type": "stream",
     "text": [
      "دیتاست کوچک تعریف شد\n"
     ]
    }
   ],
   "source": [
    "import numpy as np\n",
    "\n",
    "X_small = np.array([\n",
    "    [0.1, 0.2],\n",
    "    [0.4, 0.5],\n",
    "    [0.7, 0.8],\n",
    "    [0.2, 0.1]\n",
    "])\n",
    "\n",
    "y_small = np.array([0, 1, 0, 1])\n",
    "\n",
    "print(\"دیتاست کوچک تعریف شد\")\n"
   ]
  },
  {
   "cell_type": "code",
   "execution_count": 4,
   "id": "4b10f178-faaa-4b17-acf7-e05a8bcc8378",
   "metadata": {},
   "outputs": [
    {
     "name": "stdout",
     "output_type": "stream",
     "text": [
      "مسیر C:\\Users\\HsH-HsH\\weighted_split_criteria\\notebooks\\model_training\\src به sys.path اضافه شد\n"
     ]
    }
   ],
   "source": [
    "import sys\n",
    "import os\n",
    "\n",
    "src_path = os.path.abspath(\"src\")\n",
    "if src_path not in sys.path:\n",
    "    sys.path.insert(0, src_path)\n",
    "print(f\"مسیر {src_path} به sys.path اضافه شد\")\n"
   ]
  },
  {
   "cell_type": "code",
   "execution_count": 5,
   "id": "694f1cf3-4cb1-4aa2-8d06-8106d9600d0a",
   "metadata": {},
   "outputs": [
    {
     "ename": "ModuleNotFoundError",
     "evalue": "No module named 'model'",
     "output_type": "error",
     "traceback": [
      "\u001b[1;31m---------------------------------------------------------------------------\u001b[0m",
      "\u001b[1;31mModuleNotFoundError\u001b[0m                       Traceback (most recent call last)",
      "Cell \u001b[1;32mIn[5], line 1\u001b[0m\n\u001b[1;32m----> 1\u001b[0m \u001b[38;5;28;01mfrom\u001b[39;00m \u001b[38;5;21;01mmodel\u001b[39;00m\u001b[38;5;21;01m.\u001b[39;00m\u001b[38;5;21;01mweighted_decision_tree\u001b[39;00m \u001b[38;5;28;01mimport\u001b[39;00m WeightedDecisionTreeModel\n\u001b[0;32m      2\u001b[0m \u001b[38;5;28mprint\u001b[39m(\u001b[38;5;124m\"\u001b[39m\u001b[38;5;124mمدل WeightedDecisionTreeModel ایمپورت شد\u001b[39m\u001b[38;5;124m\"\u001b[39m)\n",
      "\u001b[1;31mModuleNotFoundError\u001b[0m: No module named 'model'"
     ]
    }
   ],
   "source": [
    "from model.weighted_decision_tree import WeightedDecisionTreeModel\n",
    "print(\"مدل WeightedDecisionTreeModel ایمپورت شد\")\n"
   ]
  },
  {
   "cell_type": "code",
   "execution_count": 6,
   "id": "b2d24c99-0304-48e8-85f9-4964b0857b06",
   "metadata": {},
   "outputs": [
    {
     "name": "stdout",
     "output_type": "stream",
     "text": [
      "مسیر فعلی نوت‌بوک: C:\\Users\\HsH-HsH\\weighted_split_criteria\\notebooks\\model_training\n",
      "محتویات مسیر فعلی: ['.ipynb_checkpoints', '2weighted_decision_tree_training.ipynb', '3weighted_decision_tree_training.ipynb', '4 weighted_decision_tree_training.ipynb', '5weighted_decision_tree_training.ipynb', 'A weighted_decision_tree_training.ipynb', 'B1.ipynb', 'B2.ipynb', 'New folder', 'Untitled.ipynb', 'Untitled1.ipynb', 'Untitled2.ipynb', 'weighted_decision_tree_training.ipynb']\n",
      "آیا پوشه src وجود دارد؟ False\n"
     ]
    }
   ],
   "source": [
    "import os\n",
    "\n",
    "print(\"مسیر فعلی نوت‌بوک:\", os.getcwd())\n",
    "print(\"محتویات مسیر فعلی:\", os.listdir())\n",
    "print(\"آیا پوشه src وجود دارد؟\", os.path.exists(\"src\"))\n"
   ]
  },
  {
   "cell_type": "code",
   "execution_count": 7,
   "id": "4abae40f-6939-4e0c-bdd9-5ace1cc78994",
   "metadata": {},
   "outputs": [
    {
     "name": "stdout",
     "output_type": "stream",
     "text": [
      "مسیر src به sys.path اضافه شد\n"
     ]
    }
   ],
   "source": [
    "import sys\n",
    "\n",
    "sys.path.insert(0, r\"C:\\Users\\HsH-HsH\\weighted_split_criteria\\src\")\n",
    "print(\"مسیر src به sys.path اضافه شد\")\n"
   ]
  },
  {
   "cell_type": "code",
   "execution_count": 8,
   "id": "b2f2aaa7-9ae6-45f2-bbc1-90fd9f48f74c",
   "metadata": {},
   "outputs": [
    {
     "name": "stdout",
     "output_type": "stream",
     "text": [
      "مدل WeightedDecisionTreeModel ایمپورت شد\n"
     ]
    }
   ],
   "source": [
    "from model.weighted_decision_tree import WeightedDecisionTreeModel\n",
    "print(\"مدل WeightedDecisionTreeModel ایمپورت شد\")\n"
   ]
  },
  {
   "cell_type": "code",
   "execution_count": 9,
   "id": "e785f85b-7f7c-4bdf-8a61-acdca69998c8",
   "metadata": {},
   "outputs": [
    {
     "name": "stdout",
     "output_type": "stream",
     "text": [
      "نمونه مدل با دیتاست کوچک ساخته شد\n"
     ]
    }
   ],
   "source": [
    "import numpy as np\n",
    "\n",
    "X_small = np.array([\n",
    "    [0.1, 0.2],\n",
    "    [0.4, 0.5],\n",
    "    [0.7, 0.8],\n",
    "    [0.2, 0.1]\n",
    "])\n",
    "\n",
    "y_small = np.array([0, 1, 0, 1])\n",
    "\n",
    "model = WeightedDecisionTreeModel(X_data=X_small)\n",
    "print(\"نمونه مدل با دیتاست کوچک ساخته شد\")\n"
   ]
  },
  {
   "cell_type": "code",
   "execution_count": 10,
   "id": "f3afb26f-8094-482d-9a75-1e19ab98ce5a",
   "metadata": {},
   "outputs": [
    {
     "ename": "IndexError",
     "evalue": "boolean index did not match indexed array along axis 0; size of axis is 3 but size of corresponding boolean axis is 4",
     "output_type": "error",
     "traceback": [
      "\u001b[1;31m---------------------------------------------------------------------------\u001b[0m",
      "\u001b[1;31mIndexError\u001b[0m                                Traceback (most recent call last)",
      "Cell \u001b[1;32mIn[10], line 1\u001b[0m\n\u001b[1;32m----> 1\u001b[0m \u001b[43mmodel\u001b[49m\u001b[38;5;241;43m.\u001b[39;49m\u001b[43mfit\u001b[49m\u001b[43m(\u001b[49m\u001b[43mX_small\u001b[49m\u001b[43m,\u001b[49m\u001b[43m \u001b[49m\u001b[43my_small\u001b[49m\u001b[43m)\u001b[49m\n\u001b[0;32m      2\u001b[0m \u001b[38;5;28mprint\u001b[39m(\u001b[38;5;124m\"\u001b[39m\u001b[38;5;124mمدل روی دیتاست کوچک آموزش داده شد\u001b[39m\u001b[38;5;124m\"\u001b[39m)\n",
      "File \u001b[1;32m~\\weighted_split_criteria\\src\\model\\weighted_decision_tree.py:169\u001b[0m, in \u001b[0;36mWeightedDecisionTreeModel.fit\u001b[1;34m(self, X, y)\u001b[0m\n\u001b[0;32m    165\u001b[0m     y \u001b[38;5;241m=\u001b[39m y\u001b[38;5;241m.\u001b[39mvalues\n\u001b[0;32m    167\u001b[0m metric_data \u001b[38;5;241m=\u001b[39m y\u001b[38;5;241m.\u001b[39mreshape(\u001b[38;5;241m-\u001b[39m\u001b[38;5;241m1\u001b[39m, \u001b[38;5;241m1\u001b[39m)\n\u001b[1;32m--> 169\u001b[0m \u001b[38;5;28;43mself\u001b[39;49m\u001b[38;5;241;43m.\u001b[39;49m\u001b[43mmodel\u001b[49m\u001b[38;5;241;43m.\u001b[39;49m\u001b[43mfit\u001b[49m\u001b[43m(\u001b[49m\u001b[43mX\u001b[49m\u001b[43m,\u001b[49m\u001b[43m \u001b[49m\u001b[43my\u001b[49m\u001b[43m,\u001b[49m\u001b[43m \u001b[49m\u001b[43mmetric_data\u001b[49m\u001b[43m)\u001b[49m\n",
      "File \u001b[1;32m~\\AppData\\Local\\Programs\\Python\\Python312\\Lib\\site-packages\\custom_tree_classifier\\models\\decision_tree.py:247\u001b[0m, in \u001b[0;36mCustomDecisionTreeClassifier.fit\u001b[1;34m(self, X, y, metric_data)\u001b[0m\n\u001b[0;32m    244\u001b[0m \u001b[38;5;28;01mif\u001b[39;00m np\u001b[38;5;241m.\u001b[39msum(partition[\u001b[38;5;124m\"\u001b[39m\u001b[38;5;124mrepartition\u001b[39m\u001b[38;5;124m\"\u001b[39m]) \u001b[38;5;241m<\u001b[39m \u001b[38;5;241m2\u001b[39m:\n\u001b[0;32m    245\u001b[0m     \u001b[38;5;28;01mcontinue\u001b[39;00m\n\u001b[1;32m--> 247\u001b[0m best_splits \u001b[38;5;241m=\u001b[39m \u001b[38;5;28;43mself\u001b[39;49m\u001b[38;5;241;43m.\u001b[39;49m\u001b[43mget_best_split_by_var\u001b[49m\u001b[43m(\u001b[49m\n\u001b[0;32m    248\u001b[0m \u001b[43m    \u001b[49m\u001b[43mX\u001b[49m\u001b[38;5;241;43m=\u001b[39;49m\u001b[43mX\u001b[49m\u001b[43m[\u001b[49m\u001b[43mpartition\u001b[49m\u001b[43m[\u001b[49m\u001b[38;5;124;43m\"\u001b[39;49m\u001b[38;5;124;43mmask\u001b[39;49m\u001b[38;5;124;43m\"\u001b[39;49m\u001b[43m]\u001b[49m\u001b[43m,\u001b[49m\u001b[43m \u001b[49m\u001b[43m:\u001b[49m\u001b[43m]\u001b[49m\u001b[43m,\u001b[49m\n\u001b[0;32m    249\u001b[0m \u001b[43m    \u001b[49m\u001b[43mmetric_data\u001b[49m\u001b[38;5;241;43m=\u001b[39;49m\u001b[43mmetric_data\u001b[49m\u001b[43m[\u001b[49m\u001b[43mpartition\u001b[49m\u001b[43m[\u001b[49m\u001b[38;5;124;43m\"\u001b[39;49m\u001b[38;5;124;43mmask\u001b[39;49m\u001b[38;5;124;43m\"\u001b[39;49m\u001b[43m]\u001b[49m\u001b[43m]\u001b[49m\n\u001b[0;32m    250\u001b[0m \u001b[43m\u001b[49m\u001b[43m)\u001b[49m\n\u001b[0;32m    252\u001b[0m \u001b[38;5;66;03m# Skip iteration if no valid split has been found\u001b[39;00m\n\u001b[0;32m    253\u001b[0m \u001b[38;5;28;01mif\u001b[39;00m \u001b[38;5;28mlen\u001b[39m(best_splits) \u001b[38;5;241m==\u001b[39m \u001b[38;5;241m0\u001b[39m:\n",
      "File \u001b[1;32m~\\AppData\\Local\\Programs\\Python\\Python312\\Lib\\site-packages\\custom_tree_classifier\\models\\decision_tree.py:125\u001b[0m, in \u001b[0;36mCustomDecisionTreeClassifier.get_best_split_by_var\u001b[1;34m(self, X, metric_data)\u001b[0m\n\u001b[0;32m    122\u001b[0m id_vars \u001b[38;5;241m=\u001b[39m \u001b[38;5;28mrange\u001b[39m(X\u001b[38;5;241m.\u001b[39mshape[\u001b[38;5;241m1\u001b[39m])\n\u001b[0;32m    123\u001b[0m \u001b[38;5;28;01mfor\u001b[39;00m \u001b[38;5;28mid\u001b[39m \u001b[38;5;129;01min\u001b[39;00m id_vars:\n\u001b[1;32m--> 125\u001b[0m     value, delta \u001b[38;5;241m=\u001b[39m \u001b[38;5;28;43mself\u001b[39;49m\u001b[38;5;241;43m.\u001b[39;49m\u001b[43mget_best_split\u001b[49m\u001b[43m(\u001b[49m\n\u001b[0;32m    126\u001b[0m \u001b[43m        \u001b[49m\u001b[43mvalues\u001b[49m\u001b[38;5;241;43m=\u001b[39;49m\u001b[43mX\u001b[49m\u001b[43m[\u001b[49m\u001b[43m:\u001b[49m\u001b[43m,\u001b[49m\u001b[43m \u001b[49m\u001b[38;5;28;43mid\u001b[39;49m\u001b[43m]\u001b[49m\u001b[43m,\u001b[49m\n\u001b[0;32m    127\u001b[0m \u001b[43m        \u001b[49m\u001b[43mmetric_data\u001b[49m\u001b[38;5;241;43m=\u001b[39;49m\u001b[43mmetric_data\u001b[49m\n\u001b[0;32m    128\u001b[0m \u001b[43m    \u001b[49m\u001b[43m)\u001b[49m\n\u001b[0;32m    130\u001b[0m     \u001b[38;5;28;01mif\u001b[39;00m np\u001b[38;5;241m.\u001b[39misnan(delta) \u001b[38;5;241m|\u001b[39m (np\u001b[38;5;241m.\u001b[39mround(delta, \u001b[38;5;241m10\u001b[39m) \u001b[38;5;241m==\u001b[39m \u001b[38;5;241m0\u001b[39m):\n\u001b[0;32m    131\u001b[0m         \u001b[38;5;28;01mcontinue\u001b[39;00m\n",
      "File \u001b[1;32m~\\AppData\\Local\\Programs\\Python\\Python312\\Lib\\site-packages\\custom_tree_classifier\\models\\decision_tree.py:84\u001b[0m, in \u001b[0;36mCustomDecisionTreeClassifier.get_best_split\u001b[1;34m(self, values, metric_data)\u001b[0m\n\u001b[0;32m     81\u001b[0m deltas \u001b[38;5;241m=\u001b[39m {}\n\u001b[0;32m     82\u001b[0m \u001b[38;5;28;01mfor\u001b[39;00m split \u001b[38;5;129;01min\u001b[39;00m splits:\n\u001b[1;32m---> 84\u001b[0m     delta \u001b[38;5;241m=\u001b[39m \u001b[38;5;28;43mself\u001b[39;49m\u001b[38;5;241;43m.\u001b[39;49m\u001b[43mmetric\u001b[49m\u001b[38;5;241;43m.\u001b[39;49m\u001b[43mcompute_delta\u001b[49m\u001b[43m(\u001b[49m\n\u001b[0;32m     85\u001b[0m \u001b[43m        \u001b[49m\u001b[43msplit\u001b[49m\u001b[38;5;241;43m=\u001b[39;49m\u001b[43mvalues\u001b[49m\u001b[43m \u001b[49m\u001b[38;5;241;43m>\u001b[39;49m\u001b[43m \u001b[49m\u001b[43msplit\u001b[49m\u001b[43m,\u001b[49m\n\u001b[0;32m     86\u001b[0m \u001b[43m        \u001b[49m\u001b[43mmetric_data\u001b[49m\u001b[38;5;241;43m=\u001b[39;49m\u001b[43mmetric_data\u001b[49m\n\u001b[0;32m     87\u001b[0m \u001b[43m    \u001b[49m\u001b[43m)\u001b[49m\n\u001b[0;32m     89\u001b[0m     deltas[split] \u001b[38;5;241m=\u001b[39m delta\n\u001b[0;32m     91\u001b[0m \u001b[38;5;28;01mif\u001b[39;00m \u001b[38;5;28mlen\u001b[39m(deltas) \u001b[38;5;241m==\u001b[39m \u001b[38;5;241m0\u001b[39m:\n",
      "File \u001b[1;32m~\\weighted_split_criteria\\src\\model\\weighted_decision_tree.py:116\u001b[0m, in \u001b[0;36mWeightedVotingMetric.compute_delta\u001b[1;34m(self, split, metric_data)\u001b[0m\n\u001b[0;32m    114\u001b[0m y_left \u001b[38;5;241m=\u001b[39m metric_data[split]\n\u001b[0;32m    115\u001b[0m y_right \u001b[38;5;241m=\u001b[39m metric_data[\u001b[38;5;241m~\u001b[39msplit]\n\u001b[1;32m--> 116\u001b[0m \u001b[38;5;28;01mreturn\u001b[39;00m \u001b[38;5;28mabs\u001b[39m(\u001b[38;5;28;43mself\u001b[39;49m\u001b[38;5;241;43m.\u001b[39;49m\u001b[43mevaluate\u001b[49m\u001b[43m(\u001b[49m\u001b[43my_left\u001b[49m\u001b[43m,\u001b[49m\u001b[43m \u001b[49m\u001b[43my_right\u001b[49m\u001b[43m,\u001b[49m\u001b[43m \u001b[49m\u001b[43msplit\u001b[49m\u001b[43m)\u001b[49m)\n",
      "File \u001b[1;32m~\\weighted_split_criteria\\src\\model\\weighted_decision_tree.py:88\u001b[0m, in \u001b[0;36mWeightedVotingMetric.evaluate\u001b[1;34m(self, y_left, y_right, split)\u001b[0m\n\u001b[0;32m     85\u001b[0m y_node \u001b[38;5;241m=\u001b[39m np\u001b[38;5;241m.\u001b[39mvstack((y_left, y_right))[:, \u001b[38;5;241m0\u001b[39m]\n\u001b[0;32m     87\u001b[0m \u001b[38;5;66;03m# به‌روزرسانی وزن‌ها با داده گره جاری\u001b[39;00m\n\u001b[1;32m---> 88\u001b[0m \u001b[38;5;28mself\u001b[39m\u001b[38;5;241m.\u001b[39mweights_dict \u001b[38;5;241m=\u001b[39m \u001b[38;5;28;43mself\u001b[39;49m\u001b[38;5;241;43m.\u001b[39;49m\u001b[43mupdate_weights_dynamic\u001b[49m\u001b[43m(\u001b[49m\u001b[43mX_node\u001b[49m\u001b[43m,\u001b[49m\u001b[43m \u001b[49m\u001b[43my_node\u001b[49m\u001b[43m)\u001b[49m\n\u001b[0;32m     90\u001b[0m scores \u001b[38;5;241m=\u001b[39m []\n\u001b[0;32m     91\u001b[0m \u001b[38;5;28;01mfor\u001b[39;00m name, func \u001b[38;5;129;01min\u001b[39;00m \u001b[38;5;28mself\u001b[39m\u001b[38;5;241m.\u001b[39mcriteria:\n",
      "File \u001b[1;32m~\\weighted_split_criteria\\src\\model\\weighted_decision_tree.py:74\u001b[0m, in \u001b[0;36mWeightedVotingMetric.update_weights_dynamic\u001b[1;34m(self, X_node, y_node)\u001b[0m\n\u001b[0;32m     72\u001b[0m fn_values \u001b[38;5;241m=\u001b[39m []\n\u001b[0;32m     73\u001b[0m \u001b[38;5;28;01mfor\u001b[39;00m name, _ \u001b[38;5;129;01min\u001b[39;00m \u001b[38;5;28mself\u001b[39m\u001b[38;5;241m.\u001b[39mcriteria:\n\u001b[1;32m---> 74\u001b[0m     fn \u001b[38;5;241m=\u001b[39m \u001b[38;5;28;43mself\u001b[39;49m\u001b[38;5;241;43m.\u001b[39;49m\u001b[43mestimate_fn_for_criterion\u001b[49m\u001b[43m(\u001b[49m\u001b[43mname\u001b[49m\u001b[43m,\u001b[49m\u001b[43m \u001b[49m\u001b[43mX_node\u001b[49m\u001b[43m,\u001b[49m\u001b[43m \u001b[49m\u001b[43my_node\u001b[49m\u001b[43m)\u001b[49m\n\u001b[0;32m     75\u001b[0m     fn_values\u001b[38;5;241m.\u001b[39mappend(fn)\n\u001b[0;32m     76\u001b[0m inv_fn \u001b[38;5;241m=\u001b[39m [\u001b[38;5;241m1.0\u001b[39m\u001b[38;5;241m/\u001b[39m(fn\u001b[38;5;241m+\u001b[39m\u001b[38;5;241m1e-6\u001b[39m) \u001b[38;5;28;01mfor\u001b[39;00m fn \u001b[38;5;129;01min\u001b[39;00m fn_values]  \u001b[38;5;66;03m# معکوس FN\u001b[39;00m\n",
      "File \u001b[1;32m~\\weighted_split_criteria\\src\\model\\weighted_decision_tree.py:63\u001b[0m, in \u001b[0;36mWeightedVotingMetric.estimate_fn_for_criterion\u001b[1;34m(self, name, X_node, y_node)\u001b[0m\n\u001b[0;32m     61\u001b[0m model \u001b[38;5;241m=\u001b[39m CustomDecisionTreeClassifier(max_depth\u001b[38;5;241m=\u001b[39m\u001b[38;5;241m3\u001b[39m, metric\u001b[38;5;241m=\u001b[39mmetric_obj)\n\u001b[0;32m     62\u001b[0m metric_data \u001b[38;5;241m=\u001b[39m y_node\u001b[38;5;241m.\u001b[39mreshape(\u001b[38;5;241m-\u001b[39m\u001b[38;5;241m1\u001b[39m, \u001b[38;5;241m1\u001b[39m)  \u001b[38;5;66;03m# حتماً اضافه کن این خط\u001b[39;00m\n\u001b[1;32m---> 63\u001b[0m \u001b[43mmodel\u001b[49m\u001b[38;5;241;43m.\u001b[39;49m\u001b[43mfit\u001b[49m\u001b[43m(\u001b[49m\u001b[43mX_node\u001b[49m\u001b[43m,\u001b[49m\u001b[43m \u001b[49m\u001b[43my_node\u001b[49m\u001b[43m,\u001b[49m\u001b[43m \u001b[49m\u001b[43mmetric_data\u001b[49m\u001b[43m)\u001b[49m  \u001b[38;5;66;03m# آرگومان سوم metric_data را اضافه کن\u001b[39;00m\n\u001b[0;32m     64\u001b[0m preds \u001b[38;5;241m=\u001b[39m model\u001b[38;5;241m.\u001b[39mpredict(X_node)\n\u001b[0;32m     66\u001b[0m fn_count \u001b[38;5;241m=\u001b[39m np\u001b[38;5;241m.\u001b[39msum((y_node \u001b[38;5;241m==\u001b[39m \u001b[38;5;241m1\u001b[39m) \u001b[38;5;241m&\u001b[39m (preds \u001b[38;5;241m==\u001b[39m \u001b[38;5;241m0\u001b[39m))\n",
      "File \u001b[1;32m~\\AppData\\Local\\Programs\\Python\\Python312\\Lib\\site-packages\\custom_tree_classifier\\models\\decision_tree.py:248\u001b[0m, in \u001b[0;36mCustomDecisionTreeClassifier.fit\u001b[1;34m(self, X, y, metric_data)\u001b[0m\n\u001b[0;32m    244\u001b[0m \u001b[38;5;28;01mif\u001b[39;00m np\u001b[38;5;241m.\u001b[39msum(partition[\u001b[38;5;124m\"\u001b[39m\u001b[38;5;124mrepartition\u001b[39m\u001b[38;5;124m\"\u001b[39m]) \u001b[38;5;241m<\u001b[39m \u001b[38;5;241m2\u001b[39m:\n\u001b[0;32m    245\u001b[0m     \u001b[38;5;28;01mcontinue\u001b[39;00m\n\u001b[0;32m    247\u001b[0m best_splits \u001b[38;5;241m=\u001b[39m \u001b[38;5;28mself\u001b[39m\u001b[38;5;241m.\u001b[39mget_best_split_by_var(\n\u001b[1;32m--> 248\u001b[0m     X\u001b[38;5;241m=\u001b[39m\u001b[43mX\u001b[49m\u001b[43m[\u001b[49m\u001b[43mpartition\u001b[49m\u001b[43m[\u001b[49m\u001b[38;5;124;43m\"\u001b[39;49m\u001b[38;5;124;43mmask\u001b[39;49m\u001b[38;5;124;43m\"\u001b[39;49m\u001b[43m]\u001b[49m\u001b[43m,\u001b[49m\u001b[43m \u001b[49m\u001b[43m:\u001b[49m\u001b[43m]\u001b[49m,\n\u001b[0;32m    249\u001b[0m     metric_data\u001b[38;5;241m=\u001b[39mmetric_data[partition[\u001b[38;5;124m\"\u001b[39m\u001b[38;5;124mmask\u001b[39m\u001b[38;5;124m\"\u001b[39m]]\n\u001b[0;32m    250\u001b[0m )\n\u001b[0;32m    252\u001b[0m \u001b[38;5;66;03m# Skip iteration if no valid split has been found\u001b[39;00m\n\u001b[0;32m    253\u001b[0m \u001b[38;5;28;01mif\u001b[39;00m \u001b[38;5;28mlen\u001b[39m(best_splits) \u001b[38;5;241m==\u001b[39m \u001b[38;5;241m0\u001b[39m:\n",
      "\u001b[1;31mIndexError\u001b[0m: boolean index did not match indexed array along axis 0; size of axis is 3 but size of corresponding boolean axis is 4"
     ]
    }
   ],
   "source": [
    "model.fit(X_small, y_small)\n",
    "print(\"مدل روی دیتاست کوچک آموزش داده شد\")\n"
   ]
  },
  {
   "cell_type": "code",
   "execution_count": 14,
   "id": "f230ce41-8f78-4f92-b140-47a41ea64f0e",
   "metadata": {},
   "outputs": [
    {
     "ename": "TypeError",
     "evalue": "array() missing required argument 'object' (pos 0)",
     "output_type": "error",
     "traceback": [
      "\u001b[1;31m---------------------------------------------------------------------------\u001b[0m",
      "\u001b[1;31mTypeError\u001b[0m                                 Traceback (most recent call last)",
      "Cell \u001b[1;32mIn[14], line 1\u001b[0m\n\u001b[1;32m----> 1\u001b[0m X_tiny \u001b[38;5;241m=\u001b[39m \u001b[43mnp\u001b[49m\u001b[38;5;241;43m.\u001b[39;49m\u001b[43marray\u001b[49m\u001b[43m(\u001b[49m\u001b[43m \u001b[49m\u001b[43m)\u001b[49m\n\u001b[0;32m      2\u001b[0m y_tiny \u001b[38;5;241m=\u001b[39m np\u001b[38;5;241m.\u001b[39marray([\u001b[38;5;241m0\u001b[39m, \u001b[38;5;241m1\u001b[39m])\n\u001b[0;32m      4\u001b[0m model \u001b[38;5;241m=\u001b[39m WeightedDecisionTreeModel(X_data\u001b[38;5;241m=\u001b[39mX_tiny)\n",
      "\u001b[1;31mTypeError\u001b[0m: array() missing required argument 'object' (pos 0)"
     ]
    }
   ],
   "source": [
    "X_tiny = np.array( )\n",
    "y_tiny = np.array([0, 1])\n",
    "\n",
    "model = WeightedDecisionTreeModel(X_data=X_tiny)\n",
    "model.fit(X_tiny, y_tiny)\n",
    "print(\"مدل روی دیتاست بسیار کوچک آموزش داده شد\")\n"
   ]
  },
  {
   "cell_type": "code",
   "execution_count": null,
   "id": "161e4176-3357-4d60-93b1-4e712c992b9d",
   "metadata": {},
   "outputs": [],
   "source": []
  }
 ],
 "metadata": {
  "kernelspec": {
   "display_name": "Python 3 (ipykernel)",
   "language": "python",
   "name": "python3"
  },
  "language_info": {
   "codemirror_mode": {
    "name": "ipython",
    "version": 3
   },
   "file_extension": ".py",
   "mimetype": "text/x-python",
   "name": "python",
   "nbconvert_exporter": "python",
   "pygments_lexer": "ipython3",
   "version": "3.12.0"
  }
 },
 "nbformat": 4,
 "nbformat_minor": 5
}
