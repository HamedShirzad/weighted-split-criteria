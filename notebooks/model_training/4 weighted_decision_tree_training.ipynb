{
 "cells": [
  {
   "cell_type": "code",
   "execution_count": 1,
   "id": "72d4f8bc-d886-43e5-8535-201dc808636b",
   "metadata": {},
   "outputs": [],
   "source": [
    "import pandas as pd\n",
    "import numpy as np"
   ]
  },
  {
   "cell_type": "code",
   "execution_count": 2,
   "id": "45ee6d73-5ad5-4554-ae51-b613860a4085",
   "metadata": {},
   "outputs": [],
   "source": [
    "dataset_path = r\"C:\\Users\\HsH-HsH\\weighted_split_criteria\\notebooks\\datasets\\customer_churn_data_preprocessed.csv\"\n"
   ]
  },
  {
   "cell_type": "code",
   "execution_count": 3,
   "id": "586b184e-e53a-4843-b59a-abd382062f17",
   "metadata": {},
   "outputs": [
    {
     "name": "stdout",
     "output_type": "stream",
     "text": [
      "Dataset loaded successfully.\n",
      "Shape of Features (X): (896, 7)\n",
      "Shape of Target (y): (896,)\n"
     ]
    }
   ],
   "source": [
    "import pandas as pd\n",
    "\n",
    "# مسیر مستقیم کامل دیتاست نسبت به ریشه پروژه\n",
    "dataset_path = r\"C:\\Users\\HsH-HsH\\weighted_split_criteria\\notebooks\\datasets\\customer_churn_data_preprocessed.csv\"\n",
    "\n",
    "# بارگذاری دیتاست با مسیر کامل\n",
    "df = pd.read_csv(dataset_path)\n",
    "\n",
    "# جداکردن ویژگی‌ها و برچسب هدف (فرضاً ستون هدف 'Churn' است)\n",
    "X = df.drop(columns=['Churn'])\n",
    "y = df['Churn']\n",
    "\n",
    "print(\"Dataset loaded successfully.\")\n",
    "print(f\"Shape of Features (X): {X.shape}\")\n",
    "print(f\"Shape of Target (y): {y.shape}\")\n"
   ]
  },
  {
   "cell_type": "code",
   "execution_count": 4,
   "id": "a5a72f95-32ae-41bb-91fb-9edf5823108c",
   "metadata": {},
   "outputs": [
    {
     "name": "stdout",
     "output_type": "stream",
     "text": [
      "Project root added to sys.path\n"
     ]
    }
   ],
   "source": [
    "import sys\n",
    "sys.path.insert(0, r\"C:\\Users\\HsH-HsH\\weighted_split_criteria\")\n",
    "print(\"Project root added to sys.path\")"
   ]
  },
  {
   "cell_type": "code",
   "execution_count": 5,
   "id": "903e998e-76ee-4011-89d4-48cb372d6359",
   "metadata": {},
   "outputs": [
    {
     "name": "stdin",
     "output_type": "stream",
     "text": [
      "Press Enter to exit \n"
     ]
    },
    {
     "name": "stdout",
     "output_type": "stream",
     "text": [
      "All criteria imported & criteria_list built successfully.\n"
     ]
    }
   ],
   "source": [
    "# ایمپورت تمام معیارها\n",
    "from src.criteria.bhy import BhattacharyyaCriterion\n",
    "from src.criteria.cs import ChiSquaredCriterion\n",
    "from src.criteria.dkm import DKMCriterion\n",
    "from src.criteria.gini import GiniCriterion\n",
    "from src.criteria.gs import GStatisticCriterion\n",
    "from src.criteria.ks import KolmogorovSmirnovCriterion\n",
    "from src.criteria.marsh import MarshallCriterion\n",
    "from src.criteria.mch import MultiClassHellingerCriterion\n",
    "from src.criteria.ng import NormalizedGainCriterion\n",
    "from src.criteria.qg import GainRatioCriterion\n",
    "from src.criteria.twoing import TwoingCriterion\n",
    "\n",
    "# ساخت لیست معیارها\n",
    "criteria_list = [\n",
    "    BhattacharyyaCriterion(),\n",
    "    ChiSquaredCriterion(),\n",
    "    DKMCriterion(),\n",
    "    GiniCriterion(),\n",
    "    GStatisticCriterion(),\n",
    "    KolmogorovSmirnovCriterion(),\n",
    "    MarshallCriterion(),\n",
    "    MultiClassHellingerCriterion(),\n",
    "    NormalizedGainCriterion(),\n",
    "    GainRatioCriterion(),\n",
    "    TwoingCriterion()\n",
    "]\n",
    "\n",
    "print(\"All criteria imported & criteria_list built successfully.\")\n"
   ]
  },
  {
   "cell_type": "code",
   "execution_count": 7,
   "id": "5cf26279-cd19-424d-881c-c8d1c38b82a5",
   "metadata": {},
   "outputs": [],
   "source": [
    "import sys\n",
    "sys.path.insert(0, r\"C:\\Users\\HsH-HsH\\weighted_split_criteria\")"
   ]
  },
  {
   "cell_type": "code",
   "execution_count": 8,
   "id": "c2d5fe7c-bd55-43e0-8648-b3f85f269bb1",
   "metadata": {},
   "outputs": [],
   "source": [
    "from src.model.weighted_decision_tree import WeightedDecisionTree"
   ]
  },
  {
   "cell_type": "code",
   "execution_count": 9,
   "id": "7067cd9e-b1fc-4772-8f43-5c4a3d099b57",
   "metadata": {},
   "outputs": [
    {
     "name": "stdout",
     "output_type": "stream",
     "text": [
      "Model created successfully.\n"
     ]
    }
   ],
   "source": [
    "from src.model.weighted_decision_tree import WeightedDecisionTree\n",
    "\n",
    "model = WeightedDecisionTree(criteria_list)\n",
    "print(\"Model created successfully.\")"
   ]
  },
  {
   "cell_type": "code",
   "execution_count": 10,
   "id": "b99c1e79-61a4-4946-b9f6-bfdbd2b1a5f0",
   "metadata": {},
   "outputs": [
    {
     "name": "stdout",
     "output_type": "stream",
     "text": [
      "True\n"
     ]
    }
   ],
   "source": [
    "print(hasattr(model, \"_false_negative\"))"
   ]
  },
  {
   "cell_type": "code",
   "execution_count": 12,
   "id": "3f174f02-b5cd-4bac-86da-ae00be1ffd20",
   "metadata": {},
   "outputs": [
    {
     "name": "stdout",
     "output_type": "stream",
     "text": [
      "Shape: (896, 7)\n",
      "Sample data:\n",
      " [[64.0 98 False True False False True]\n",
      " [35.0 118 False True False True False]\n",
      " [25.0 107 True False False False True]\n",
      " [39.0 90 False True False False True]\n",
      " [28.0 189 True False False True False]]\n"
     ]
    }
   ],
   "source": [
    "print(\"Shape:\", X.values.shape)\n",
    "print(\"Sample data:\\n\", X.values[:5])\n"
   ]
  },
  {
   "cell_type": "code",
   "execution_count": 13,
   "id": "141e66bd-ba55-4daa-8bba-cff83eff2435",
   "metadata": {},
   "outputs": [
    {
     "name": "stdout",
     "output_type": "stream",
     "text": [
      "Model training completed.\n"
     ]
    }
   ],
   "source": [
    "model.fit(X.values, y.values)\n",
    "print(\"Model training completed.\")"
   ]
  },
  {
   "cell_type": "code",
   "execution_count": 14,
   "id": "da807104-6f3b-4c7a-8263-384d861cfc7a",
   "metadata": {},
   "outputs": [
    {
     "ename": "NameError",
     "evalue": "name 'y_loaded' is not defined",
     "output_type": "error",
     "traceback": [
      "\u001b[1;31m---------------------------------------------------------------------------\u001b[0m",
      "\u001b[1;31mNameError\u001b[0m                                 Traceback (most recent call last)",
      "Cell \u001b[1;32mIn[14], line 3\u001b[0m\n\u001b[0;32m      1\u001b[0m \u001b[38;5;28;01mfrom\u001b[39;00m \u001b[38;5;21;01msklearn\u001b[39;00m\u001b[38;5;21;01m.\u001b[39;00m\u001b[38;5;21;01mmetrics\u001b[39;00m \u001b[38;5;28;01mimport\u001b[39;00m accuracy_score\n\u001b[1;32m----> 3\u001b[0m accuracy \u001b[38;5;241m=\u001b[39m accuracy_score(\u001b[43my_loaded\u001b[49m\u001b[38;5;241m.\u001b[39mvalues, predictions)\n\u001b[0;32m      4\u001b[0m \u001b[38;5;28mprint\u001b[39m(\u001b[38;5;124mf\u001b[39m\u001b[38;5;124m\"\u001b[39m\u001b[38;5;124mAccuracy: \u001b[39m\u001b[38;5;132;01m{\u001b[39;00maccuracy\u001b[38;5;132;01m:\u001b[39;00m\u001b[38;5;124m.4f\u001b[39m\u001b[38;5;132;01m}\u001b[39;00m\u001b[38;5;124m\"\u001b[39m)\n",
      "\u001b[1;31mNameError\u001b[0m: name 'y_loaded' is not defined"
     ]
    }
   ],
   "source": [
    "from sklearn.metrics import accuracy_score\n",
    "\n",
    "accuracy = accuracy_score(y_loaded.values, predictions)\n",
    "print(f\"Accuracy: {accuracy:.4f}\")"
   ]
  },
  {
   "cell_type": "code",
   "execution_count": null,
   "id": "0ba69bcd-278e-4143-a659-11afb7bde5d8",
   "metadata": {},
   "outputs": [],
   "source": []
  }
 ],
 "metadata": {
  "kernelspec": {
   "display_name": "Python 3 (ipykernel)",
   "language": "python",
   "name": "python3"
  },
  "language_info": {
   "codemirror_mode": {
    "name": "ipython",
    "version": 3
   },
   "file_extension": ".py",
   "mimetype": "text/x-python",
   "name": "python",
   "nbconvert_exporter": "python",
   "pygments_lexer": "ipython3",
   "version": "3.12.0"
  }
 },
 "nbformat": 4,
 "nbformat_minor": 5
}
