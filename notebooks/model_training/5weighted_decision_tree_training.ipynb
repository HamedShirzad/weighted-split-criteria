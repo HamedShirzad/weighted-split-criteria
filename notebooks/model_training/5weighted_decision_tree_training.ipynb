{
 "cells": [
  {
   "cell_type": "code",
   "execution_count": 1,
   "id": "c0579bdb-3e2a-4005-8a33-65e9844de269",
   "metadata": {},
   "outputs": [
    {
     "name": "stdout",
     "output_type": "stream",
     "text": [
      "کتابخانه‌ها با موفقیت وارد شدند.\n"
     ]
    }
   ],
   "source": [
    "# سلول 1: ایمپورت کتابخانه‌ها و تنظیمات پایه\n",
    "\n",
    "import numpy as np\n",
    "import pandas as pd\n",
    "import matplotlib.pyplot as plt\n",
    "import seaborn as sns\n",
    "\n",
    "# تنظیمات نمایشی برای نمودارها\n",
    "%matplotlib inline\n",
    "sns.set(style=\"whitegrid\")\n",
    "\n",
    "print(\"کتابخانه‌ها با موفقیت وارد شدند.\")\n"
   ]
  },
  {
   "cell_type": "code",
   "execution_count": 2,
   "id": "cb1101c8-49cf-4b42-91e1-aabff691e6f0",
   "metadata": {},
   "outputs": [
    {
     "name": "stdout",
     "output_type": "stream",
     "text": [
      "نمونه‌ای از داده‌ها:\n"
     ]
    },
    {
     "data": {
      "text/html": [
       "<div>\n",
       "<style scoped>\n",
       "    .dataframe tbody tr th:only-of-type {\n",
       "        vertical-align: middle;\n",
       "    }\n",
       "\n",
       "    .dataframe tbody tr th {\n",
       "        vertical-align: top;\n",
       "    }\n",
       "\n",
       "    .dataframe thead th {\n",
       "        text-align: right;\n",
       "    }\n",
       "</style>\n",
       "<table border=\"1\" class=\"dataframe\">\n",
       "  <thead>\n",
       "    <tr style=\"text-align: right;\">\n",
       "      <th></th>\n",
       "      <th>Age</th>\n",
       "      <th>LastTransaction</th>\n",
       "      <th>Churn</th>\n",
       "      <th>Gender_female</th>\n",
       "      <th>Gender_male</th>\n",
       "      <th>Payment Method_cash</th>\n",
       "      <th>Payment Method_cheque</th>\n",
       "      <th>Payment Method_credit card</th>\n",
       "    </tr>\n",
       "  </thead>\n",
       "  <tbody>\n",
       "    <tr>\n",
       "      <th>0</th>\n",
       "      <td>64.0</td>\n",
       "      <td>98</td>\n",
       "      <td>1</td>\n",
       "      <td>False</td>\n",
       "      <td>True</td>\n",
       "      <td>False</td>\n",
       "      <td>False</td>\n",
       "      <td>True</td>\n",
       "    </tr>\n",
       "    <tr>\n",
       "      <th>1</th>\n",
       "      <td>35.0</td>\n",
       "      <td>118</td>\n",
       "      <td>0</td>\n",
       "      <td>False</td>\n",
       "      <td>True</td>\n",
       "      <td>False</td>\n",
       "      <td>True</td>\n",
       "      <td>False</td>\n",
       "    </tr>\n",
       "    <tr>\n",
       "      <th>2</th>\n",
       "      <td>25.0</td>\n",
       "      <td>107</td>\n",
       "      <td>1</td>\n",
       "      <td>True</td>\n",
       "      <td>False</td>\n",
       "      <td>False</td>\n",
       "      <td>False</td>\n",
       "      <td>True</td>\n",
       "    </tr>\n",
       "    <tr>\n",
       "      <th>3</th>\n",
       "      <td>39.0</td>\n",
       "      <td>90</td>\n",
       "      <td>1</td>\n",
       "      <td>False</td>\n",
       "      <td>True</td>\n",
       "      <td>False</td>\n",
       "      <td>False</td>\n",
       "      <td>True</td>\n",
       "    </tr>\n",
       "    <tr>\n",
       "      <th>4</th>\n",
       "      <td>28.0</td>\n",
       "      <td>189</td>\n",
       "      <td>0</td>\n",
       "      <td>True</td>\n",
       "      <td>False</td>\n",
       "      <td>False</td>\n",
       "      <td>True</td>\n",
       "      <td>False</td>\n",
       "    </tr>\n",
       "  </tbody>\n",
       "</table>\n",
       "</div>"
      ],
      "text/plain": [
       "    Age  LastTransaction  Churn  Gender_female  Gender_male  \\\n",
       "0  64.0               98      1          False         True   \n",
       "1  35.0              118      0          False         True   \n",
       "2  25.0              107      1           True        False   \n",
       "3  39.0               90      1          False         True   \n",
       "4  28.0              189      0           True        False   \n",
       "\n",
       "   Payment Method_cash  Payment Method_cheque  Payment Method_credit card  \n",
       "0                False                  False                        True  \n",
       "1                False                   True                       False  \n",
       "2                False                  False                        True  \n",
       "3                False                  False                        True  \n",
       "4                False                   True                       False  "
      ]
     },
     "metadata": {},
     "output_type": "display_data"
    },
    {
     "name": "stdout",
     "output_type": "stream",
     "text": [
      "\n",
      "اطلاعات کلی دیتاست:\n",
      "<class 'pandas.core.frame.DataFrame'>\n",
      "RangeIndex: 896 entries, 0 to 895\n",
      "Data columns (total 8 columns):\n",
      " #   Column                      Non-Null Count  Dtype  \n",
      "---  ------                      --------------  -----  \n",
      " 0   Age                         896 non-null    float64\n",
      " 1   LastTransaction             896 non-null    int64  \n",
      " 2   Churn                       896 non-null    int64  \n",
      " 3   Gender_female               896 non-null    bool   \n",
      " 4   Gender_male                 896 non-null    bool   \n",
      " 5   Payment Method_cash         896 non-null    bool   \n",
      " 6   Payment Method_cheque       896 non-null    bool   \n",
      " 7   Payment Method_credit card  896 non-null    bool   \n",
      "dtypes: bool(5), float64(1), int64(2)\n",
      "memory usage: 25.5 KB\n",
      "\n",
      "آمار توصیفی دیتاست:\n"
     ]
    },
    {
     "data": {
      "text/html": [
       "<div>\n",
       "<style scoped>\n",
       "    .dataframe tbody tr th:only-of-type {\n",
       "        vertical-align: middle;\n",
       "    }\n",
       "\n",
       "    .dataframe tbody tr th {\n",
       "        vertical-align: top;\n",
       "    }\n",
       "\n",
       "    .dataframe thead th {\n",
       "        text-align: right;\n",
       "    }\n",
       "</style>\n",
       "<table border=\"1\" class=\"dataframe\">\n",
       "  <thead>\n",
       "    <tr style=\"text-align: right;\">\n",
       "      <th></th>\n",
       "      <th>Age</th>\n",
       "      <th>LastTransaction</th>\n",
       "      <th>Churn</th>\n",
       "    </tr>\n",
       "  </thead>\n",
       "  <tbody>\n",
       "    <tr>\n",
       "      <th>count</th>\n",
       "      <td>896.000000</td>\n",
       "      <td>896.000000</td>\n",
       "      <td>896.000000</td>\n",
       "    </tr>\n",
       "    <tr>\n",
       "      <th>mean</th>\n",
       "      <td>45.532366</td>\n",
       "      <td>110.754464</td>\n",
       "      <td>0.642857</td>\n",
       "    </tr>\n",
       "    <tr>\n",
       "      <th>std</th>\n",
       "      <td>18.905619</td>\n",
       "      <td>44.759793</td>\n",
       "      <td>0.479425</td>\n",
       "    </tr>\n",
       "    <tr>\n",
       "      <th>min</th>\n",
       "      <td>17.000000</td>\n",
       "      <td>1.000000</td>\n",
       "      <td>0.000000</td>\n",
       "    </tr>\n",
       "    <tr>\n",
       "      <th>25%</th>\n",
       "      <td>30.000000</td>\n",
       "      <td>77.000000</td>\n",
       "      <td>0.000000</td>\n",
       "    </tr>\n",
       "    <tr>\n",
       "      <th>50%</th>\n",
       "      <td>43.000000</td>\n",
       "      <td>110.000000</td>\n",
       "      <td>1.000000</td>\n",
       "    </tr>\n",
       "    <tr>\n",
       "      <th>75%</th>\n",
       "      <td>58.000000</td>\n",
       "      <td>143.000000</td>\n",
       "      <td>1.000000</td>\n",
       "    </tr>\n",
       "    <tr>\n",
       "      <th>max</th>\n",
       "      <td>91.000000</td>\n",
       "      <td>223.000000</td>\n",
       "      <td>1.000000</td>\n",
       "    </tr>\n",
       "  </tbody>\n",
       "</table>\n",
       "</div>"
      ],
      "text/plain": [
       "              Age  LastTransaction       Churn\n",
       "count  896.000000       896.000000  896.000000\n",
       "mean    45.532366       110.754464    0.642857\n",
       "std     18.905619        44.759793    0.479425\n",
       "min     17.000000         1.000000    0.000000\n",
       "25%     30.000000        77.000000    0.000000\n",
       "50%     43.000000       110.000000    1.000000\n",
       "75%     58.000000       143.000000    1.000000\n",
       "max     91.000000       223.000000    1.000000"
      ]
     },
     "metadata": {},
     "output_type": "display_data"
    }
   ],
   "source": [
    "# سلول 2 (اصلاح شده): بارگذاری دیتاست و نمایش اطلاعات اولیه\n",
    "\n",
    "# مسیر کامل فایل دیتاست کوچک\n",
    "dataset_path = \"C:/Users/HsH-HsH/weighted_split_criteria/notebooks/datasets/customer_churn_data_preprocessed.csv\"\n",
    "\n",
    "# بارگذاری دیتاست با pandas\n",
    "df = pd.read_csv(dataset_path)\n",
    "\n",
    "# نمایش پنج سطر اول دیتاست\n",
    "print(\"نمونه‌ای از داده‌ها:\")\n",
    "display(df.head())\n",
    "\n",
    "# نمایش خلاصه‌ای از اطلاعات دیتاست\n",
    "print(\"\\nاطلاعات کلی دیتاست:\")\n",
    "df.info()\n",
    "\n",
    "# نمایش آمار توصیفی خلاصه (میانگین، انحراف معیار و...)\n",
    "print(\"\\nآمار توصیفی دیتاست:\")\n",
    "display(df.describe())\n"
   ]
  },
  {
   "cell_type": "code",
   "execution_count": 3,
   "id": "920aac5a-83d4-438e-a532-39744e72f48b",
   "metadata": {},
   "outputs": [
    {
     "ename": "KeyError",
     "evalue": "\"['target'] not found in axis\"",
     "output_type": "error",
     "traceback": [
      "\u001b[1;31m---------------------------------------------------------------------------\u001b[0m",
      "\u001b[1;31mKeyError\u001b[0m                                  Traceback (most recent call last)",
      "Cell \u001b[1;32mIn[3], line 4\u001b[0m\n\u001b[0;32m      1\u001b[0m \u001b[38;5;66;03m# سلول 3: جدا کردن ویژگی‌ها و متغیر هدف برای آموزش مدل\u001b[39;00m\n\u001b[0;32m      2\u001b[0m \n\u001b[0;32m      3\u001b[0m \u001b[38;5;66;03m# فرض می‌کنیم ستون target، متغیر هدف (برچسب) است\u001b[39;00m\n\u001b[1;32m----> 4\u001b[0m X \u001b[38;5;241m=\u001b[39m \u001b[43mdf\u001b[49m\u001b[38;5;241;43m.\u001b[39;49m\u001b[43mdrop\u001b[49m\u001b[43m(\u001b[49m\u001b[38;5;124;43m\"\u001b[39;49m\u001b[38;5;124;43mtarget\u001b[39;49m\u001b[38;5;124;43m\"\u001b[39;49m\u001b[43m,\u001b[49m\u001b[43m \u001b[49m\u001b[43maxis\u001b[49m\u001b[38;5;241;43m=\u001b[39;49m\u001b[38;5;241;43m1\u001b[39;49m\u001b[43m)\u001b[49m  \u001b[38;5;66;03m# ویژگی‌ها (عواملی که با آن پیش‌بینی می‌کنیم)\u001b[39;00m\n\u001b[0;32m      5\u001b[0m y \u001b[38;5;241m=\u001b[39m df[\u001b[38;5;124m\"\u001b[39m\u001b[38;5;124mtarget\u001b[39m\u001b[38;5;124m\"\u001b[39m]               \u001b[38;5;66;03m# متغیر هدف (0 یا 1)\u001b[39;00m\n\u001b[0;32m      7\u001b[0m \u001b[38;5;28mprint\u001b[39m(\u001b[38;5;124m\"\u001b[39m\u001b[38;5;124mشکل داده ورودی مدل (X):\u001b[39m\u001b[38;5;124m\"\u001b[39m, X\u001b[38;5;241m.\u001b[39mshape)\n",
      "File \u001b[1;32m~\\AppData\\Local\\Programs\\Python\\Python312\\Lib\\site-packages\\pandas\\core\\frame.py:5581\u001b[0m, in \u001b[0;36mDataFrame.drop\u001b[1;34m(self, labels, axis, index, columns, level, inplace, errors)\u001b[0m\n\u001b[0;32m   5433\u001b[0m \u001b[38;5;28;01mdef\u001b[39;00m \u001b[38;5;21mdrop\u001b[39m(\n\u001b[0;32m   5434\u001b[0m     \u001b[38;5;28mself\u001b[39m,\n\u001b[0;32m   5435\u001b[0m     labels: IndexLabel \u001b[38;5;241m|\u001b[39m \u001b[38;5;28;01mNone\u001b[39;00m \u001b[38;5;241m=\u001b[39m \u001b[38;5;28;01mNone\u001b[39;00m,\n\u001b[1;32m   (...)\u001b[0m\n\u001b[0;32m   5442\u001b[0m     errors: IgnoreRaise \u001b[38;5;241m=\u001b[39m \u001b[38;5;124m\"\u001b[39m\u001b[38;5;124mraise\u001b[39m\u001b[38;5;124m\"\u001b[39m,\n\u001b[0;32m   5443\u001b[0m ) \u001b[38;5;241m-\u001b[39m\u001b[38;5;241m>\u001b[39m DataFrame \u001b[38;5;241m|\u001b[39m \u001b[38;5;28;01mNone\u001b[39;00m:\n\u001b[0;32m   5444\u001b[0m \u001b[38;5;250m    \u001b[39m\u001b[38;5;124;03m\"\"\"\u001b[39;00m\n\u001b[0;32m   5445\u001b[0m \u001b[38;5;124;03m    Drop specified labels from rows or columns.\u001b[39;00m\n\u001b[0;32m   5446\u001b[0m \n\u001b[1;32m   (...)\u001b[0m\n\u001b[0;32m   5579\u001b[0m \u001b[38;5;124;03m            weight  1.0     0.8\u001b[39;00m\n\u001b[0;32m   5580\u001b[0m \u001b[38;5;124;03m    \"\"\"\u001b[39;00m\n\u001b[1;32m-> 5581\u001b[0m     \u001b[38;5;28;01mreturn\u001b[39;00m \u001b[38;5;28;43msuper\u001b[39;49m\u001b[43m(\u001b[49m\u001b[43m)\u001b[49m\u001b[38;5;241;43m.\u001b[39;49m\u001b[43mdrop\u001b[49m\u001b[43m(\u001b[49m\n\u001b[0;32m   5582\u001b[0m \u001b[43m        \u001b[49m\u001b[43mlabels\u001b[49m\u001b[38;5;241;43m=\u001b[39;49m\u001b[43mlabels\u001b[49m\u001b[43m,\u001b[49m\n\u001b[0;32m   5583\u001b[0m \u001b[43m        \u001b[49m\u001b[43maxis\u001b[49m\u001b[38;5;241;43m=\u001b[39;49m\u001b[43maxis\u001b[49m\u001b[43m,\u001b[49m\n\u001b[0;32m   5584\u001b[0m \u001b[43m        \u001b[49m\u001b[43mindex\u001b[49m\u001b[38;5;241;43m=\u001b[39;49m\u001b[43mindex\u001b[49m\u001b[43m,\u001b[49m\n\u001b[0;32m   5585\u001b[0m \u001b[43m        \u001b[49m\u001b[43mcolumns\u001b[49m\u001b[38;5;241;43m=\u001b[39;49m\u001b[43mcolumns\u001b[49m\u001b[43m,\u001b[49m\n\u001b[0;32m   5586\u001b[0m \u001b[43m        \u001b[49m\u001b[43mlevel\u001b[49m\u001b[38;5;241;43m=\u001b[39;49m\u001b[43mlevel\u001b[49m\u001b[43m,\u001b[49m\n\u001b[0;32m   5587\u001b[0m \u001b[43m        \u001b[49m\u001b[43minplace\u001b[49m\u001b[38;5;241;43m=\u001b[39;49m\u001b[43minplace\u001b[49m\u001b[43m,\u001b[49m\n\u001b[0;32m   5588\u001b[0m \u001b[43m        \u001b[49m\u001b[43merrors\u001b[49m\u001b[38;5;241;43m=\u001b[39;49m\u001b[43merrors\u001b[49m\u001b[43m,\u001b[49m\n\u001b[0;32m   5589\u001b[0m \u001b[43m    \u001b[49m\u001b[43m)\u001b[49m\n",
      "File \u001b[1;32m~\\AppData\\Local\\Programs\\Python\\Python312\\Lib\\site-packages\\pandas\\core\\generic.py:4788\u001b[0m, in \u001b[0;36mNDFrame.drop\u001b[1;34m(self, labels, axis, index, columns, level, inplace, errors)\u001b[0m\n\u001b[0;32m   4786\u001b[0m \u001b[38;5;28;01mfor\u001b[39;00m axis, labels \u001b[38;5;129;01min\u001b[39;00m axes\u001b[38;5;241m.\u001b[39mitems():\n\u001b[0;32m   4787\u001b[0m     \u001b[38;5;28;01mif\u001b[39;00m labels \u001b[38;5;129;01mis\u001b[39;00m \u001b[38;5;129;01mnot\u001b[39;00m \u001b[38;5;28;01mNone\u001b[39;00m:\n\u001b[1;32m-> 4788\u001b[0m         obj \u001b[38;5;241m=\u001b[39m \u001b[43mobj\u001b[49m\u001b[38;5;241;43m.\u001b[39;49m\u001b[43m_drop_axis\u001b[49m\u001b[43m(\u001b[49m\u001b[43mlabels\u001b[49m\u001b[43m,\u001b[49m\u001b[43m \u001b[49m\u001b[43maxis\u001b[49m\u001b[43m,\u001b[49m\u001b[43m \u001b[49m\u001b[43mlevel\u001b[49m\u001b[38;5;241;43m=\u001b[39;49m\u001b[43mlevel\u001b[49m\u001b[43m,\u001b[49m\u001b[43m \u001b[49m\u001b[43merrors\u001b[49m\u001b[38;5;241;43m=\u001b[39;49m\u001b[43merrors\u001b[49m\u001b[43m)\u001b[49m\n\u001b[0;32m   4790\u001b[0m \u001b[38;5;28;01mif\u001b[39;00m inplace:\n\u001b[0;32m   4791\u001b[0m     \u001b[38;5;28mself\u001b[39m\u001b[38;5;241m.\u001b[39m_update_inplace(obj)\n",
      "File \u001b[1;32m~\\AppData\\Local\\Programs\\Python\\Python312\\Lib\\site-packages\\pandas\\core\\generic.py:4830\u001b[0m, in \u001b[0;36mNDFrame._drop_axis\u001b[1;34m(self, labels, axis, level, errors, only_slice)\u001b[0m\n\u001b[0;32m   4828\u001b[0m         new_axis \u001b[38;5;241m=\u001b[39m axis\u001b[38;5;241m.\u001b[39mdrop(labels, level\u001b[38;5;241m=\u001b[39mlevel, errors\u001b[38;5;241m=\u001b[39merrors)\n\u001b[0;32m   4829\u001b[0m     \u001b[38;5;28;01melse\u001b[39;00m:\n\u001b[1;32m-> 4830\u001b[0m         new_axis \u001b[38;5;241m=\u001b[39m \u001b[43maxis\u001b[49m\u001b[38;5;241;43m.\u001b[39;49m\u001b[43mdrop\u001b[49m\u001b[43m(\u001b[49m\u001b[43mlabels\u001b[49m\u001b[43m,\u001b[49m\u001b[43m \u001b[49m\u001b[43merrors\u001b[49m\u001b[38;5;241;43m=\u001b[39;49m\u001b[43merrors\u001b[49m\u001b[43m)\u001b[49m\n\u001b[0;32m   4831\u001b[0m     indexer \u001b[38;5;241m=\u001b[39m axis\u001b[38;5;241m.\u001b[39mget_indexer(new_axis)\n\u001b[0;32m   4833\u001b[0m \u001b[38;5;66;03m# Case for non-unique axis\u001b[39;00m\n\u001b[0;32m   4834\u001b[0m \u001b[38;5;28;01melse\u001b[39;00m:\n",
      "File \u001b[1;32m~\\AppData\\Local\\Programs\\Python\\Python312\\Lib\\site-packages\\pandas\\core\\indexes\\base.py:7070\u001b[0m, in \u001b[0;36mIndex.drop\u001b[1;34m(self, labels, errors)\u001b[0m\n\u001b[0;32m   7068\u001b[0m \u001b[38;5;28;01mif\u001b[39;00m mask\u001b[38;5;241m.\u001b[39many():\n\u001b[0;32m   7069\u001b[0m     \u001b[38;5;28;01mif\u001b[39;00m errors \u001b[38;5;241m!=\u001b[39m \u001b[38;5;124m\"\u001b[39m\u001b[38;5;124mignore\u001b[39m\u001b[38;5;124m\"\u001b[39m:\n\u001b[1;32m-> 7070\u001b[0m         \u001b[38;5;28;01mraise\u001b[39;00m \u001b[38;5;167;01mKeyError\u001b[39;00m(\u001b[38;5;124mf\u001b[39m\u001b[38;5;124m\"\u001b[39m\u001b[38;5;132;01m{\u001b[39;00mlabels[mask]\u001b[38;5;241m.\u001b[39mtolist()\u001b[38;5;132;01m}\u001b[39;00m\u001b[38;5;124m not found in axis\u001b[39m\u001b[38;5;124m\"\u001b[39m)\n\u001b[0;32m   7071\u001b[0m     indexer \u001b[38;5;241m=\u001b[39m indexer[\u001b[38;5;241m~\u001b[39mmask]\n\u001b[0;32m   7072\u001b[0m \u001b[38;5;28;01mreturn\u001b[39;00m \u001b[38;5;28mself\u001b[39m\u001b[38;5;241m.\u001b[39mdelete(indexer)\n",
      "\u001b[1;31mKeyError\u001b[0m: \"['target'] not found in axis\""
     ]
    }
   ],
   "source": [
    "# سلول 3: جدا کردن ویژگی‌ها و متغیر هدف برای آموزش مدل\n",
    "\n",
    "# فرض می‌کنیم ستون target، متغیر هدف (برچسب) است\n",
    "X = df.drop(\"ch\", axis=1)  # ویژگی‌ها (عواملی که با آن پیش‌بینی می‌کنیم)\n",
    "y = df[\"target\"]               # متغیر هدف (0 یا 1)\n",
    "\n",
    "print(\"شکل داده ورودی مدل (X):\", X.shape)\n",
    "print(\"شکل برچسب‌ها (y):\", y.shape)\n",
    "display(X.head())  # نمایش نمونه‌ای از داده‌های ویژگی\n",
    "display(y.head())  # نمایش نمونه‌ای از برچسب‌ها\n"
   ]
  },
  {
   "cell_type": "code",
   "execution_count": 6,
   "id": "f6a395a3-071c-4954-937b-5668ae38b1e3",
   "metadata": {},
   "outputs": [
    {
     "name": "stdout",
     "output_type": "stream",
     "text": [
      "پوشه src به sys.path اضافه شد.\n"
     ]
    }
   ],
   "source": [
    "import sys\n",
    "sys.path.insert(0, r\"C:\\Users\\HsH-HsH\\weighted_split_criteria\\src\")\n",
    "print(\"پوشه src به sys.path اضافه شد.\")\n"
   ]
  },
  {
   "cell_type": "code",
   "execution_count": 7,
   "id": "582795f1-54e2-4e0e-a4ef-ec5d8a2fcb59",
   "metadata": {},
   "outputs": [
    {
     "name": "stdout",
     "output_type": "stream",
     "text": [
      "دیتاست با موفقیت بارگذاری و آماده‌سازی شد.\n",
      "تعداد نمونه‌ها: 20, تعداد ویژگی‌ها: 4\n"
     ]
    }
   ],
   "source": [
    "import pandas as pd\n",
    "\n",
    "# مسیر فایل دیتاست\n",
    "dataset_path = r\"C:\\Users\\HsH-HsH\\weighted_split_criteria\\notebooks\\datasets\\small_dataset.csv\"\n",
    "\n",
    "# بارگذاری دیتاست\n",
    "df = pd.read_csv(dataset_path)\n",
    "\n",
    "# جدا کردن ویژگی‌ها و برچسب‌ها (فرض ستون 'target' برچسب است)\n",
    "X = df.drop(columns=['target']).values\n",
    "y = df['target'].values\n",
    "\n",
    "print(\"دیتاست با موفقیت بارگذاری و آماده‌سازی شد.\")\n",
    "print(f\"تعداد نمونه‌ها: {X.shape[0]}, تعداد ویژگی‌ها: {X.shape[1]}\")\n"
   ]
  },
  {
   "cell_type": "code",
   "execution_count": 8,
   "id": "9d319e41-0926-45a5-ba1a-87799fb78bb8",
   "metadata": {},
   "outputs": [
    {
     "name": "stdout",
     "output_type": "stream",
     "text": [
      "معیارها و وزن‌ها تعریف شدند.\n"
     ]
    }
   ],
   "source": [
    "from criteria.gini import gini_criterion\n",
    "from criteria.qg import gain_ratio_criterion\n",
    "from criteria.twoing import twoing_criterion\n",
    "from criteria.ng import normalized_gain_criterion\n",
    "from criteria.mch import multi_class_hellinger\n",
    "from criteria.marsh import marsh_criterion\n",
    "from criteria.gs import g_statistic_criterion\n",
    "from criteria.dkm import dkm_criterion\n",
    "from criteria.cs import chi_squared_criterion\n",
    "from criteria.bhy import bhattacharyya_criterion\n",
    "from criteria.ks import kolmogorov_smirnov_criterion\n",
    "\n",
    "criteria_with_weights = [\n",
    "    (\"gini\", gini_criterion, 0.15),\n",
    "    (\"gain_ratio\", gain_ratio_criterion, 0.15),\n",
    "    (\"twoing\", twoing_criterion, 0.10),\n",
    "    (\"normalized_gain\", normalized_gain_criterion, 0.10),\n",
    "    (\"multi_class_hellinger\", multi_class_hellinger, 0.10),\n",
    "    (\"marshall\", marsh_criterion, 0.05),\n",
    "    (\"g_statistic\", g_statistic_criterion, 0.05),\n",
    "    (\"dkm\", dkm_criterion, 0.10),\n",
    "    (\"chi_squared\", chi_squared_criterion, 0.05),\n",
    "    (\"bhattacharyya\", bhattacharyya_criterion, 0.10),\n",
    "    (\"kolmogorov_smirnov\", kolmogorov_smirnov_criterion, 0.05),\n",
    "]\n",
    "\n",
    "print(\"معیارها و وزن‌ها تعریف شدند.\")\n"
   ]
  },
  {
   "cell_type": "code",
   "execution_count": 9,
   "id": "cccd3b78-93f3-46ca-94ed-9635259a94ec",
   "metadata": {},
   "outputs": [
    {
     "name": "stdout",
     "output_type": "stream",
     "text": [
      "پوشه model به sys.path اضافه شد.\n"
     ]
    }
   ],
   "source": [
    "import sys\n",
    "sys.path.insert(0, r\"C:\\Users\\HsH-HsH\\weighted_split_criteria\\src\\model\")\n",
    "print(\"پوشه model به sys.path اضافه شد.\")\n"
   ]
  },
  {
   "cell_type": "code",
   "execution_count": 13,
   "id": "957e4366-c52c-424a-a157-0b6dc124dd99",
   "metadata": {},
   "outputs": [],
   "source": [
    "from weighted_decision_tree import WeightedDecisionTreeModel\n"
   ]
  },
  {
   "cell_type": "code",
   "execution_count": 9,
   "id": "54e10df7-18a1-471d-9292-97e1e418c149",
   "metadata": {},
   "outputs": [],
   "source": [
    "model = WeightedDecisionTreeModel(criteria_with_weights, positive_label=1, max_depth=5)\n"
   ]
  },
  {
   "cell_type": "code",
   "execution_count": 15,
   "id": "df5c7cdf-5748-4f36-b69e-e8b9d7155968",
   "metadata": {},
   "outputs": [
    {
     "ename": "NameError",
     "evalue": "name 'model' is not defined",
     "output_type": "error",
     "traceback": [
      "\u001b[1;31m---------------------------------------------------------------------------\u001b[0m",
      "\u001b[1;31mNameError\u001b[0m                                 Traceback (most recent call last)",
      "Cell \u001b[1;32mIn[15], line 1\u001b[0m\n\u001b[1;32m----> 1\u001b[0m \u001b[43mmodel\u001b[49m\u001b[38;5;241m.\u001b[39mfit(X, y)\n",
      "\u001b[1;31mNameError\u001b[0m: name 'model' is not defined"
     ]
    }
   ],
   "source": [
    "model.fit(X, y)"
   ]
  },
  {
   "cell_type": "code",
   "execution_count": 13,
   "id": "2b5940a6-ff5a-441d-bbef-315f9767eae9",
   "metadata": {},
   "outputs": [
    {
     "name": "stdout",
     "output_type": "stream",
     "text": [
      "احتمالات کلاس‌ها:\n",
      "[[0.55 0.45]\n",
      " [0.55 0.45]\n",
      " [0.55 0.45]\n",
      " [0.55 0.45]\n",
      " [0.55 0.45]\n",
      " [0.55 0.45]\n",
      " [0.55 0.45]\n",
      " [0.55 0.45]\n",
      " [0.55 0.45]\n",
      " [0.55 0.45]\n",
      " [0.55 0.45]\n",
      " [0.55 0.45]\n",
      " [0.55 0.45]\n",
      " [0.55 0.45]\n",
      " [0.55 0.45]\n",
      " [0.55 0.45]\n",
      " [0.55 0.45]\n",
      " [0.55 0.45]\n",
      " [0.55 0.45]\n",
      " [0.55 0.45]]\n"
     ]
    }
   ],
   "source": [
    "probabilities = model.predict_proba(X)\n",
    "print(\"احتمالات کلاس‌ها:\")\n",
    "print(probabilities)\n"
   ]
  },
  {
   "cell_type": "code",
   "execution_count": 14,
   "id": "0007e03e-535a-46d3-b112-c27ce8397772",
   "metadata": {},
   "outputs": [
    {
     "name": "stdout",
     "output_type": "stream",
     "text": [
      "برچسب‌های پیش‌بینی شده:\n",
      "[0 0 0 0 0 0 0 0 0 0 0 0 0 0 0 0 0 0 0 0]\n"
     ]
    }
   ],
   "source": [
    "predictions = probabilities.argmax(axis=1)\n",
    "print(\"برچسب‌های پیش‌بینی شده:\")\n",
    "print(predictions)\n"
   ]
  },
  {
   "cell_type": "code",
   "execution_count": 15,
   "id": "48118ef0-0e5a-444b-8346-e8b23bb4f713",
   "metadata": {},
   "outputs": [
    {
     "name": "stdout",
     "output_type": "stream",
     "text": [
      "دقت مدل: 0.5500\n"
     ]
    }
   ],
   "source": [
    "from sklearn.metrics import accuracy_score\n",
    "\n",
    "accuracy = accuracy_score(y, predictions)\n",
    "print(f\"دقت مدل: {accuracy:.4f}\")\n"
   ]
  }
 ],
 "metadata": {
  "kernelspec": {
   "display_name": "Python 3 (ipykernel)",
   "language": "python",
   "name": "python3"
  },
  "language_info": {
   "codemirror_mode": {
    "name": "ipython",
    "version": 3
   },
   "file_extension": ".py",
   "mimetype": "text/x-python",
   "name": "python",
   "nbconvert_exporter": "python",
   "pygments_lexer": "ipython3",
   "version": "3.12.0"
  }
 },
 "nbformat": 4,
 "nbformat_minor": 5
}
