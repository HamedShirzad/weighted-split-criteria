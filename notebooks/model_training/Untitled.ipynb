{
 "cells": [
  {
   "cell_type": "code",
   "execution_count": 1,
   "id": "1bc96401-2e3c-42f0-b2d6-b14ff23718c4",
   "metadata": {},
   "outputs": [],
   "source": [
    "from sklearn.tree import DecisionTreeClassifier\n",
    "from sklearn.metrics import accuracy_score\n",
    "from sklearn.model_selection import train_test_split\n",
    "import time\n"
   ]
  },
  {
   "cell_type": "code",
   "execution_count": 2,
   "id": "068e3f8a-3e90-42f7-ab23-2603d5259d7d",
   "metadata": {},
   "outputs": [
    {
     "name": "stdout",
     "output_type": "stream",
     "text": [
      "    Age  LastTransaction  Churn  Gender_female  Gender_male  \\\n",
      "0  64.0               98      1          False         True   \n",
      "1  35.0              118      0          False         True   \n",
      "2  25.0              107      1           True        False   \n",
      "3  39.0               90      1          False         True   \n",
      "4  28.0              189      0           True        False   \n",
      "\n",
      "   Payment Method_cash  Payment Method_cheque  Payment Method_credit card  \n",
      "0                False                  False                        True  \n",
      "1                False                   True                       False  \n",
      "2                False                  False                        True  \n",
      "3                False                  False                        True  \n",
      "4                False                   True                       False  \n"
     ]
    }
   ],
   "source": [
    "import pandas as pd\n",
    "\n",
    "# بارگذاری دیتاست با مسیر کامل ویندوز\n",
    "file_path = r'C:\\Users\\HsH-HsH\\weighted_split_criteria\\notebooks\\datasets\\customer_churn_data_preprocessed.csv'\n",
    "df = pd.read_csv(file_path)\n",
    "\n",
    "# نمایش چند ردیف اول برای اطمینان\n",
    "print(df.head())\n"
   ]
  },
  {
   "cell_type": "code",
   "execution_count": 3,
   "id": "b14e6fa0-67bd-4e3d-956d-2ee757084fcc",
   "metadata": {},
   "outputs": [
    {
     "name": "stdout",
     "output_type": "stream",
     "text": [
      "اندازه X: (896, 7)\n",
      "اندازه y: (896,)\n"
     ]
    }
   ],
   "source": [
    "# تعیین بردار هدف\n",
    "y = df['Churn'].values\n",
    "\n",
    "# حذف ستون هدف از داده‌ها برای به دست آوردن X\n",
    "X = df.drop(columns=['Churn'])\n",
    "\n",
    "# نمایش اندازه‌ها برای اطمینان\n",
    "print(\"اندازه X:\", X.shape)\n",
    "print(\"اندازه y:\", y.shape)\n"
   ]
  },
  {
   "cell_type": "code",
   "execution_count": 4,
   "id": "5e7cdc43-d79a-4982-b3b6-4e5cd2b341b9",
   "metadata": {},
   "outputs": [
    {
     "name": "stdout",
     "output_type": "stream",
     "text": [
      "حجم داده آموزش: 716 نمونه\n",
      "حجم داده تست: (180, 7) نمونه\n"
     ]
    }
   ],
   "source": [
    "from sklearn.model_selection import train_test_split\n",
    "\n",
    "X_train, X_test, y_train, y_test = train_test_split(\n",
    "    X, y, test_size=0.2, random_state=42, stratify=y\n",
    ")\n",
    "\n",
    "print(f\"حجم داده آموزش: {X_train.shape[0]} نمونه\")\n",
    "print(f\"حجم داده تست: {X_test.shape} نمونه\")\n"
   ]
  },
  {
   "cell_type": "code",
   "execution_count": 5,
   "id": "7fdf55f0-4617-4e28-8955-3b9106e8fc1e",
   "metadata": {},
   "outputs": [],
   "source": [
    "from sklearn.tree import DecisionTreeClassifier\n",
    "\n",
    "model = DecisionTreeClassifier(max_depth=15, random_state=42)\n"
   ]
  },
  {
   "cell_type": "code",
   "execution_count": 6,
   "id": "715afbbb-6e3d-4288-92a5-7e3c379020a4",
   "metadata": {},
   "outputs": [
    {
     "name": "stdout",
     "output_type": "stream",
     "text": [
      "زمان آموزش: 0.081 ثانیه\n"
     ]
    }
   ],
   "source": [
    "import time\n",
    "\n",
    "start_time = time.time()\n",
    "model.fit(X_train, y_train)\n",
    "fit_time = time.time() - start_time\n",
    "\n",
    "print(f\"زمان آموزش: {fit_time:.3f} ثانیه\")\n"
   ]
  },
  {
   "cell_type": "code",
   "execution_count": 8,
   "id": "4f024900-bd65-47fc-8b6d-5baba3b27b1b",
   "metadata": {},
   "outputs": [
    {
     "name": "stdout",
     "output_type": "stream",
     "text": [
      "دقت روی داده تست: 0.7556\n"
     ]
    }
   ],
   "source": [
    "y_pred = model.predict(X_test)\n",
    "from sklearn.metrics import accuracy_score\n",
    "\n",
    "accuracy = accuracy_score(y_test, y_pred)\n",
    "print(f\"دقت روی داده تست: {accuracy:.4f}\")\n"
   ]
  }
 ],
 "metadata": {
  "kernelspec": {
   "display_name": "Python 3 (ipykernel)",
   "language": "python",
   "name": "python3"
  },
  "language_info": {
   "codemirror_mode": {
    "name": "ipython",
    "version": 3
   },
   "file_extension": ".py",
   "mimetype": "text/x-python",
   "name": "python",
   "nbconvert_exporter": "python",
   "pygments_lexer": "ipython3",
   "version": "3.12.0"
  }
 },
 "nbformat": 4,
 "nbformat_minor": 5
}
