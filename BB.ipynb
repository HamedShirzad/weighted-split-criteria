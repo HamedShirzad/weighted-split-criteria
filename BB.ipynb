{
 "cells": [
  {
   "cell_type": "code",
   "execution_count": 5,
   "id": "09a1b539-96b9-4aab-b3c3-77eafb35bf94",
   "metadata": {},
   "outputs": [
    {
     "name": "stdout",
     "output_type": "stream",
     "text": [
      "مسیرهای پایتون: ['C:\\\\Users\\\\HsH-HsH\\\\weighted_split_criteria\\\\src\\\\model', 'C:\\\\Users\\\\HsH-HsH\\\\weighted_split_criteria', 'C:\\\\Users\\\\HsH-HsH\\\\weighted_split_criteria\\n', 'C:\\\\Users\\\\HsH-HsH\\\\AppData\\\\Local\\\\Programs\\\\Python\\\\Python312\\\\python312.zip', 'C:\\\\Users\\\\HsH-HsH\\\\AppData\\\\Local\\\\Programs\\\\Python\\\\Python312\\\\DLLs', 'C:\\\\Users\\\\HsH-HsH\\\\AppData\\\\Local\\\\Programs\\\\Python\\\\Python312\\\\Lib', 'C:\\\\Users\\\\HsH-HsH\\\\AppData\\\\Local\\\\Programs\\\\Python\\\\Python312', '', 'C:\\\\Users\\\\HsH-HsH\\\\AppData\\\\Local\\\\Programs\\\\Python\\\\Python312\\\\Lib\\\\site-packages', 'C:\\\\Users\\\\HsH-HsH\\\\AppData\\\\Local\\\\Programs\\\\Python\\\\Python312\\\\Lib\\\\site-packages\\\\win32', 'C:\\\\Users\\\\HsH-HsH\\\\AppData\\\\Local\\\\Programs\\\\Python\\\\Python312\\\\Lib\\\\site-packages\\\\win32\\\\lib', 'C:\\\\Users\\\\HsH-HsH\\\\AppData\\\\Local\\\\Programs\\\\Python\\\\Python312\\\\Lib\\\\site-packages\\\\Pythonwin']\n"
     ]
    }
   ],
   "source": [
    "import sys\n",
    "import pandas as pd\n",
    "import numpy as np\n",
    "\n",
    "# اضافه کردن مسیر پوشه model به sys.path برای دسترسی به weighted_decision_tree.py\n",
    "sys.path.insert(0, r\"C:\\Users\\HsH-HsH\\weighted_split_criteria\\src\\model\")\n",
    "\n",
    "print(\"مسیرهای پایتون:\", sys.path)  # برای اطمینان از اضافه شدن مسیر\n"
   ]
  },
  {
   "cell_type": "code",
   "execution_count": null,
   "id": "892a4b02-071a-4948-8a72-8a3275a20b03",
   "metadata": {},
   "outputs": [],
   "source": [
    "# سلول دوم: بارگذاری داده و آماده‌سازی آن\n",
    "\n",
    "import pandas as pd\n",
    "import numpy as np\n",
    "from sklearn.model_selection import train_test_split\n",
    "\n",
    "# مسیر فایل داده\n",
    "data_path = r\"C:\\Users\\HsH-HsH\\weighted_split_criteria\\notebooks\\datasets\\customer_churn_data_preprocessed.csv\"\n",
    "\n",
    "# بارگذاری دیتا\n",
    "df = pd.read_csv(data_path)\n",
    "\n",
    "# تعریف ستون هدف\n",
    "target_col = 'Churn'\n",
    "\n",
    "# جداسازی ویژگی‌ها و هدف\n",
    "X = df.drop(columns=[target_col])\n",
    "y = df[target_col]\n",
    "\n",
    "# تقسیم داده به آموزش و تست\n",
    "X_train, X_test, y_train, y_test = train_test_split(X, y, test_size=0.2, random_state=42)\n",
    "\n",
    "# تبدیل داده‌های غیرعددی به عددی با one-hot encoding\n",
    "X_train_encoded = pd.get_dummies(X_train, drop_first=True)\n",
    "X_test_encoded = pd.get_dummies(X_test, drop_first=True)\n",
    "\n",
    "# اطمینان از همسانی ستون‌ها بین آموزش و تست\n",
    "X_test_encoded = X_test_encoded.reindex(columns=X_train_encoded.columns, fill_value=0)\n",
    "\n",
    "# تبدیل به numpy array با نوع float برای جلوگیری از ارور np.isnan\n",
    "X_train_array = X_train_encoded.values.astype(float)\n",
    "X_test_array = X_test_encoded.values.astype(float)\n",
    "y_train_array = y_train.values\n",
    "y_test_array = y_test.values\n",
    "\n",
    "print(f\"اندازه داده آموزش: {X_train_array.shape}, نوع داده: {X_train_array.dtype}\")\n",
    "print(f\"اندازه داده تست: {X_test_array.shape}, نوع داده: {X_test_array.dtype}\")\n"
   ]
  },
  {
   "cell_type": "code",
   "execution_count": null,
   "id": "4f75b795-0939-417b-8a74-49cbe90fb04c",
   "metadata": {},
   "outputs": [],
   "source": [
    "import sys\n",
    "\n",
    "sys.path.insert(0, r\"C:\\Users\\HsH-HsH\\weighted_split_criteria\\src\")\n",
    "sys.path.insert(0, r\"C:\\Users\\HsH-HsH\\weighted_split_criteria\\src\\model\")\n",
    "\n",
    "print(\"مسیرهای src و model به sys.path اضافه شدند.\")\n"
   ]
  },
  {
   "cell_type": "code",
   "execution_count": 4,
   "id": "f6be4288-8e76-4aa1-9c33-53fb2135e488",
   "metadata": {},
   "outputs": [
    {
     "name": "stdout",
     "output_type": "stream",
     "text": [
      "کلاس WeightedDecisionTreeModel با موفقیت ایمپورت شد.\n"
     ]
    }
   ],
   "source": [
    "from weighted_decision_tree import WeightedDecisionTreeModel\n",
    "print(\"کلاس WeightedDecisionTreeModel با موفقیت ایمپورت شد.\")\n"
   ]
  },
  {
   "cell_type": "code",
   "execution_count": 5,
   "id": "419ac31b-b422-4eab-ba59-0ab16896d7f0",
   "metadata": {},
   "outputs": [
    {
     "name": "stdout",
     "output_type": "stream",
     "text": [
      "نمونه مدل با داده‌های آماده ساخته شد.\n"
     ]
    }
   ],
   "source": [
    "model = WeightedDecisionTreeModel(X_data=X_train_array)\n",
    "print(\"نمونه مدل با داده‌های آماده ساخته شد.\")\n"
   ]
  },
  {
   "cell_type": "code",
   "execution_count": 2,
   "id": "66bb1349-581a-4025-bbdc-1c45f99311c5",
   "metadata": {},
   "outputs": [],
   "source": [
    "# تبدیل گونه‌های بولی به عددی 0 و 1\n",
    "bool_cols = [\"Gender_female\", \"Gender_male\", \"Payment Method_cash\", \"Payment Method_cheque\", \"Payment Method_credit card\"]\n",
    "df[bool_cols] = df[bool_cols].astype(int)\n"
   ]
  },
  {
   "cell_type": "code",
   "execution_count": 3,
   "id": "c52a858f-7994-45a9-8db3-d24731b3fdda",
   "metadata": {},
   "outputs": [
    {
     "name": "stdout",
     "output_type": "stream",
     "text": [
      "دیتاست اصلاح شده به فایل sample_dataset_30_numeric.csv ذخیره شد.\n"
     ]
    }
   ],
   "source": [
    "# تبدیل داده‌های بولی به عددی 0 و 1\n",
    "bool_cols = [\"Gender_female\", \"Gender_male\", \"Payment Method_cash\", \"Payment Method_cheque\", \"Payment Method_credit card\"]\n",
    "df[bool_cols] = df[bool_cols].astype(int)\n",
    "\n",
    "# ذخیره دیتافریم به فایل CSV\n",
    "df.to_csv(\"sample_dataset_30_numeric.csv\", index=False)\n",
    "\n",
    "print(\"دیتاست اصلاح شده به فایل sample_dataset_30_numeric.csv ذخیره شد.\")\n"
   ]
  },
  {
   "cell_type": "code",
   "execution_count": null,
   "id": "ee3dc64c-99c0-40c9-ad44-acf000a0b214",
   "metadata": {},
   "outputs": [],
   "source": []
  }
 ],
 "metadata": {
  "kernelspec": {
   "display_name": "Python 3 (ipykernel)",
   "language": "python",
   "name": "python3"
  },
  "language_info": {
   "codemirror_mode": {
    "name": "ipython",
    "version": 3
   },
   "file_extension": ".py",
   "mimetype": "text/x-python",
   "name": "python",
   "nbconvert_exporter": "python",
   "pygments_lexer": "ipython3",
   "version": "3.12.0"
  }
 },
 "nbformat": 4,
 "nbformat_minor": 5
}
